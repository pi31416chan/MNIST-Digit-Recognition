{
 "cells": [
  {
   "cell_type": "markdown",
   "id": "aa8c2ce9-4707-43c6-ba51-e40e4c399f42",
   "metadata": {},
   "source": [
    "# MNIST Digits Classifier (Chapter 3 Exercises)"
   ]
  },
  {
   "cell_type": "markdown",
   "id": "5da5859c-2bc8-4543-a1bc-4ad61fc4c9d7",
   "metadata": {},
   "source": [
    "## Imports"
   ]
  },
  {
   "cell_type": "code",
   "execution_count": 891,
   "id": "63e7ee7f-949d-4159-bd21-8d075d7424e1",
   "metadata": {},
   "outputs": [],
   "source": [
    "import pandas as pd\n",
    "import numpy as np\n",
    "import matplotlib.pyplot as plt\n",
    "%matplotlib inline\n",
    "import joblib\n",
    "from sklearn.neighbors import KNeighborsClassifier\n",
    "from sklearn.metrics import accuracy_score,precision_score,recall_score,\\\n",
    "                            ConfusionMatrixDisplay,DetCurveDisplay,f1_score,\\\n",
    "                            RocCurveDisplay,confusion_matrix\n",
    "from sklearn.model_selection import train_test_split,cross_val_score,GridSearchCV\n",
    "from sklearn.preprocessing import StandardScaler,MinMaxScaler\n",
    "from sklearn.pipeline import Pipeline\n",
    "from sklearn.base import TransformerMixin,_OneToOneFeatureMixin,BaseEstimator,clone\n",
    "from scipy.ndimage import shift\n",
    "from mltoolkit import dump_model"
   ]
  },
  {
   "cell_type": "markdown",
   "id": "b575ff90-4a05-42a5-be47-ce91089f97a5",
   "metadata": {},
   "source": [
    "## Classes"
   ]
  },
  {
   "cell_type": "code",
   "execution_count": 872,
   "id": "fa4a1fc5-6267-4ec9-9f0b-32fe62cec53f",
   "metadata": {},
   "outputs": [],
   "source": [
    "class MyScaler(_OneToOneFeatureMixin,TransformerMixin,BaseEstimator):\n",
    "    def __init__(self,scalertype:str=None):\n",
    "        '''\n",
    "        scalertype: str | {'std','minmax','skip'}, Default: None\n",
    "        specifying the scaler to transform the data\n",
    "        '''\n",
    "        if scalertype: \n",
    "            if scalertype in ['std','minmax','skip']:\n",
    "                self.scalertype = scalertype\n",
    "            else:\n",
    "                raise ValueError('Specify scaler correctly. Options:{\"std\",\"minmax\",\"skip\"}')\n",
    "        else: self.scalertype = None\n",
    "    def fit(self,X,y=None,scalertype:str=None):\n",
    "        '''\n",
    "        scalertype: str | {'std','minmax','skip'}, Default: None\n",
    "        specifying the scaler to transform the data\n",
    "        '''\n",
    "        if scalertype:\n",
    "            if self.scalertype != scalertype:\n",
    "                self.scalertype = scalertype\n",
    "        if self.scalertype == 'std':\n",
    "            self.scaler = StandardScaler()\n",
    "        elif self.scalertype == 'minmax':\n",
    "            self.scaler = MinMaxScaler()\n",
    "        elif self.scalertype == 'skip':\n",
    "            return self\n",
    "        else:\n",
    "            raise ValueError('Specify scaler correctly. Options:{\"std\",\"minmax\",\"skip\"}')\n",
    "        return self\n",
    "    def transform(self,X,scalertype:str=None):\n",
    "        '''\n",
    "        scalertype: str | {'std','minmax'}, Default: None\n",
    "        specifying the scaler to transform the data\n",
    "        '''\n",
    "        if scalertype:\n",
    "            if self.scalertype != scalertype:\n",
    "                self.scalertype = scalertype\n",
    "        if self.scalertype == 'std':\n",
    "            self.scaler = StandardScaler()\n",
    "        elif self.scalertype == 'minmax':\n",
    "            self.scaler = MinMaxScaler()\n",
    "        elif self.scalertype == 'skip':\n",
    "            if type(X) == pd.DataFrame:\n",
    "                return X.values\n",
    "            elif type(X) == np.ndarray:\n",
    "                return X\n",
    "        else:\n",
    "            raise ValueError('Specify scaler correctly. Options:{\"std\",\"minmax\",\"skip\"}')\n",
    "        return self.scaler.fit_transform(X)"
   ]
  },
  {
   "cell_type": "markdown",
   "id": "450a3186-2f3f-41ee-82e4-5688c3ee402d",
   "metadata": {},
   "source": [
    "## Loading Datasets"
   ]
  },
  {
   "cell_type": "code",
   "execution_count": 36,
   "id": "8ce51e48-5593-4527-8354-bc9550f0ffb2",
   "metadata": {},
   "outputs": [
    {
     "data": {
      "text/plain": [
       "['Datasets\\\\MNIST 784 rawdata.pkl']"
      ]
     },
     "execution_count": 36,
     "metadata": {},
     "output_type": "execute_result"
    }
   ],
   "source": [
    "loadingpath = \"Datasets\\\\\"\n",
    "joblib.dump(rawdata,loadingpath+'MNIST 784 rawdata.pkl',9)"
   ]
  },
  {
   "cell_type": "markdown",
   "id": "8edb9218-d911-4d77-ac9a-de99e13985f1",
   "metadata": {},
   "source": [
    "## Preparing Datasets"
   ]
  },
  {
   "cell_type": "code",
   "execution_count": 37,
   "id": "8a27d365-6fb3-4f6c-b461-cddd42467fd7",
   "metadata": {},
   "outputs": [],
   "source": [
    "X_train,X_test,y_train,y_test = train_test_split(rawdata['data'],rawdata['target'],\n",
    "                                                 test_size=10000,train_size=60000,\n",
    "                                                 random_state=42,stratify=rawdata['target'])"
   ]
  },
  {
   "cell_type": "code",
   "execution_count": 41,
   "id": "34ff4d4c-acac-4f25-9c55-3554ce3adfb7",
   "metadata": {},
   "outputs": [],
   "source": [
    "y_train = y_train.astype(np.uint8)\n",
    "y_test = y_test.astype(np.uint8)"
   ]
  },
  {
   "cell_type": "markdown",
   "id": "79cc2d4b-5280-4253-a28b-75bbba035016",
   "metadata": {},
   "source": [
    "## Saving Datasets"
   ]
  },
  {
   "cell_type": "code",
   "execution_count": 46,
   "id": "ad7caf64-9c0e-4752-8283-59135642999c",
   "metadata": {},
   "outputs": [
    {
     "data": {
      "text/plain": [
       "['Datasets\\\\y_test.pkl']"
      ]
     },
     "execution_count": 46,
     "metadata": {},
     "output_type": "execute_result"
    }
   ],
   "source": [
    "savingpath = \"Datasets\\\\\"\n",
    "joblib.dump(X_train,savingpath+\"X_train.pkl\",9)\n",
    "joblib.dump(y_train,savingpath+\"y_train.pkl\",9)\n",
    "joblib.dump(X_test,savingpath+\"X_test.pkl\",9)\n",
    "joblib.dump(y_test,savingpath+\"y_test.pkl\",9)"
   ]
  },
  {
   "cell_type": "code",
   "execution_count": 47,
   "id": "72c6ef8e-2f2e-40df-b696-ae645339fa49",
   "metadata": {},
   "outputs": [],
   "source": [
    "del rawdata"
   ]
  },
  {
   "cell_type": "markdown",
   "id": "7ba52fda-f747-4706-b74d-ab6cd27a510b",
   "metadata": {},
   "source": [
    "## Exploring Data"
   ]
  },
  {
   "cell_type": "code",
   "execution_count": 55,
   "id": "82ce4c08-de43-4de6-91dc-78accf0b3b45",
   "metadata": {},
   "outputs": [
    {
     "name": "stdout",
     "output_type": "stream",
     "text": [
      "<class 'pandas.core.frame.DataFrame'>\n",
      "Int64Index: 60000 entries, 41086 to 25906\n",
      "Columns: 784 entries, pixel1 to pixel784\n",
      "dtypes: float64(784)\n",
      "memory usage: 359.3 MB\n"
     ]
    }
   ],
   "source": [
    "X_train.info(show_counts=True)"
   ]
  },
  {
   "cell_type": "code",
   "execution_count": 388,
   "id": "52ed2884-f0af-4e00-8258-4def853123d3",
   "metadata": {},
   "outputs": [
    {
     "name": "stdout",
     "output_type": "stream",
     "text": [
      "<class 'pandas.core.series.Series'>\n",
      "Int64Index: 60000 entries, 41086 to 25906\n",
      "Series name: class\n",
      "Non-Null Count  Dtype\n",
      "--------------  -----\n",
      "60000 non-null  uint8\n",
      "dtypes: uint8(1)\n",
      "memory usage: 527.3 KB\n"
     ]
    }
   ],
   "source": [
    "y_train.info(show_counts=True)"
   ]
  },
  {
   "cell_type": "markdown",
   "id": "76a4dbf3-1e92-429e-b152-57442688db2f",
   "metadata": {},
   "source": [
    "## K-Nearest Neighbors Classifier"
   ]
  },
  {
   "cell_type": "code",
   "execution_count": 397,
   "id": "bce54b40-8ace-4d42-9d5d-7c615611f3fb",
   "metadata": {},
   "outputs": [],
   "source": [
    "mnist_knn = KNeighborsClassifier()"
   ]
  },
  {
   "cell_type": "code",
   "execution_count": 385,
   "id": "8ea60695-be57-4ada-9045-c5ad74bc4817",
   "metadata": {},
   "outputs": [
    {
     "data": {
      "text/html": [
       "<style>#sk-container-id-13 {color: black;background-color: white;}#sk-container-id-13 pre{padding: 0;}#sk-container-id-13 div.sk-toggleable {background-color: white;}#sk-container-id-13 label.sk-toggleable__label {cursor: pointer;display: block;width: 100%;margin-bottom: 0;padding: 0.3em;box-sizing: border-box;text-align: center;}#sk-container-id-13 label.sk-toggleable__label-arrow:before {content: \"▸\";float: left;margin-right: 0.25em;color: #696969;}#sk-container-id-13 label.sk-toggleable__label-arrow:hover:before {color: black;}#sk-container-id-13 div.sk-estimator:hover label.sk-toggleable__label-arrow:before {color: black;}#sk-container-id-13 div.sk-toggleable__content {max-height: 0;max-width: 0;overflow: hidden;text-align: left;background-color: #f0f8ff;}#sk-container-id-13 div.sk-toggleable__content pre {margin: 0.2em;color: black;border-radius: 0.25em;background-color: #f0f8ff;}#sk-container-id-13 input.sk-toggleable__control:checked~div.sk-toggleable__content {max-height: 200px;max-width: 100%;overflow: auto;}#sk-container-id-13 input.sk-toggleable__control:checked~label.sk-toggleable__label-arrow:before {content: \"▾\";}#sk-container-id-13 div.sk-estimator input.sk-toggleable__control:checked~label.sk-toggleable__label {background-color: #d4ebff;}#sk-container-id-13 div.sk-label input.sk-toggleable__control:checked~label.sk-toggleable__label {background-color: #d4ebff;}#sk-container-id-13 input.sk-hidden--visually {border: 0;clip: rect(1px 1px 1px 1px);clip: rect(1px, 1px, 1px, 1px);height: 1px;margin: -1px;overflow: hidden;padding: 0;position: absolute;width: 1px;}#sk-container-id-13 div.sk-estimator {font-family: monospace;background-color: #f0f8ff;border: 1px dotted black;border-radius: 0.25em;box-sizing: border-box;margin-bottom: 0.5em;}#sk-container-id-13 div.sk-estimator:hover {background-color: #d4ebff;}#sk-container-id-13 div.sk-parallel-item::after {content: \"\";width: 100%;border-bottom: 1px solid gray;flex-grow: 1;}#sk-container-id-13 div.sk-label:hover label.sk-toggleable__label {background-color: #d4ebff;}#sk-container-id-13 div.sk-serial::before {content: \"\";position: absolute;border-left: 1px solid gray;box-sizing: border-box;top: 0;bottom: 0;left: 50%;z-index: 0;}#sk-container-id-13 div.sk-serial {display: flex;flex-direction: column;align-items: center;background-color: white;padding-right: 0.2em;padding-left: 0.2em;position: relative;}#sk-container-id-13 div.sk-item {position: relative;z-index: 1;}#sk-container-id-13 div.sk-parallel {display: flex;align-items: stretch;justify-content: center;background-color: white;position: relative;}#sk-container-id-13 div.sk-item::before, #sk-container-id-13 div.sk-parallel-item::before {content: \"\";position: absolute;border-left: 1px solid gray;box-sizing: border-box;top: 0;bottom: 0;left: 50%;z-index: -1;}#sk-container-id-13 div.sk-parallel-item {display: flex;flex-direction: column;z-index: 1;position: relative;background-color: white;}#sk-container-id-13 div.sk-parallel-item:first-child::after {align-self: flex-end;width: 50%;}#sk-container-id-13 div.sk-parallel-item:last-child::after {align-self: flex-start;width: 50%;}#sk-container-id-13 div.sk-parallel-item:only-child::after {width: 0;}#sk-container-id-13 div.sk-dashed-wrapped {border: 1px dashed gray;margin: 0 0.4em 0.5em 0.4em;box-sizing: border-box;padding-bottom: 0.4em;background-color: white;}#sk-container-id-13 div.sk-label label {font-family: monospace;font-weight: bold;display: inline-block;line-height: 1.2em;}#sk-container-id-13 div.sk-label-container {text-align: center;}#sk-container-id-13 div.sk-container {/* jupyter's `normalize.less` sets `[hidden] { display: none; }` but bootstrap.min.css set `[hidden] { display: none !important; }` so we also need the `!important` here to be able to override the default hidden behavior on the sphinx rendered scikit-learn.org. See: https://github.com/scikit-learn/scikit-learn/issues/21755 */display: inline-block !important;position: relative;}#sk-container-id-13 div.sk-text-repr-fallback {display: none;}</style><div id=\"sk-container-id-13\" class=\"sk-top-container\"><div class=\"sk-text-repr-fallback\"><pre>KNeighborsClassifier()</pre><b>In a Jupyter environment, please rerun this cell to show the HTML representation or trust the notebook. <br />On GitHub, the HTML representation is unable to render, please try loading this page with nbviewer.org.</b></div><div class=\"sk-container\" hidden><div class=\"sk-item\"><div class=\"sk-estimator sk-toggleable\"><input class=\"sk-toggleable__control sk-hidden--visually\" id=\"sk-estimator-id-17\" type=\"checkbox\" checked><label for=\"sk-estimator-id-17\" class=\"sk-toggleable__label sk-toggleable__label-arrow\">KNeighborsClassifier</label><div class=\"sk-toggleable__content\"><pre>KNeighborsClassifier()</pre></div></div></div></div></div>"
      ],
      "text/plain": [
       "KNeighborsClassifier()"
      ]
     },
     "execution_count": 385,
     "metadata": {},
     "output_type": "execute_result"
    }
   ],
   "source": [
    "mnist_knn.fit(X_train,y_train)"
   ]
  },
  {
   "cell_type": "code",
   "execution_count": 386,
   "id": "bc23e709-01ed-4cf0-9235-da6afa0b214b",
   "metadata": {},
   "outputs": [
    {
     "data": {
      "text/plain": [
       "0.98145"
      ]
     },
     "execution_count": 386,
     "metadata": {},
     "output_type": "execute_result"
    }
   ],
   "source": [
    "mnist_knn.score(X_train,y_train)"
   ]
  },
  {
   "cell_type": "code",
   "execution_count": 387,
   "id": "b952e0d4-4cbf-4961-bf58-dc0acafb1182",
   "metadata": {},
   "outputs": [
    {
     "data": {
      "text/plain": [
       "0.9717"
      ]
     },
     "execution_count": 387,
     "metadata": {},
     "output_type": "execute_result"
    }
   ],
   "source": [
    "mnist_knn.score(X_test,y_test)"
   ]
  },
  {
   "cell_type": "markdown",
   "id": "5a540890-9849-4d90-b307-8a13b967a819",
   "metadata": {},
   "source": [
    "We can achieve at 97% accuracy with test dataset even without tuning the hyperparameters.\\\n",
    "The trained model seems to be not overfitting nor underfitting."
   ]
  },
  {
   "cell_type": "markdown",
   "id": "d5b77ad0-8f63-435f-83db-5ef4ad5d4879",
   "metadata": {},
   "source": [
    "### Pipeline"
   ]
  },
  {
   "cell_type": "markdown",
   "id": "dca54459-1af7-4d18-9084-1df8aebcb012",
   "metadata": {},
   "source": [
    "We will still perform a grid search on the K-Nearest Neighbors algorithm to see if there's any chance of improving its performance."
   ]
  },
  {
   "cell_type": "markdown",
   "id": "9cc618d2-73f6-4feb-a7f0-59c201d6584f",
   "metadata": {},
   "source": [
    "Since the rawdata is already clean enough, we just need to provide a optional scaler in the pipeline.\\\n",
    "We will try later in grid search to see whether which is the best option in 'no scaling', 'standard scaling' and 'minmax scaling'."
   ]
  },
  {
   "cell_type": "code",
   "execution_count": 875,
   "id": "3c462069-8a7e-41bb-9515-05ad1631a875",
   "metadata": {},
   "outputs": [],
   "source": [
    "mnist_pipeline = Pipeline([\n",
    "    ('scaler',MyScaler('skip')),\n",
    "    ('knn',KNeighborsClassifier())\n",
    "])"
   ]
  },
  {
   "cell_type": "code",
   "execution_count": 874,
   "id": "9503a0b6-68f1-4c74-b83d-404f660bdd65",
   "metadata": {},
   "outputs": [
    {
     "data": {
      "text/plain": [
       "{'memory': None,\n",
       " 'steps': [('scaler', MyScaler(scalertype='skip')),\n",
       "  ('knn', KNeighborsClassifier())],\n",
       " 'verbose': False,\n",
       " 'scaler': MyScaler(scalertype='skip'),\n",
       " 'knn': KNeighborsClassifier(),\n",
       " 'scaler__scalertype': 'skip',\n",
       " 'knn__algorithm': 'auto',\n",
       " 'knn__leaf_size': 30,\n",
       " 'knn__metric': 'minkowski',\n",
       " 'knn__metric_params': None,\n",
       " 'knn__n_jobs': None,\n",
       " 'knn__n_neighbors': 5,\n",
       " 'knn__p': 2,\n",
       " 'knn__weights': 'uniform'}"
      ]
     },
     "execution_count": 874,
     "metadata": {},
     "output_type": "execute_result"
    }
   ],
   "source": [
    "mnist_pipeline.get_params()"
   ]
  },
  {
   "cell_type": "markdown",
   "id": "cff45242-97fa-40a2-8944-0453d95f2da9",
   "metadata": {},
   "source": [
    "Due to the lack of computing resources, I will perform the grid search on each hyperparameter separately instead of testing all permutations between all required hyperparameters."
   ]
  },
  {
   "cell_type": "code",
   "execution_count": 398,
   "id": "de82cf0b-369f-4579-af84-caafe6a2d293",
   "metadata": {},
   "outputs": [],
   "source": [
    "param_grid = [\n",
    "    {\"scaler__scalertype\":['skip','std','minmax']},\n",
    "    {\"knn__weights\":['uniform', 'distance']},\n",
    "    {\"knn__n_neighbors\":[x for x in range(1,11) if x%2 == 1]},\n",
    "]"
   ]
  },
  {
   "cell_type": "code",
   "execution_count": 422,
   "id": "d809b759-d732-408a-a5cb-460d0a2661a1",
   "metadata": {},
   "outputs": [],
   "source": [
    "mnist_knn_grid = GridSearchCV(mnist_pipeline,param_grid,scoring='accuracy',refit=False,cv=4)"
   ]
  },
  {
   "cell_type": "code",
   "execution_count": 423,
   "id": "27b4b9cd-bfe3-43db-afa8-d0ad326d88d8",
   "metadata": {},
   "outputs": [
    {
     "data": {
      "text/html": [
       "<style>#sk-container-id-15 {color: black;background-color: white;}#sk-container-id-15 pre{padding: 0;}#sk-container-id-15 div.sk-toggleable {background-color: white;}#sk-container-id-15 label.sk-toggleable__label {cursor: pointer;display: block;width: 100%;margin-bottom: 0;padding: 0.3em;box-sizing: border-box;text-align: center;}#sk-container-id-15 label.sk-toggleable__label-arrow:before {content: \"▸\";float: left;margin-right: 0.25em;color: #696969;}#sk-container-id-15 label.sk-toggleable__label-arrow:hover:before {color: black;}#sk-container-id-15 div.sk-estimator:hover label.sk-toggleable__label-arrow:before {color: black;}#sk-container-id-15 div.sk-toggleable__content {max-height: 0;max-width: 0;overflow: hidden;text-align: left;background-color: #f0f8ff;}#sk-container-id-15 div.sk-toggleable__content pre {margin: 0.2em;color: black;border-radius: 0.25em;background-color: #f0f8ff;}#sk-container-id-15 input.sk-toggleable__control:checked~div.sk-toggleable__content {max-height: 200px;max-width: 100%;overflow: auto;}#sk-container-id-15 input.sk-toggleable__control:checked~label.sk-toggleable__label-arrow:before {content: \"▾\";}#sk-container-id-15 div.sk-estimator input.sk-toggleable__control:checked~label.sk-toggleable__label {background-color: #d4ebff;}#sk-container-id-15 div.sk-label input.sk-toggleable__control:checked~label.sk-toggleable__label {background-color: #d4ebff;}#sk-container-id-15 input.sk-hidden--visually {border: 0;clip: rect(1px 1px 1px 1px);clip: rect(1px, 1px, 1px, 1px);height: 1px;margin: -1px;overflow: hidden;padding: 0;position: absolute;width: 1px;}#sk-container-id-15 div.sk-estimator {font-family: monospace;background-color: #f0f8ff;border: 1px dotted black;border-radius: 0.25em;box-sizing: border-box;margin-bottom: 0.5em;}#sk-container-id-15 div.sk-estimator:hover {background-color: #d4ebff;}#sk-container-id-15 div.sk-parallel-item::after {content: \"\";width: 100%;border-bottom: 1px solid gray;flex-grow: 1;}#sk-container-id-15 div.sk-label:hover label.sk-toggleable__label {background-color: #d4ebff;}#sk-container-id-15 div.sk-serial::before {content: \"\";position: absolute;border-left: 1px solid gray;box-sizing: border-box;top: 0;bottom: 0;left: 50%;z-index: 0;}#sk-container-id-15 div.sk-serial {display: flex;flex-direction: column;align-items: center;background-color: white;padding-right: 0.2em;padding-left: 0.2em;position: relative;}#sk-container-id-15 div.sk-item {position: relative;z-index: 1;}#sk-container-id-15 div.sk-parallel {display: flex;align-items: stretch;justify-content: center;background-color: white;position: relative;}#sk-container-id-15 div.sk-item::before, #sk-container-id-15 div.sk-parallel-item::before {content: \"\";position: absolute;border-left: 1px solid gray;box-sizing: border-box;top: 0;bottom: 0;left: 50%;z-index: -1;}#sk-container-id-15 div.sk-parallel-item {display: flex;flex-direction: column;z-index: 1;position: relative;background-color: white;}#sk-container-id-15 div.sk-parallel-item:first-child::after {align-self: flex-end;width: 50%;}#sk-container-id-15 div.sk-parallel-item:last-child::after {align-self: flex-start;width: 50%;}#sk-container-id-15 div.sk-parallel-item:only-child::after {width: 0;}#sk-container-id-15 div.sk-dashed-wrapped {border: 1px dashed gray;margin: 0 0.4em 0.5em 0.4em;box-sizing: border-box;padding-bottom: 0.4em;background-color: white;}#sk-container-id-15 div.sk-label label {font-family: monospace;font-weight: bold;display: inline-block;line-height: 1.2em;}#sk-container-id-15 div.sk-label-container {text-align: center;}#sk-container-id-15 div.sk-container {/* jupyter's `normalize.less` sets `[hidden] { display: none; }` but bootstrap.min.css set `[hidden] { display: none !important; }` so we also need the `!important` here to be able to override the default hidden behavior on the sphinx rendered scikit-learn.org. See: https://github.com/scikit-learn/scikit-learn/issues/21755 */display: inline-block !important;position: relative;}#sk-container-id-15 div.sk-text-repr-fallback {display: none;}</style><div id=\"sk-container-id-15\" class=\"sk-top-container\"><div class=\"sk-text-repr-fallback\"><pre>GridSearchCV(cv=4,\n",
       "             estimator=Pipeline(steps=[(&#x27;scaler&#x27;, MyScaler(scalertype=&#x27;skip&#x27;)),\n",
       "                                       (&#x27;knn&#x27;, KNeighborsClassifier())]),\n",
       "             param_grid=[{&#x27;scaler__scalertype&#x27;: [&#x27;skip&#x27;, &#x27;std&#x27;, &#x27;minmax&#x27;]},\n",
       "                         {&#x27;knn__weights&#x27;: [&#x27;uniform&#x27;, &#x27;distance&#x27;]},\n",
       "                         {&#x27;knn__n_neighbors&#x27;: [1, 3, 5, 7, 9]}],\n",
       "             refit=False, scoring=&#x27;accuracy&#x27;)</pre><b>In a Jupyter environment, please rerun this cell to show the HTML representation or trust the notebook. <br />On GitHub, the HTML representation is unable to render, please try loading this page with nbviewer.org.</b></div><div class=\"sk-container\" hidden><div class=\"sk-item sk-dashed-wrapped\"><div class=\"sk-label-container\"><div class=\"sk-label sk-toggleable\"><input class=\"sk-toggleable__control sk-hidden--visually\" id=\"sk-estimator-id-20\" type=\"checkbox\" ><label for=\"sk-estimator-id-20\" class=\"sk-toggleable__label sk-toggleable__label-arrow\">GridSearchCV</label><div class=\"sk-toggleable__content\"><pre>GridSearchCV(cv=4,\n",
       "             estimator=Pipeline(steps=[(&#x27;scaler&#x27;, MyScaler(scalertype=&#x27;skip&#x27;)),\n",
       "                                       (&#x27;knn&#x27;, KNeighborsClassifier())]),\n",
       "             param_grid=[{&#x27;scaler__scalertype&#x27;: [&#x27;skip&#x27;, &#x27;std&#x27;, &#x27;minmax&#x27;]},\n",
       "                         {&#x27;knn__weights&#x27;: [&#x27;uniform&#x27;, &#x27;distance&#x27;]},\n",
       "                         {&#x27;knn__n_neighbors&#x27;: [1, 3, 5, 7, 9]}],\n",
       "             refit=False, scoring=&#x27;accuracy&#x27;)</pre></div></div></div><div class=\"sk-parallel\"><div class=\"sk-parallel-item\"><div class=\"sk-item\"><div class=\"sk-label-container\"><div class=\"sk-label sk-toggleable\"><input class=\"sk-toggleable__control sk-hidden--visually\" id=\"sk-estimator-id-21\" type=\"checkbox\" ><label for=\"sk-estimator-id-21\" class=\"sk-toggleable__label sk-toggleable__label-arrow\">estimator: Pipeline</label><div class=\"sk-toggleable__content\"><pre>Pipeline(steps=[(&#x27;scaler&#x27;, MyScaler(scalertype=&#x27;skip&#x27;)),\n",
       "                (&#x27;knn&#x27;, KNeighborsClassifier())])</pre></div></div></div><div class=\"sk-serial\"><div class=\"sk-item\"><div class=\"sk-serial\"><div class=\"sk-item\"><div class=\"sk-estimator sk-toggleable\"><input class=\"sk-toggleable__control sk-hidden--visually\" id=\"sk-estimator-id-22\" type=\"checkbox\" ><label for=\"sk-estimator-id-22\" class=\"sk-toggleable__label sk-toggleable__label-arrow\">MyScaler</label><div class=\"sk-toggleable__content\"><pre>MyScaler(scalertype=&#x27;skip&#x27;)</pre></div></div></div><div class=\"sk-item\"><div class=\"sk-estimator sk-toggleable\"><input class=\"sk-toggleable__control sk-hidden--visually\" id=\"sk-estimator-id-23\" type=\"checkbox\" ><label for=\"sk-estimator-id-23\" class=\"sk-toggleable__label sk-toggleable__label-arrow\">KNeighborsClassifier</label><div class=\"sk-toggleable__content\"><pre>KNeighborsClassifier()</pre></div></div></div></div></div></div></div></div></div></div></div></div>"
      ],
      "text/plain": [
       "GridSearchCV(cv=4,\n",
       "             estimator=Pipeline(steps=[('scaler', MyScaler(scalertype='skip')),\n",
       "                                       ('knn', KNeighborsClassifier())]),\n",
       "             param_grid=[{'scaler__scalertype': ['skip', 'std', 'minmax']},\n",
       "                         {'knn__weights': ['uniform', 'distance']},\n",
       "                         {'knn__n_neighbors': [1, 3, 5, 7, 9]}],\n",
       "             refit=False, scoring='accuracy')"
      ]
     },
     "execution_count": 423,
     "metadata": {},
     "output_type": "execute_result"
    }
   ],
   "source": [
    "mnist_knn_grid.fit(X_train,y_train)"
   ]
  },
  {
   "cell_type": "code",
   "execution_count": 424,
   "id": "650d8e91-595d-4caf-ad3c-f9177f845170",
   "metadata": {},
   "outputs": [
    {
     "data": {
      "text/html": [
       "<div>\n",
       "<style scoped>\n",
       "    .dataframe tbody tr th:only-of-type {\n",
       "        vertical-align: middle;\n",
       "    }\n",
       "\n",
       "    .dataframe tbody tr th {\n",
       "        vertical-align: top;\n",
       "    }\n",
       "\n",
       "    .dataframe thead th {\n",
       "        text-align: right;\n",
       "    }\n",
       "</style>\n",
       "<table border=\"1\" class=\"dataframe\">\n",
       "  <thead>\n",
       "    <tr style=\"text-align: right;\">\n",
       "      <th></th>\n",
       "      <th>mean_fit_time</th>\n",
       "      <th>std_fit_time</th>\n",
       "      <th>mean_score_time</th>\n",
       "      <th>std_score_time</th>\n",
       "      <th>param_scaler__scalertype</th>\n",
       "      <th>param_knn__weights</th>\n",
       "      <th>param_knn__n_neighbors</th>\n",
       "      <th>params</th>\n",
       "      <th>split0_test_score</th>\n",
       "      <th>split1_test_score</th>\n",
       "      <th>split2_test_score</th>\n",
       "      <th>split3_test_score</th>\n",
       "      <th>mean_test_score</th>\n",
       "      <th>std_test_score</th>\n",
       "      <th>rank_test_score</th>\n",
       "    </tr>\n",
       "  </thead>\n",
       "  <tbody>\n",
       "    <tr>\n",
       "      <th>0</th>\n",
       "      <td>0.239426</td>\n",
       "      <td>0.006546</td>\n",
       "      <td>15.247418</td>\n",
       "      <td>0.907628</td>\n",
       "      <td>skip</td>\n",
       "      <td>NaN</td>\n",
       "      <td>NaN</td>\n",
       "      <td>{'scaler__scalertype': 'skip'}</td>\n",
       "      <td>0.969533</td>\n",
       "      <td>0.968867</td>\n",
       "      <td>0.967933</td>\n",
       "      <td>0.968267</td>\n",
       "      <td>0.968650</td>\n",
       "      <td>0.000610</td>\n",
       "      <td>4</td>\n",
       "    </tr>\n",
       "    <tr>\n",
       "      <th>1</th>\n",
       "      <td>2.828773</td>\n",
       "      <td>1.223770</td>\n",
       "      <td>18.200878</td>\n",
       "      <td>0.407011</td>\n",
       "      <td>std</td>\n",
       "      <td>NaN</td>\n",
       "      <td>NaN</td>\n",
       "      <td>{'scaler__scalertype': 'std'}</td>\n",
       "      <td>0.943867</td>\n",
       "      <td>0.942067</td>\n",
       "      <td>0.941600</td>\n",
       "      <td>0.941333</td>\n",
       "      <td>0.942217</td>\n",
       "      <td>0.000988</td>\n",
       "      <td>10</td>\n",
       "    </tr>\n",
       "    <tr>\n",
       "      <th>2</th>\n",
       "      <td>1.264761</td>\n",
       "      <td>0.704449</td>\n",
       "      <td>19.663743</td>\n",
       "      <td>3.994571</td>\n",
       "      <td>minmax</td>\n",
       "      <td>NaN</td>\n",
       "      <td>NaN</td>\n",
       "      <td>{'scaler__scalertype': 'minmax'}</td>\n",
       "      <td>0.969533</td>\n",
       "      <td>0.968867</td>\n",
       "      <td>0.967933</td>\n",
       "      <td>0.968267</td>\n",
       "      <td>0.968650</td>\n",
       "      <td>0.000610</td>\n",
       "      <td>4</td>\n",
       "    </tr>\n",
       "    <tr>\n",
       "      <th>3</th>\n",
       "      <td>0.243794</td>\n",
       "      <td>0.006640</td>\n",
       "      <td>16.001071</td>\n",
       "      <td>0.274659</td>\n",
       "      <td>NaN</td>\n",
       "      <td>uniform</td>\n",
       "      <td>NaN</td>\n",
       "      <td>{'knn__weights': 'uniform'}</td>\n",
       "      <td>0.969533</td>\n",
       "      <td>0.968867</td>\n",
       "      <td>0.967933</td>\n",
       "      <td>0.968267</td>\n",
       "      <td>0.968650</td>\n",
       "      <td>0.000610</td>\n",
       "      <td>4</td>\n",
       "    </tr>\n",
       "    <tr>\n",
       "      <th>4</th>\n",
       "      <td>0.255869</td>\n",
       "      <td>0.007358</td>\n",
       "      <td>15.179109</td>\n",
       "      <td>0.565073</td>\n",
       "      <td>NaN</td>\n",
       "      <td>distance</td>\n",
       "      <td>NaN</td>\n",
       "      <td>{'knn__weights': 'distance'}</td>\n",
       "      <td>0.971333</td>\n",
       "      <td>0.970467</td>\n",
       "      <td>0.968667</td>\n",
       "      <td>0.969600</td>\n",
       "      <td>0.970017</td>\n",
       "      <td>0.000991</td>\n",
       "      <td>1</td>\n",
       "    </tr>\n",
       "    <tr>\n",
       "      <th>5</th>\n",
       "      <td>0.543019</td>\n",
       "      <td>0.521275</td>\n",
       "      <td>17.637225</td>\n",
       "      <td>2.343069</td>\n",
       "      <td>NaN</td>\n",
       "      <td>NaN</td>\n",
       "      <td>1</td>\n",
       "      <td>{'knn__n_neighbors': 1}</td>\n",
       "      <td>0.972400</td>\n",
       "      <td>0.970933</td>\n",
       "      <td>0.967067</td>\n",
       "      <td>0.968067</td>\n",
       "      <td>0.969617</td>\n",
       "      <td>0.002144</td>\n",
       "      <td>3</td>\n",
       "    </tr>\n",
       "    <tr>\n",
       "      <th>6</th>\n",
       "      <td>0.530544</td>\n",
       "      <td>0.503760</td>\n",
       "      <td>15.460953</td>\n",
       "      <td>0.696159</td>\n",
       "      <td>NaN</td>\n",
       "      <td>NaN</td>\n",
       "      <td>3</td>\n",
       "      <td>{'knn__n_neighbors': 3}</td>\n",
       "      <td>0.971333</td>\n",
       "      <td>0.970333</td>\n",
       "      <td>0.968800</td>\n",
       "      <td>0.968133</td>\n",
       "      <td>0.969650</td>\n",
       "      <td>0.001257</td>\n",
       "      <td>2</td>\n",
       "    </tr>\n",
       "    <tr>\n",
       "      <th>7</th>\n",
       "      <td>0.545825</td>\n",
       "      <td>0.521187</td>\n",
       "      <td>17.688625</td>\n",
       "      <td>2.236860</td>\n",
       "      <td>NaN</td>\n",
       "      <td>NaN</td>\n",
       "      <td>5</td>\n",
       "      <td>{'knn__n_neighbors': 5}</td>\n",
       "      <td>0.969533</td>\n",
       "      <td>0.968867</td>\n",
       "      <td>0.967933</td>\n",
       "      <td>0.968267</td>\n",
       "      <td>0.968650</td>\n",
       "      <td>0.000610</td>\n",
       "      <td>4</td>\n",
       "    </tr>\n",
       "    <tr>\n",
       "      <th>8</th>\n",
       "      <td>0.577769</td>\n",
       "      <td>0.510216</td>\n",
       "      <td>16.956548</td>\n",
       "      <td>2.365437</td>\n",
       "      <td>NaN</td>\n",
       "      <td>NaN</td>\n",
       "      <td>7</td>\n",
       "      <td>{'knn__n_neighbors': 7}</td>\n",
       "      <td>0.969533</td>\n",
       "      <td>0.967933</td>\n",
       "      <td>0.967067</td>\n",
       "      <td>0.965467</td>\n",
       "      <td>0.967500</td>\n",
       "      <td>0.001470</td>\n",
       "      <td>8</td>\n",
       "    </tr>\n",
       "    <tr>\n",
       "      <th>9</th>\n",
       "      <td>0.404302</td>\n",
       "      <td>0.008217</td>\n",
       "      <td>15.245272</td>\n",
       "      <td>0.493897</td>\n",
       "      <td>NaN</td>\n",
       "      <td>NaN</td>\n",
       "      <td>9</td>\n",
       "      <td>{'knn__n_neighbors': 9}</td>\n",
       "      <td>0.968867</td>\n",
       "      <td>0.966200</td>\n",
       "      <td>0.966267</td>\n",
       "      <td>0.965667</td>\n",
       "      <td>0.966750</td>\n",
       "      <td>0.001244</td>\n",
       "      <td>9</td>\n",
       "    </tr>\n",
       "  </tbody>\n",
       "</table>\n",
       "</div>"
      ],
      "text/plain": [
       "   mean_fit_time  std_fit_time  mean_score_time  std_score_time  \\\n",
       "0       0.239426      0.006546        15.247418        0.907628   \n",
       "1       2.828773      1.223770        18.200878        0.407011   \n",
       "2       1.264761      0.704449        19.663743        3.994571   \n",
       "3       0.243794      0.006640        16.001071        0.274659   \n",
       "4       0.255869      0.007358        15.179109        0.565073   \n",
       "5       0.543019      0.521275        17.637225        2.343069   \n",
       "6       0.530544      0.503760        15.460953        0.696159   \n",
       "7       0.545825      0.521187        17.688625        2.236860   \n",
       "8       0.577769      0.510216        16.956548        2.365437   \n",
       "9       0.404302      0.008217        15.245272        0.493897   \n",
       "\n",
       "  param_scaler__scalertype param_knn__weights param_knn__n_neighbors  \\\n",
       "0                     skip                NaN                    NaN   \n",
       "1                      std                NaN                    NaN   \n",
       "2                   minmax                NaN                    NaN   \n",
       "3                      NaN            uniform                    NaN   \n",
       "4                      NaN           distance                    NaN   \n",
       "5                      NaN                NaN                      1   \n",
       "6                      NaN                NaN                      3   \n",
       "7                      NaN                NaN                      5   \n",
       "8                      NaN                NaN                      7   \n",
       "9                      NaN                NaN                      9   \n",
       "\n",
       "                             params  split0_test_score  split1_test_score  \\\n",
       "0    {'scaler__scalertype': 'skip'}           0.969533           0.968867   \n",
       "1     {'scaler__scalertype': 'std'}           0.943867           0.942067   \n",
       "2  {'scaler__scalertype': 'minmax'}           0.969533           0.968867   \n",
       "3       {'knn__weights': 'uniform'}           0.969533           0.968867   \n",
       "4      {'knn__weights': 'distance'}           0.971333           0.970467   \n",
       "5           {'knn__n_neighbors': 1}           0.972400           0.970933   \n",
       "6           {'knn__n_neighbors': 3}           0.971333           0.970333   \n",
       "7           {'knn__n_neighbors': 5}           0.969533           0.968867   \n",
       "8           {'knn__n_neighbors': 7}           0.969533           0.967933   \n",
       "9           {'knn__n_neighbors': 9}           0.968867           0.966200   \n",
       "\n",
       "   split2_test_score  split3_test_score  mean_test_score  std_test_score  \\\n",
       "0           0.967933           0.968267         0.968650        0.000610   \n",
       "1           0.941600           0.941333         0.942217        0.000988   \n",
       "2           0.967933           0.968267         0.968650        0.000610   \n",
       "3           0.967933           0.968267         0.968650        0.000610   \n",
       "4           0.968667           0.969600         0.970017        0.000991   \n",
       "5           0.967067           0.968067         0.969617        0.002144   \n",
       "6           0.968800           0.968133         0.969650        0.001257   \n",
       "7           0.967933           0.968267         0.968650        0.000610   \n",
       "8           0.967067           0.965467         0.967500        0.001470   \n",
       "9           0.966267           0.965667         0.966750        0.001244   \n",
       "\n",
       "   rank_test_score  \n",
       "0                4  \n",
       "1               10  \n",
       "2                4  \n",
       "3                4  \n",
       "4                1  \n",
       "5                3  \n",
       "6                2  \n",
       "7                4  \n",
       "8                8  \n",
       "9                9  "
      ]
     },
     "execution_count": 424,
     "metadata": {},
     "output_type": "execute_result"
    }
   ],
   "source": [
    "mnist_knn_grid_results = pd.DataFrame(mnist_knn_grid.cv_results_)\n",
    "mnist_knn_grid_results"
   ]
  },
  {
   "cell_type": "code",
   "execution_count": 428,
   "id": "3cff3749-83d2-41ae-a620-347d718c806b",
   "metadata": {},
   "outputs": [
    {
     "data": {
      "text/html": [
       "<div>\n",
       "<style scoped>\n",
       "    .dataframe tbody tr th:only-of-type {\n",
       "        vertical-align: middle;\n",
       "    }\n",
       "\n",
       "    .dataframe tbody tr th {\n",
       "        vertical-align: top;\n",
       "    }\n",
       "\n",
       "    .dataframe thead th {\n",
       "        text-align: right;\n",
       "    }\n",
       "</style>\n",
       "<table border=\"1\" class=\"dataframe\">\n",
       "  <thead>\n",
       "    <tr style=\"text-align: right;\">\n",
       "      <th></th>\n",
       "      <th>param_scaler__scalertype</th>\n",
       "      <th>mean_test_score</th>\n",
       "    </tr>\n",
       "  </thead>\n",
       "  <tbody>\n",
       "    <tr>\n",
       "      <th>0</th>\n",
       "      <td>skip</td>\n",
       "      <td>0.968650</td>\n",
       "    </tr>\n",
       "    <tr>\n",
       "      <th>1</th>\n",
       "      <td>std</td>\n",
       "      <td>0.942217</td>\n",
       "    </tr>\n",
       "    <tr>\n",
       "      <th>2</th>\n",
       "      <td>minmax</td>\n",
       "      <td>0.968650</td>\n",
       "    </tr>\n",
       "  </tbody>\n",
       "</table>\n",
       "</div>"
      ],
      "text/plain": [
       "  param_scaler__scalertype  mean_test_score\n",
       "0                     skip         0.968650\n",
       "1                      std         0.942217\n",
       "2                   minmax         0.968650"
      ]
     },
     "execution_count": 428,
     "metadata": {},
     "output_type": "execute_result"
    }
   ],
   "source": [
    "mnist_knn_grid_scaler_results = mnist_knn_grid_results.iloc[0:3,:][['param_scaler__scalertype','mean_test_score']]\n",
    "mnist_knn_grid_scaler_results"
   ]
  },
  {
   "cell_type": "code",
   "execution_count": 440,
   "id": "e11d0fd5-a1cb-4456-b986-53e65f3ed65e",
   "metadata": {},
   "outputs": [
    {
     "data": {
      "text/plain": [
       "<Figure size 720x432 with 0 Axes>"
      ]
     },
     "metadata": {},
     "output_type": "display_data"
    },
    {
     "data": {
      "image/png": "[encoded data removed]",
      "text/plain": [
       "<Figure size 432x288 with 1 Axes>"
      ]
     },
     "metadata": {
      "needs_background": "light"
     },
     "output_type": "display_data"
    },
    {
     "name": "stdout",
     "output_type": "stream",
     "text": [
      "Best scaler type: skip\n",
      "Best score: 0.96865\n"
     ]
    }
   ],
   "source": [
    "f = plt.figure(figsize=(10,6))\n",
    "ax = mnist_knn_grid_scaler_results.plot(kind='bar',x='param_scaler__scalertype',y='mean_test_score')\n",
    "plt.ylim(0.8,)\n",
    "plt.show()\n",
    "print('Best scaler type:',mnist_knn_grid_scaler_results['param_scaler__scalertype'][mnist_knn_grid_scaler_results['mean_test_score'].argmax()])\n",
    "print('Best score:',mnist_knn_grid_scaler_results['mean_test_score'].max())"
   ]
  },
  {
   "cell_type": "code",
   "execution_count": 442,
   "id": "41f4ec95-46d6-4ce3-b709-53053029f719",
   "metadata": {},
   "outputs": [
    {
     "data": {
      "text/html": [
       "<div>\n",
       "<style scoped>\n",
       "    .dataframe tbody tr th:only-of-type {\n",
       "        vertical-align: middle;\n",
       "    }\n",
       "\n",
       "    .dataframe tbody tr th {\n",
       "        vertical-align: top;\n",
       "    }\n",
       "\n",
       "    .dataframe thead th {\n",
       "        text-align: right;\n",
       "    }\n",
       "</style>\n",
       "<table border=\"1\" class=\"dataframe\">\n",
       "  <thead>\n",
       "    <tr style=\"text-align: right;\">\n",
       "      <th></th>\n",
       "      <th>param_knn__weights</th>\n",
       "      <th>mean_test_score</th>\n",
       "    </tr>\n",
       "  </thead>\n",
       "  <tbody>\n",
       "    <tr>\n",
       "      <th>3</th>\n",
       "      <td>uniform</td>\n",
       "      <td>0.968650</td>\n",
       "    </tr>\n",
       "    <tr>\n",
       "      <th>4</th>\n",
       "      <td>distance</td>\n",
       "      <td>0.970017</td>\n",
       "    </tr>\n",
       "  </tbody>\n",
       "</table>\n",
       "</div>"
      ],
      "text/plain": [
       "  param_knn__weights  mean_test_score\n",
       "3            uniform         0.968650\n",
       "4           distance         0.970017"
      ]
     },
     "execution_count": 442,
     "metadata": {},
     "output_type": "execute_result"
    }
   ],
   "source": [
    "mnist_knn_grid_weights_results = mnist_knn_grid_results.iloc[3:5,:][['param_knn__weights','mean_test_score']]\n",
    "mnist_knn_grid_weights_results"
   ]
  },
  {
   "cell_type": "code",
   "execution_count": 445,
   "id": "b9b577cb-66c5-4e69-8d02-8bf3003e8acf",
   "metadata": {},
   "outputs": [
    {
     "data": {
      "text/plain": [
       "<Figure size 720x432 with 0 Axes>"
      ]
     },
     "metadata": {},
     "output_type": "display_data"
    },
    {
     "data": {
      "image/png": "[encoded data removed]",
      "text/plain": [
       "<Figure size 432x288 with 1 Axes>"
      ]
     },
     "metadata": {
      "needs_background": "light"
     },
     "output_type": "display_data"
    },
    {
     "name": "stdout",
     "output_type": "stream",
     "text": [
      "Best weight: distance\n",
      "Best score: 0.9700166666666667\n"
     ]
    }
   ],
   "source": [
    "f = plt.figure(figsize=(10,6))\n",
    "ax = mnist_knn_grid_weights_results.plot(kind='bar',x='param_knn__weights',y='mean_test_score')\n",
    "plt.ylim(0.8,)\n",
    "plt.show()\n",
    "print('Best weight:',mnist_knn_grid_weights_results['param_knn__weights'].iloc[mnist_knn_grid_weights_results['mean_test_score'].argmax()])\n",
    "print('Best score:',mnist_knn_grid_weights_results['mean_test_score'].max())"
   ]
  },
  {
   "cell_type": "code",
   "execution_count": 447,
   "id": "537b6b2f-8f82-47d4-91fb-6f1113578d6b",
   "metadata": {},
   "outputs": [
    {
     "data": {
      "text/html": [
       "<div>\n",
       "<style scoped>\n",
       "    .dataframe tbody tr th:only-of-type {\n",
       "        vertical-align: middle;\n",
       "    }\n",
       "\n",
       "    .dataframe tbody tr th {\n",
       "        vertical-align: top;\n",
       "    }\n",
       "\n",
       "    .dataframe thead th {\n",
       "        text-align: right;\n",
       "    }\n",
       "</style>\n",
       "<table border=\"1\" class=\"dataframe\">\n",
       "  <thead>\n",
       "    <tr style=\"text-align: right;\">\n",
       "      <th></th>\n",
       "      <th>param_knn__n_neighbors</th>\n",
       "      <th>mean_test_score</th>\n",
       "    </tr>\n",
       "  </thead>\n",
       "  <tbody>\n",
       "    <tr>\n",
       "      <th>5</th>\n",
       "      <td>1</td>\n",
       "      <td>0.969617</td>\n",
       "    </tr>\n",
       "    <tr>\n",
       "      <th>6</th>\n",
       "      <td>3</td>\n",
       "      <td>0.969650</td>\n",
       "    </tr>\n",
       "    <tr>\n",
       "      <th>7</th>\n",
       "      <td>5</td>\n",
       "      <td>0.968650</td>\n",
       "    </tr>\n",
       "    <tr>\n",
       "      <th>8</th>\n",
       "      <td>7</td>\n",
       "      <td>0.967500</td>\n",
       "    </tr>\n",
       "    <tr>\n",
       "      <th>9</th>\n",
       "      <td>9</td>\n",
       "      <td>0.966750</td>\n",
       "    </tr>\n",
       "  </tbody>\n",
       "</table>\n",
       "</div>"
      ],
      "text/plain": [
       "  param_knn__n_neighbors  mean_test_score\n",
       "5                      1         0.969617\n",
       "6                      3         0.969650\n",
       "7                      5         0.968650\n",
       "8                      7         0.967500\n",
       "9                      9         0.966750"
      ]
     },
     "execution_count": 447,
     "metadata": {},
     "output_type": "execute_result"
    }
   ],
   "source": [
    "mnist_knn_grid_neighbors_results = mnist_knn_grid_results.iloc[5:,:][['param_knn__n_neighbors','mean_test_score']]\n",
    "mnist_knn_grid_neighbors_results"
   ]
  },
  {
   "cell_type": "code",
   "execution_count": 449,
   "id": "672c5219-1633-42a8-9088-a65bfef4e8a5",
   "metadata": {},
   "outputs": [
    {
     "data": {
      "text/plain": [
       "<Figure size 720x432 with 0 Axes>"
      ]
     },
     "metadata": {},
     "output_type": "display_data"
    },
    {
     "data": {
      "image/png": "[encoded data removed]",
      "text/plain": [
       "<Figure size 432x288 with 1 Axes>"
      ]
     },
     "metadata": {
      "needs_background": "light"
     },
     "output_type": "display_data"
    },
    {
     "name": "stdout",
     "output_type": "stream",
     "text": [
      "Best n-neighbors: 3\n",
      "Best score: 0.96965\n"
     ]
    }
   ],
   "source": [
    "f = plt.figure(figsize=(10,6))\n",
    "ax = mnist_knn_grid_neighbors_results.plot(kind='bar',x='param_knn__n_neighbors',y='mean_test_score')\n",
    "plt.ylim(0.8,)\n",
    "plt.show()\n",
    "print('Best n-neighbors:',mnist_knn_grid_neighbors_results['param_knn__n_neighbors'].iloc[mnist_knn_grid_neighbors_results['mean_test_score'].argmax()])\n",
    "print('Best score:',mnist_knn_grid_neighbors_results['mean_test_score'].max())"
   ]
  },
  {
   "cell_type": "markdown",
   "id": "8c3136d5-a092-474c-ae6c-96202b8fb36b",
   "metadata": {},
   "source": [
    "**Conclusion**:\n",
    "\n",
    "Looks like the best hyperparameters for KNN algorithm are as follow:\\\n",
    "Scaler Type: 'Skip' (No Scaling)\\\n",
    "knn__weights: 'distance'\\\n",
    "knn__n_neighbors: 3"
   ]
  },
  {
   "cell_type": "code",
   "execution_count": 451,
   "id": "67bd3d28-40cb-49a3-9b57-e58a0feab7e9",
   "metadata": {},
   "outputs": [
    {
     "data": {
      "text/plain": [
       "0.9700166666666667"
      ]
     },
     "execution_count": 451,
     "metadata": {},
     "output_type": "execute_result"
    }
   ],
   "source": [
    "mnist_knn_best_score_found = mnist_knn_grid_results['mean_test_score'].max()\n",
    "mnist_knn_best_score_found"
   ]
  },
  {
   "cell_type": "markdown",
   "id": "6148cef2-036d-4c79-8d84-d44382c1feb9",
   "metadata": {},
   "source": [
    "We can see that the best score ever found from grid search is around 97%.\\\n",
    "Don't forget thisscore is found by using only one of the best parameters (due to lack of computing resources).\\\n",
    "Let's see now we refit the best found parameters to the algorithm and see if it actually performs even better with cross validation of 4-folds."
   ]
  },
  {
   "cell_type": "code",
   "execution_count": 453,
   "id": "743ef5ba-0e93-4f56-b416-c5cf7605935d",
   "metadata": {},
   "outputs": [],
   "source": [
    "mnist_knn_best_params = {\n",
    "    'scaler__scalertype': 'skip',\n",
    "    'knn__weights': 'distance',\n",
    "    'knn__n_neighbors': 3\n",
    "}"
   ]
  },
  {
   "cell_type": "code",
   "execution_count": 877,
   "id": "150766ad-e01f-41ca-a5a9-a73a0eddb1e4",
   "metadata": {},
   "outputs": [
    {
     "data": {
      "text/html": [
       "<style>#sk-container-id-20 {color: black;background-color: white;}#sk-container-id-20 pre{padding: 0;}#sk-container-id-20 div.sk-toggleable {background-color: white;}#sk-container-id-20 label.sk-toggleable__label {cursor: pointer;display: block;width: 100%;margin-bottom: 0;padding: 0.3em;box-sizing: border-box;text-align: center;}#sk-container-id-20 label.sk-toggleable__label-arrow:before {content: \"▸\";float: left;margin-right: 0.25em;color: #696969;}#sk-container-id-20 label.sk-toggleable__label-arrow:hover:before {color: black;}#sk-container-id-20 div.sk-estimator:hover label.sk-toggleable__label-arrow:before {color: black;}#sk-container-id-20 div.sk-toggleable__content {max-height: 0;max-width: 0;overflow: hidden;text-align: left;background-color: #f0f8ff;}#sk-container-id-20 div.sk-toggleable__content pre {margin: 0.2em;color: black;border-radius: 0.25em;background-color: #f0f8ff;}#sk-container-id-20 input.sk-toggleable__control:checked~div.sk-toggleable__content {max-height: 200px;max-width: 100%;overflow: auto;}#sk-container-id-20 input.sk-toggleable__control:checked~label.sk-toggleable__label-arrow:before {content: \"▾\";}#sk-container-id-20 div.sk-estimator input.sk-toggleable__control:checked~label.sk-toggleable__label {background-color: #d4ebff;}#sk-container-id-20 div.sk-label input.sk-toggleable__control:checked~label.sk-toggleable__label {background-color: #d4ebff;}#sk-container-id-20 input.sk-hidden--visually {border: 0;clip: rect(1px 1px 1px 1px);clip: rect(1px, 1px, 1px, 1px);height: 1px;margin: -1px;overflow: hidden;padding: 0;position: absolute;width: 1px;}#sk-container-id-20 div.sk-estimator {font-family: monospace;background-color: #f0f8ff;border: 1px dotted black;border-radius: 0.25em;box-sizing: border-box;margin-bottom: 0.5em;}#sk-container-id-20 div.sk-estimator:hover {background-color: #d4ebff;}#sk-container-id-20 div.sk-parallel-item::after {content: \"\";width: 100%;border-bottom: 1px solid gray;flex-grow: 1;}#sk-container-id-20 div.sk-label:hover label.sk-toggleable__label {background-color: #d4ebff;}#sk-container-id-20 div.sk-serial::before {content: \"\";position: absolute;border-left: 1px solid gray;box-sizing: border-box;top: 0;bottom: 0;left: 50%;z-index: 0;}#sk-container-id-20 div.sk-serial {display: flex;flex-direction: column;align-items: center;background-color: white;padding-right: 0.2em;padding-left: 0.2em;position: relative;}#sk-container-id-20 div.sk-item {position: relative;z-index: 1;}#sk-container-id-20 div.sk-parallel {display: flex;align-items: stretch;justify-content: center;background-color: white;position: relative;}#sk-container-id-20 div.sk-item::before, #sk-container-id-20 div.sk-parallel-item::before {content: \"\";position: absolute;border-left: 1px solid gray;box-sizing: border-box;top: 0;bottom: 0;left: 50%;z-index: -1;}#sk-container-id-20 div.sk-parallel-item {display: flex;flex-direction: column;z-index: 1;position: relative;background-color: white;}#sk-container-id-20 div.sk-parallel-item:first-child::after {align-self: flex-end;width: 50%;}#sk-container-id-20 div.sk-parallel-item:last-child::after {align-self: flex-start;width: 50%;}#sk-container-id-20 div.sk-parallel-item:only-child::after {width: 0;}#sk-container-id-20 div.sk-dashed-wrapped {border: 1px dashed gray;margin: 0 0.4em 0.5em 0.4em;box-sizing: border-box;padding-bottom: 0.4em;background-color: white;}#sk-container-id-20 div.sk-label label {font-family: monospace;font-weight: bold;display: inline-block;line-height: 1.2em;}#sk-container-id-20 div.sk-label-container {text-align: center;}#sk-container-id-20 div.sk-container {/* jupyter's `normalize.less` sets `[hidden] { display: none; }` but bootstrap.min.css set `[hidden] { display: none !important; }` so we also need the `!important` here to be able to override the default hidden behavior on the sphinx rendered scikit-learn.org. See: https://github.com/scikit-learn/scikit-learn/issues/21755 */display: inline-block !important;position: relative;}#sk-container-id-20 div.sk-text-repr-fallback {display: none;}</style><div id=\"sk-container-id-20\" class=\"sk-top-container\"><div class=\"sk-text-repr-fallback\"><pre>Pipeline(steps=[(&#x27;scaler&#x27;, MyScaler(scalertype=&#x27;skip&#x27;)),\n",
       "                (&#x27;knn&#x27;,\n",
       "                 KNeighborsClassifier(n_neighbors=3, weights=&#x27;distance&#x27;))])</pre><b>In a Jupyter environment, please rerun this cell to show the HTML representation or trust the notebook. <br />On GitHub, the HTML representation is unable to render, please try loading this page with nbviewer.org.</b></div><div class=\"sk-container\" hidden><div class=\"sk-item sk-dashed-wrapped\"><div class=\"sk-label-container\"><div class=\"sk-label sk-toggleable\"><input class=\"sk-toggleable__control sk-hidden--visually\" id=\"sk-estimator-id-36\" type=\"checkbox\" ><label for=\"sk-estimator-id-36\" class=\"sk-toggleable__label sk-toggleable__label-arrow\">Pipeline</label><div class=\"sk-toggleable__content\"><pre>Pipeline(steps=[(&#x27;scaler&#x27;, MyScaler(scalertype=&#x27;skip&#x27;)),\n",
       "                (&#x27;knn&#x27;,\n",
       "                 KNeighborsClassifier(n_neighbors=3, weights=&#x27;distance&#x27;))])</pre></div></div></div><div class=\"sk-serial\"><div class=\"sk-item\"><div class=\"sk-estimator sk-toggleable\"><input class=\"sk-toggleable__control sk-hidden--visually\" id=\"sk-estimator-id-37\" type=\"checkbox\" ><label for=\"sk-estimator-id-37\" class=\"sk-toggleable__label sk-toggleable__label-arrow\">MyScaler</label><div class=\"sk-toggleable__content\"><pre>MyScaler(scalertype=&#x27;skip&#x27;)</pre></div></div></div><div class=\"sk-item\"><div class=\"sk-estimator sk-toggleable\"><input class=\"sk-toggleable__control sk-hidden--visually\" id=\"sk-estimator-id-38\" type=\"checkbox\" ><label for=\"sk-estimator-id-38\" class=\"sk-toggleable__label sk-toggleable__label-arrow\">KNeighborsClassifier</label><div class=\"sk-toggleable__content\"><pre>KNeighborsClassifier(n_neighbors=3, weights=&#x27;distance&#x27;)</pre></div></div></div></div></div></div></div>"
      ],
      "text/plain": [
       "Pipeline(steps=[('scaler', MyScaler(scalertype='skip')),\n",
       "                ('knn',\n",
       "                 KNeighborsClassifier(n_neighbors=3, weights='distance'))])"
      ]
     },
     "execution_count": 877,
     "metadata": {},
     "output_type": "execute_result"
    }
   ],
   "source": [
    "mnist_knn_best_pipeline = clone(mnist_pipeline).set_params(scaler__scalertype='skip',knn__weights='distance',knn__n_neighbors=3)\n",
    "mnist_knn_best_pipeline"
   ]
  },
  {
   "cell_type": "code",
   "execution_count": 463,
   "id": "a8235a4d-88fa-4344-b34a-4bae7f17afdc",
   "metadata": {},
   "outputs": [
    {
     "data": {
      "text/plain": [
       "array([0.9728    , 0.97173333, 0.9696    , 0.96913333])"
      ]
     },
     "execution_count": 463,
     "metadata": {},
     "output_type": "execute_result"
    }
   ],
   "source": [
    "mnist_knn_refit_scores = cross_val_score(mnist_knn_best_pipeline,X_train,y_train,scoring='accuracy',cv=4)\n",
    "mnist_knn_refit_scores"
   ]
  },
  {
   "cell_type": "code",
   "execution_count": 464,
   "id": "1f51bd8d-2d5b-4892-8322-2f9399d7ac5e",
   "metadata": {},
   "outputs": [
    {
     "data": {
      "text/plain": [
       "0.9708166666666666"
      ]
     },
     "execution_count": 464,
     "metadata": {},
     "output_type": "execute_result"
    }
   ],
   "source": [
    "mnist_knn_refit_mean_score = mnist_knn_refit_scores.mean()\n",
    "mnist_knn_refit_mean_score"
   ]
  },
  {
   "cell_type": "markdown",
   "id": "c64cb9f7-7a3b-449c-9c16-162e1ff6fdd9",
   "metadata": {},
   "source": [
    "Alright, the CV score indeed improved by a fair bit.\\\n",
    "Now we can refit the entire training dataset to the algorithm with best parameters."
   ]
  },
  {
   "cell_type": "code",
   "execution_count": 878,
   "id": "7e5bd279-d518-4d2d-b1ea-6c52776b3e90",
   "metadata": {
    "collapsed": true,
    "jupyter": {
     "outputs_hidden": true
    },
    "tags": []
   },
   "outputs": [
    {
     "data": {
      "text/html": [
       "<style>#sk-container-id-21 {color: black;background-color: white;}#sk-container-id-21 pre{padding: 0;}#sk-container-id-21 div.sk-toggleable {background-color: white;}#sk-container-id-21 label.sk-toggleable__label {cursor: pointer;display: block;width: 100%;margin-bottom: 0;padding: 0.3em;box-sizing: border-box;text-align: center;}#sk-container-id-21 label.sk-toggleable__label-arrow:before {content: \"▸\";float: left;margin-right: 0.25em;color: #696969;}#sk-container-id-21 label.sk-toggleable__label-arrow:hover:before {color: black;}#sk-container-id-21 div.sk-estimator:hover label.sk-toggleable__label-arrow:before {color: black;}#sk-container-id-21 div.sk-toggleable__content {max-height: 0;max-width: 0;overflow: hidden;text-align: left;background-color: #f0f8ff;}#sk-container-id-21 div.sk-toggleable__content pre {margin: 0.2em;color: black;border-radius: 0.25em;background-color: #f0f8ff;}#sk-container-id-21 input.sk-toggleable__control:checked~div.sk-toggleable__content {max-height: 200px;max-width: 100%;overflow: auto;}#sk-container-id-21 input.sk-toggleable__control:checked~label.sk-toggleable__label-arrow:before {content: \"▾\";}#sk-container-id-21 div.sk-estimator input.sk-toggleable__control:checked~label.sk-toggleable__label {background-color: #d4ebff;}#sk-container-id-21 div.sk-label input.sk-toggleable__control:checked~label.sk-toggleable__label {background-color: #d4ebff;}#sk-container-id-21 input.sk-hidden--visually {border: 0;clip: rect(1px 1px 1px 1px);clip: rect(1px, 1px, 1px, 1px);height: 1px;margin: -1px;overflow: hidden;padding: 0;position: absolute;width: 1px;}#sk-container-id-21 div.sk-estimator {font-family: monospace;background-color: #f0f8ff;border: 1px dotted black;border-radius: 0.25em;box-sizing: border-box;margin-bottom: 0.5em;}#sk-container-id-21 div.sk-estimator:hover {background-color: #d4ebff;}#sk-container-id-21 div.sk-parallel-item::after {content: \"\";width: 100%;border-bottom: 1px solid gray;flex-grow: 1;}#sk-container-id-21 div.sk-label:hover label.sk-toggleable__label {background-color: #d4ebff;}#sk-container-id-21 div.sk-serial::before {content: \"\";position: absolute;border-left: 1px solid gray;box-sizing: border-box;top: 0;bottom: 0;left: 50%;z-index: 0;}#sk-container-id-21 div.sk-serial {display: flex;flex-direction: column;align-items: center;background-color: white;padding-right: 0.2em;padding-left: 0.2em;position: relative;}#sk-container-id-21 div.sk-item {position: relative;z-index: 1;}#sk-container-id-21 div.sk-parallel {display: flex;align-items: stretch;justify-content: center;background-color: white;position: relative;}#sk-container-id-21 div.sk-item::before, #sk-container-id-21 div.sk-parallel-item::before {content: \"\";position: absolute;border-left: 1px solid gray;box-sizing: border-box;top: 0;bottom: 0;left: 50%;z-index: -1;}#sk-container-id-21 div.sk-parallel-item {display: flex;flex-direction: column;z-index: 1;position: relative;background-color: white;}#sk-container-id-21 div.sk-parallel-item:first-child::after {align-self: flex-end;width: 50%;}#sk-container-id-21 div.sk-parallel-item:last-child::after {align-self: flex-start;width: 50%;}#sk-container-id-21 div.sk-parallel-item:only-child::after {width: 0;}#sk-container-id-21 div.sk-dashed-wrapped {border: 1px dashed gray;margin: 0 0.4em 0.5em 0.4em;box-sizing: border-box;padding-bottom: 0.4em;background-color: white;}#sk-container-id-21 div.sk-label label {font-family: monospace;font-weight: bold;display: inline-block;line-height: 1.2em;}#sk-container-id-21 div.sk-label-container {text-align: center;}#sk-container-id-21 div.sk-container {/* jupyter's `normalize.less` sets `[hidden] { display: none; }` but bootstrap.min.css set `[hidden] { display: none !important; }` so we also need the `!important` here to be able to override the default hidden behavior on the sphinx rendered scikit-learn.org. See: https://github.com/scikit-learn/scikit-learn/issues/21755 */display: inline-block !important;position: relative;}#sk-container-id-21 div.sk-text-repr-fallback {display: none;}</style><div id=\"sk-container-id-21\" class=\"sk-top-container\"><div class=\"sk-text-repr-fallback\"><pre>Pipeline(steps=[(&#x27;scaler&#x27;, MyScaler(scalertype=&#x27;skip&#x27;)),\n",
       "                (&#x27;knn&#x27;,\n",
       "                 KNeighborsClassifier(n_neighbors=3, weights=&#x27;distance&#x27;))])</pre><b>In a Jupyter environment, please rerun this cell to show the HTML representation or trust the notebook. <br />On GitHub, the HTML representation is unable to render, please try loading this page with nbviewer.org.</b></div><div class=\"sk-container\" hidden><div class=\"sk-item sk-dashed-wrapped\"><div class=\"sk-label-container\"><div class=\"sk-label sk-toggleable\"><input class=\"sk-toggleable__control sk-hidden--visually\" id=\"sk-estimator-id-39\" type=\"checkbox\" ><label for=\"sk-estimator-id-39\" class=\"sk-toggleable__label sk-toggleable__label-arrow\">Pipeline</label><div class=\"sk-toggleable__content\"><pre>Pipeline(steps=[(&#x27;scaler&#x27;, MyScaler(scalertype=&#x27;skip&#x27;)),\n",
       "                (&#x27;knn&#x27;,\n",
       "                 KNeighborsClassifier(n_neighbors=3, weights=&#x27;distance&#x27;))])</pre></div></div></div><div class=\"sk-serial\"><div class=\"sk-item\"><div class=\"sk-estimator sk-toggleable\"><input class=\"sk-toggleable__control sk-hidden--visually\" id=\"sk-estimator-id-40\" type=\"checkbox\" ><label for=\"sk-estimator-id-40\" class=\"sk-toggleable__label sk-toggleable__label-arrow\">MyScaler</label><div class=\"sk-toggleable__content\"><pre>MyScaler(scalertype=&#x27;skip&#x27;)</pre></div></div></div><div class=\"sk-item\"><div class=\"sk-estimator sk-toggleable\"><input class=\"sk-toggleable__control sk-hidden--visually\" id=\"sk-estimator-id-41\" type=\"checkbox\" ><label for=\"sk-estimator-id-41\" class=\"sk-toggleable__label sk-toggleable__label-arrow\">KNeighborsClassifier</label><div class=\"sk-toggleable__content\"><pre>KNeighborsClassifier(n_neighbors=3, weights=&#x27;distance&#x27;)</pre></div></div></div></div></div></div></div>"
      ],
      "text/plain": [
       "Pipeline(steps=[('scaler', MyScaler(scalertype='skip')),\n",
       "                ('knn',\n",
       "                 KNeighborsClassifier(n_neighbors=3, weights='distance'))])"
      ]
     },
     "execution_count": 878,
     "metadata": {},
     "output_type": "execute_result"
    }
   ],
   "source": [
    "mnist_knn_final = clone(mnist_knn_best_pipeline)\n",
    "mnist_knn_final"
   ]
  },
  {
   "cell_type": "code",
   "execution_count": 470,
   "id": "785984d4-05f7-4326-8efa-9aafe213e01c",
   "metadata": {},
   "outputs": [
    {
     "data": {
      "text/html": [
       "<style>#sk-container-id-18 {color: black;background-color: white;}#sk-container-id-18 pre{padding: 0;}#sk-container-id-18 div.sk-toggleable {background-color: white;}#sk-container-id-18 label.sk-toggleable__label {cursor: pointer;display: block;width: 100%;margin-bottom: 0;padding: 0.3em;box-sizing: border-box;text-align: center;}#sk-container-id-18 label.sk-toggleable__label-arrow:before {content: \"▸\";float: left;margin-right: 0.25em;color: #696969;}#sk-container-id-18 label.sk-toggleable__label-arrow:hover:before {color: black;}#sk-container-id-18 div.sk-estimator:hover label.sk-toggleable__label-arrow:before {color: black;}#sk-container-id-18 div.sk-toggleable__content {max-height: 0;max-width: 0;overflow: hidden;text-align: left;background-color: #f0f8ff;}#sk-container-id-18 div.sk-toggleable__content pre {margin: 0.2em;color: black;border-radius: 0.25em;background-color: #f0f8ff;}#sk-container-id-18 input.sk-toggleable__control:checked~div.sk-toggleable__content {max-height: 200px;max-width: 100%;overflow: auto;}#sk-container-id-18 input.sk-toggleable__control:checked~label.sk-toggleable__label-arrow:before {content: \"▾\";}#sk-container-id-18 div.sk-estimator input.sk-toggleable__control:checked~label.sk-toggleable__label {background-color: #d4ebff;}#sk-container-id-18 div.sk-label input.sk-toggleable__control:checked~label.sk-toggleable__label {background-color: #d4ebff;}#sk-container-id-18 input.sk-hidden--visually {border: 0;clip: rect(1px 1px 1px 1px);clip: rect(1px, 1px, 1px, 1px);height: 1px;margin: -1px;overflow: hidden;padding: 0;position: absolute;width: 1px;}#sk-container-id-18 div.sk-estimator {font-family: monospace;background-color: #f0f8ff;border: 1px dotted black;border-radius: 0.25em;box-sizing: border-box;margin-bottom: 0.5em;}#sk-container-id-18 div.sk-estimator:hover {background-color: #d4ebff;}#sk-container-id-18 div.sk-parallel-item::after {content: \"\";width: 100%;border-bottom: 1px solid gray;flex-grow: 1;}#sk-container-id-18 div.sk-label:hover label.sk-toggleable__label {background-color: #d4ebff;}#sk-container-id-18 div.sk-serial::before {content: \"\";position: absolute;border-left: 1px solid gray;box-sizing: border-box;top: 0;bottom: 0;left: 50%;z-index: 0;}#sk-container-id-18 div.sk-serial {display: flex;flex-direction: column;align-items: center;background-color: white;padding-right: 0.2em;padding-left: 0.2em;position: relative;}#sk-container-id-18 div.sk-item {position: relative;z-index: 1;}#sk-container-id-18 div.sk-parallel {display: flex;align-items: stretch;justify-content: center;background-color: white;position: relative;}#sk-container-id-18 div.sk-item::before, #sk-container-id-18 div.sk-parallel-item::before {content: \"\";position: absolute;border-left: 1px solid gray;box-sizing: border-box;top: 0;bottom: 0;left: 50%;z-index: -1;}#sk-container-id-18 div.sk-parallel-item {display: flex;flex-direction: column;z-index: 1;position: relative;background-color: white;}#sk-container-id-18 div.sk-parallel-item:first-child::after {align-self: flex-end;width: 50%;}#sk-container-id-18 div.sk-parallel-item:last-child::after {align-self: flex-start;width: 50%;}#sk-container-id-18 div.sk-parallel-item:only-child::after {width: 0;}#sk-container-id-18 div.sk-dashed-wrapped {border: 1px dashed gray;margin: 0 0.4em 0.5em 0.4em;box-sizing: border-box;padding-bottom: 0.4em;background-color: white;}#sk-container-id-18 div.sk-label label {font-family: monospace;font-weight: bold;display: inline-block;line-height: 1.2em;}#sk-container-id-18 div.sk-label-container {text-align: center;}#sk-container-id-18 div.sk-container {/* jupyter's `normalize.less` sets `[hidden] { display: none; }` but bootstrap.min.css set `[hidden] { display: none !important; }` so we also need the `!important` here to be able to override the default hidden behavior on the sphinx rendered scikit-learn.org. See: https://github.com/scikit-learn/scikit-learn/issues/21755 */display: inline-block !important;position: relative;}#sk-container-id-18 div.sk-text-repr-fallback {display: none;}</style><div id=\"sk-container-id-18\" class=\"sk-top-container\"><div class=\"sk-text-repr-fallback\"><pre>Pipeline(steps=[(&#x27;scaler&#x27;, MyScaler(scalertype=&#x27;skip&#x27;)),\n",
       "                (&#x27;knn&#x27;,\n",
       "                 KNeighborsClassifier(n_neighbors=3, weights=&#x27;distance&#x27;))])</pre><b>In a Jupyter environment, please rerun this cell to show the HTML representation or trust the notebook. <br />On GitHub, the HTML representation is unable to render, please try loading this page with nbviewer.org.</b></div><div class=\"sk-container\" hidden><div class=\"sk-item sk-dashed-wrapped\"><div class=\"sk-label-container\"><div class=\"sk-label sk-toggleable\"><input class=\"sk-toggleable__control sk-hidden--visually\" id=\"sk-estimator-id-30\" type=\"checkbox\" ><label for=\"sk-estimator-id-30\" class=\"sk-toggleable__label sk-toggleable__label-arrow\">Pipeline</label><div class=\"sk-toggleable__content\"><pre>Pipeline(steps=[(&#x27;scaler&#x27;, MyScaler(scalertype=&#x27;skip&#x27;)),\n",
       "                (&#x27;knn&#x27;,\n",
       "                 KNeighborsClassifier(n_neighbors=3, weights=&#x27;distance&#x27;))])</pre></div></div></div><div class=\"sk-serial\"><div class=\"sk-item\"><div class=\"sk-estimator sk-toggleable\"><input class=\"sk-toggleable__control sk-hidden--visually\" id=\"sk-estimator-id-31\" type=\"checkbox\" ><label for=\"sk-estimator-id-31\" class=\"sk-toggleable__label sk-toggleable__label-arrow\">MyScaler</label><div class=\"sk-toggleable__content\"><pre>MyScaler(scalertype=&#x27;skip&#x27;)</pre></div></div></div><div class=\"sk-item\"><div class=\"sk-estimator sk-toggleable\"><input class=\"sk-toggleable__control sk-hidden--visually\" id=\"sk-estimator-id-32\" type=\"checkbox\" ><label for=\"sk-estimator-id-32\" class=\"sk-toggleable__label sk-toggleable__label-arrow\">KNeighborsClassifier</label><div class=\"sk-toggleable__content\"><pre>KNeighborsClassifier(n_neighbors=3, weights=&#x27;distance&#x27;)</pre></div></div></div></div></div></div></div>"
      ],
      "text/plain": [
       "Pipeline(steps=[('scaler', MyScaler(scalertype='skip')),\n",
       "                ('knn',\n",
       "                 KNeighborsClassifier(n_neighbors=3, weights='distance'))])"
      ]
     },
     "execution_count": 470,
     "metadata": {},
     "output_type": "execute_result"
    }
   ],
   "source": [
    "mnist_knn_final.fit(X_train,y_train)"
   ]
  },
  {
   "cell_type": "code",
   "execution_count": 475,
   "id": "39439ca2-7491-45c4-8a21-9e3cb9c9a3b9",
   "metadata": {},
   "outputs": [],
   "source": [
    "mnist_knn_final_yhat_test = mnist_knn_final.predict(X_test)"
   ]
  },
  {
   "cell_type": "code",
   "execution_count": 521,
   "id": "77590c8a-4a3e-4d7e-9dbb-c8e7d99fe9ee",
   "metadata": {},
   "outputs": [
    {
     "data": {
      "text/plain": [
       "0.9751"
      ]
     },
     "execution_count": 521,
     "metadata": {},
     "output_type": "execute_result"
    }
   ],
   "source": [
    "mnist_knn_final_acc = accuracy_score(y_test,mnist_knn_final_yhat_test)\n",
    "mnist_knn_final_acc"
   ]
  },
  {
   "cell_type": "code",
   "execution_count": 476,
   "id": "c4eb67d2-04c1-45ac-b119-a01142b3503d",
   "metadata": {},
   "outputs": [
    {
     "data": {
      "image/png": "[encoded data removed]",
      "text/plain": [
       "<Figure size 720x720 with 2 Axes>"
      ]
     },
     "metadata": {
      "needs_background": "light"
     },
     "output_type": "display_data"
    }
   ],
   "source": [
    "plt.figure(figsize=(10,10))\n",
    "mnist_knn_final_cm = ConfusionMatrixDisplay.from_predictions(y_test,mnist_knn_final_yhat_test,ax=plt.gca())\n",
    "plt.show()"
   ]
  },
  {
   "cell_type": "code",
   "execution_count": 479,
   "id": "2da36e00-23f9-4e5b-9641-92e99dce462b",
   "metadata": {},
   "outputs": [
    {
     "data": {
      "text/plain": [
       "array([[ 982,    1,    1,    0,    0,    0,    1,    0,    0,    1],\n",
       "       [   0, 1121,    0,    2,    1,    0,    0,    1,    0,    0],\n",
       "       [   6,    5,  967,    3,    2,    0,    1,   14,    1,    0],\n",
       "       [   1,    1,    4,  990,    0,   11,    1,    5,    4,    3],\n",
       "       [   0,    5,    1,    0,  940,    0,    3,    2,    0,   24],\n",
       "       [   3,    0,    1,    5,    1,  878,    9,    1,    1,    3],\n",
       "       [   3,    3,    0,    0,    2,    3,  971,    0,    0,    0],\n",
       "       [   1,    8,    2,    0,    1,    0,    0, 1020,    0,   10],\n",
       "       [   5,    7,    0,   14,    2,   12,    3,    2,  920,   10],\n",
       "       [   1,    4,    0,    7,    9,    2,    0,    8,    1,  962]],\n",
       "      dtype=int64)"
      ]
     },
     "execution_count": 479,
     "metadata": {},
     "output_type": "execute_result"
    }
   ],
   "source": [
    "mnist_knn_final_cm = confusion_matrix(y_test,mnist_knn_final_yhat_test)\n",
    "mnist_knn_final_cm"
   ]
  },
  {
   "cell_type": "code",
   "execution_count": 508,
   "id": "a62230b5-c621-4f57-ba40-0bf17814d0cd",
   "metadata": {},
   "outputs": [],
   "source": [
    "mnist_knn_final_cm = mnist_knn_final_cm/mnist_knn_final_cm.sum(axis=1,keepdims=True)"
   ]
  },
  {
   "cell_type": "code",
   "execution_count": 509,
   "id": "bcbd0f68-2fe5-465e-b9ef-5d14b9754ef8",
   "metadata": {},
   "outputs": [],
   "source": [
    "np.fill_diagonal(mnist_knn_final_cm,0)"
   ]
  },
  {
   "cell_type": "code",
   "execution_count": 519,
   "id": "df43bdaf-3013-4191-9857-8da75644f363",
   "metadata": {},
   "outputs": [
    {
     "data": {
      "text/plain": [
       "<matplotlib.colorbar.Colorbar at 0x18e71f8dcf0>"
      ]
     },
     "execution_count": 519,
     "metadata": {},
     "output_type": "execute_result"
    },
    {
     "data": {
      "image/png": "[encoded data removed]",
      "text/plain": [
       "<Figure size 720x720 with 2 Axes>"
      ]
     },
     "metadata": {
      "needs_background": "light"
     },
     "output_type": "display_data"
    }
   ],
   "source": [
    "plt.figure(figsize=(10,10))\n",
    "plt.imshow(mnist_knn_final_cm,cmap='Greys')\n",
    "plt.colorbar()"
   ]
  },
  {
   "cell_type": "markdown",
   "id": "631a8b64-32fc-4f5f-95b1-7b75dc7b508a",
   "metadata": {},
   "source": [
    "We can notice that there's a relatively high confusion of actual 4 to 9 by our model.\\\n",
    "That is around 0.025, which translates to around 25 false 9 every 1000 predictions."
   ]
  },
  {
   "cell_type": "markdown",
   "id": "ca99695d-8d6f-4373-924b-55ac03d5c739",
   "metadata": {},
   "source": [
    "### Image Augmentation"
   ]
  },
  {
   "cell_type": "markdown",
   "id": "8dd23e73-4c53-4a46-84e7-2fc2829a2a2c",
   "metadata": {},
   "source": [
    "We will write a transformer to perform data augmentation.\\\n",
    "Shift each image by 1 pixel for each direction, then return the datasets with the original image plus the augmented images."
   ]
  },
  {
   "cell_type": "code",
   "execution_count": 854,
   "id": "78ab7da7-20c6-45d8-84b1-ad427b79c0ec",
   "metadata": {},
   "outputs": [],
   "source": [
    "class ImageAugmentor(BaseEstimator,TransformerMixin):\n",
    "    def __init__(self,rows,columns):\n",
    "        self.r = rows\n",
    "        self.c = columns\n",
    "        self._r_zero = np.zeros((1,self.c))\n",
    "        self._c_zero = np.zeros((self.r,1))\n",
    "        self._augmented_images = []\n",
    "        self._augmented_labels = []\n",
    "        self._X = None\n",
    "        self._X_fitted = False\n",
    "        self._y = None\n",
    "        self._y_fitted = False\n",
    "        return None\n",
    "    def fit(self,X,y=None):\n",
    "        if type(X) == pd.DataFrame:\n",
    "            self._X = X.values\n",
    "        elif type(X) == np.ndarray:\n",
    "            self._X = X\n",
    "        else:\n",
    "            raise ValueError('Input X must be in DataFrame or 2D ndarray.')\n",
    "        self._X_fitted = True\n",
    "        \n",
    "        if type(y) == pd.Series:\n",
    "            self._y = y.values\n",
    "        elif type(y) == np.ndarray:\n",
    "            self._y = y\n",
    "        elif not y:\n",
    "            pass\n",
    "        else:\n",
    "            raise ValueError('Input y must be in Series or 1D ndarray.')\n",
    "        self._y_fitted = True\n",
    "        \n",
    "        return self\n",
    "    def transform(self,X,y=None):\n",
    "        if self._X_fitted == False:\n",
    "            raise ValueError('Please fit the data before transforming.')\n",
    "        self._augmented_images = []\n",
    "        self._augmented_labels = []\n",
    "        \n",
    "        for x,label in zip(self._X,self._y):\n",
    "            x = x.reshape((self.r,self.c))\n",
    "            \n",
    "            self._augmented_images.append(np.concatenate((x[:,1:],self._c_zero),axis=1).flatten())\n",
    "            self._augmented_images.append(np.concatenate((self._c_zero,x[:,:-1]),axis=1).flatten())\n",
    "            self._augmented_images.append(np.concatenate((x[1:,:],self._r_zero),axis=0).flatten())\n",
    "            self._augmented_images.append(np.concatenate((self._r_zero,x[:-1,:]),axis=0).flatten())\n",
    "            if self._y_fitted: [self._augmented_labels.append(label) for i in range(4)]\n",
    "        if not self._y_fitted:\n",
    "            return np.concatenate((self._X,np.asarray(self._augmented_images)),axis=0)\n",
    "        elif self._y_fitted:\n",
    "            return np.concatenate((self._X,np.asarray(self._augmented_images)),axis=0),np.concatenate((self._y,np.asarray(self._augmented_labels)))"
   ]
  },
  {
   "cell_type": "markdown",
   "id": "cea3a4d1-1df9-4fbe-9263-3ea276f48d2c",
   "metadata": {},
   "source": [
    "Let's use the image augmenter we just created to augment the dataset with 1 pixel shifting to each direction"
   ]
  },
  {
   "cell_type": "code",
   "execution_count": 866,
   "id": "d817ab37-2e95-41bf-98eb-8230e2d6c65c",
   "metadata": {},
   "outputs": [],
   "source": [
    "augmenter = ImageAugmentor(28,28)"
   ]
  },
  {
   "cell_type": "code",
   "execution_count": 867,
   "id": "10bdc496-45be-459d-b2b8-8e112083532e",
   "metadata": {},
   "outputs": [],
   "source": [
    "X_train_aug,y_train_aug = augmenter.fit_transform(X_train,y_train)"
   ]
  },
  {
   "cell_type": "code",
   "execution_count": 869,
   "id": "0c81e362-6beb-46f2-a814-6402c0810ad9",
   "metadata": {},
   "outputs": [
    {
     "data": {
      "text/plain": [
       "((300000, 784), (300000,))"
      ]
     },
     "execution_count": 869,
     "metadata": {},
     "output_type": "execute_result"
    }
   ],
   "source": [
    "X_train_aug.shape,y_train_aug.shape"
   ]
  },
  {
   "cell_type": "markdown",
   "id": "9b4814af-11e9-4023-a0dc-f19ca81db9c5",
   "metadata": {},
   "source": [
    "#### Saving the datasets"
   ]
  },
  {
   "cell_type": "code",
   "execution_count": 897,
   "id": "bfe9db8b-c440-4ba6-bd42-934352f2cf1d",
   "metadata": {},
   "outputs": [
    {
     "data": {
      "text/plain": [
       "['Datasets\\\\y_train_aug.pkl']"
      ]
     },
     "execution_count": 897,
     "metadata": {},
     "output_type": "execute_result"
    }
   ],
   "source": [
    "savingpath = \"Datasets\\\\\"\n",
    "joblib.dump(X_train_aug,savingpath+\"X_train_aug.pkl\",compress=9)\n",
    "joblib.dump(y_train_aug,savingpath+\"y_train_aug.pkl\",compress=9)"
   ]
  },
  {
   "cell_type": "markdown",
   "id": "51e625cb-9b9c-49c5-81b6-4556a89a4f27",
   "metadata": {},
   "source": [
    "Now let's train our model with the augmented dataset"
   ]
  },
  {
   "cell_type": "code",
   "execution_count": 879,
   "id": "bd9a9db9-320b-4aed-beb4-35f5a3a4504f",
   "metadata": {},
   "outputs": [
    {
     "data": {
      "text/html": [
       "<style>#sk-container-id-22 {color: black;background-color: white;}#sk-container-id-22 pre{padding: 0;}#sk-container-id-22 div.sk-toggleable {background-color: white;}#sk-container-id-22 label.sk-toggleable__label {cursor: pointer;display: block;width: 100%;margin-bottom: 0;padding: 0.3em;box-sizing: border-box;text-align: center;}#sk-container-id-22 label.sk-toggleable__label-arrow:before {content: \"▸\";float: left;margin-right: 0.25em;color: #696969;}#sk-container-id-22 label.sk-toggleable__label-arrow:hover:before {color: black;}#sk-container-id-22 div.sk-estimator:hover label.sk-toggleable__label-arrow:before {color: black;}#sk-container-id-22 div.sk-toggleable__content {max-height: 0;max-width: 0;overflow: hidden;text-align: left;background-color: #f0f8ff;}#sk-container-id-22 div.sk-toggleable__content pre {margin: 0.2em;color: black;border-radius: 0.25em;background-color: #f0f8ff;}#sk-container-id-22 input.sk-toggleable__control:checked~div.sk-toggleable__content {max-height: 200px;max-width: 100%;overflow: auto;}#sk-container-id-22 input.sk-toggleable__control:checked~label.sk-toggleable__label-arrow:before {content: \"▾\";}#sk-container-id-22 div.sk-estimator input.sk-toggleable__control:checked~label.sk-toggleable__label {background-color: #d4ebff;}#sk-container-id-22 div.sk-label input.sk-toggleable__control:checked~label.sk-toggleable__label {background-color: #d4ebff;}#sk-container-id-22 input.sk-hidden--visually {border: 0;clip: rect(1px 1px 1px 1px);clip: rect(1px, 1px, 1px, 1px);height: 1px;margin: -1px;overflow: hidden;padding: 0;position: absolute;width: 1px;}#sk-container-id-22 div.sk-estimator {font-family: monospace;background-color: #f0f8ff;border: 1px dotted black;border-radius: 0.25em;box-sizing: border-box;margin-bottom: 0.5em;}#sk-container-id-22 div.sk-estimator:hover {background-color: #d4ebff;}#sk-container-id-22 div.sk-parallel-item::after {content: \"\";width: 100%;border-bottom: 1px solid gray;flex-grow: 1;}#sk-container-id-22 div.sk-label:hover label.sk-toggleable__label {background-color: #d4ebff;}#sk-container-id-22 div.sk-serial::before {content: \"\";position: absolute;border-left: 1px solid gray;box-sizing: border-box;top: 0;bottom: 0;left: 50%;z-index: 0;}#sk-container-id-22 div.sk-serial {display: flex;flex-direction: column;align-items: center;background-color: white;padding-right: 0.2em;padding-left: 0.2em;position: relative;}#sk-container-id-22 div.sk-item {position: relative;z-index: 1;}#sk-container-id-22 div.sk-parallel {display: flex;align-items: stretch;justify-content: center;background-color: white;position: relative;}#sk-container-id-22 div.sk-item::before, #sk-container-id-22 div.sk-parallel-item::before {content: \"\";position: absolute;border-left: 1px solid gray;box-sizing: border-box;top: 0;bottom: 0;left: 50%;z-index: -1;}#sk-container-id-22 div.sk-parallel-item {display: flex;flex-direction: column;z-index: 1;position: relative;background-color: white;}#sk-container-id-22 div.sk-parallel-item:first-child::after {align-self: flex-end;width: 50%;}#sk-container-id-22 div.sk-parallel-item:last-child::after {align-self: flex-start;width: 50%;}#sk-container-id-22 div.sk-parallel-item:only-child::after {width: 0;}#sk-container-id-22 div.sk-dashed-wrapped {border: 1px dashed gray;margin: 0 0.4em 0.5em 0.4em;box-sizing: border-box;padding-bottom: 0.4em;background-color: white;}#sk-container-id-22 div.sk-label label {font-family: monospace;font-weight: bold;display: inline-block;line-height: 1.2em;}#sk-container-id-22 div.sk-label-container {text-align: center;}#sk-container-id-22 div.sk-container {/* jupyter's `normalize.less` sets `[hidden] { display: none; }` but bootstrap.min.css set `[hidden] { display: none !important; }` so we also need the `!important` here to be able to override the default hidden behavior on the sphinx rendered scikit-learn.org. See: https://github.com/scikit-learn/scikit-learn/issues/21755 */display: inline-block !important;position: relative;}#sk-container-id-22 div.sk-text-repr-fallback {display: none;}</style><div id=\"sk-container-id-22\" class=\"sk-top-container\"><div class=\"sk-text-repr-fallback\"><pre>Pipeline(steps=[(&#x27;scaler&#x27;, MyScaler(scalertype=&#x27;skip&#x27;)),\n",
       "                (&#x27;knn&#x27;,\n",
       "                 KNeighborsClassifier(n_neighbors=3, weights=&#x27;distance&#x27;))])</pre><b>In a Jupyter environment, please rerun this cell to show the HTML representation or trust the notebook. <br />On GitHub, the HTML representation is unable to render, please try loading this page with nbviewer.org.</b></div><div class=\"sk-container\" hidden><div class=\"sk-item sk-dashed-wrapped\"><div class=\"sk-label-container\"><div class=\"sk-label sk-toggleable\"><input class=\"sk-toggleable__control sk-hidden--visually\" id=\"sk-estimator-id-42\" type=\"checkbox\" ><label for=\"sk-estimator-id-42\" class=\"sk-toggleable__label sk-toggleable__label-arrow\">Pipeline</label><div class=\"sk-toggleable__content\"><pre>Pipeline(steps=[(&#x27;scaler&#x27;, MyScaler(scalertype=&#x27;skip&#x27;)),\n",
       "                (&#x27;knn&#x27;,\n",
       "                 KNeighborsClassifier(n_neighbors=3, weights=&#x27;distance&#x27;))])</pre></div></div></div><div class=\"sk-serial\"><div class=\"sk-item\"><div class=\"sk-estimator sk-toggleable\"><input class=\"sk-toggleable__control sk-hidden--visually\" id=\"sk-estimator-id-43\" type=\"checkbox\" ><label for=\"sk-estimator-id-43\" class=\"sk-toggleable__label sk-toggleable__label-arrow\">MyScaler</label><div class=\"sk-toggleable__content\"><pre>MyScaler(scalertype=&#x27;skip&#x27;)</pre></div></div></div><div class=\"sk-item\"><div class=\"sk-estimator sk-toggleable\"><input class=\"sk-toggleable__control sk-hidden--visually\" id=\"sk-estimator-id-44\" type=\"checkbox\" ><label for=\"sk-estimator-id-44\" class=\"sk-toggleable__label sk-toggleable__label-arrow\">KNeighborsClassifier</label><div class=\"sk-toggleable__content\"><pre>KNeighborsClassifier(n_neighbors=3, weights=&#x27;distance&#x27;)</pre></div></div></div></div></div></div></div>"
      ],
      "text/plain": [
       "Pipeline(steps=[('scaler', MyScaler(scalertype='skip')),\n",
       "                ('knn',\n",
       "                 KNeighborsClassifier(n_neighbors=3, weights='distance'))])"
      ]
     },
     "execution_count": 879,
     "metadata": {},
     "output_type": "execute_result"
    }
   ],
   "source": [
    "mnist_knn_final_aug = clone(mnist_knn_final)\n",
    "mnist_knn_final_aug"
   ]
  },
  {
   "cell_type": "code",
   "execution_count": 881,
   "id": "0173877d-c6e5-4e9c-9115-b5afcd8966da",
   "metadata": {},
   "outputs": [
    {
     "data": {
      "text/html": [
       "<style>#sk-container-id-23 {color: black;background-color: white;}#sk-container-id-23 pre{padding: 0;}#sk-container-id-23 div.sk-toggleable {background-color: white;}#sk-container-id-23 label.sk-toggleable__label {cursor: pointer;display: block;width: 100%;margin-bottom: 0;padding: 0.3em;box-sizing: border-box;text-align: center;}#sk-container-id-23 label.sk-toggleable__label-arrow:before {content: \"▸\";float: left;margin-right: 0.25em;color: #696969;}#sk-container-id-23 label.sk-toggleable__label-arrow:hover:before {color: black;}#sk-container-id-23 div.sk-estimator:hover label.sk-toggleable__label-arrow:before {color: black;}#sk-container-id-23 div.sk-toggleable__content {max-height: 0;max-width: 0;overflow: hidden;text-align: left;background-color: #f0f8ff;}#sk-container-id-23 div.sk-toggleable__content pre {margin: 0.2em;color: black;border-radius: 0.25em;background-color: #f0f8ff;}#sk-container-id-23 input.sk-toggleable__control:checked~div.sk-toggleable__content {max-height: 200px;max-width: 100%;overflow: auto;}#sk-container-id-23 input.sk-toggleable__control:checked~label.sk-toggleable__label-arrow:before {content: \"▾\";}#sk-container-id-23 div.sk-estimator input.sk-toggleable__control:checked~label.sk-toggleable__label {background-color: #d4ebff;}#sk-container-id-23 div.sk-label input.sk-toggleable__control:checked~label.sk-toggleable__label {background-color: #d4ebff;}#sk-container-id-23 input.sk-hidden--visually {border: 0;clip: rect(1px 1px 1px 1px);clip: rect(1px, 1px, 1px, 1px);height: 1px;margin: -1px;overflow: hidden;padding: 0;position: absolute;width: 1px;}#sk-container-id-23 div.sk-estimator {font-family: monospace;background-color: #f0f8ff;border: 1px dotted black;border-radius: 0.25em;box-sizing: border-box;margin-bottom: 0.5em;}#sk-container-id-23 div.sk-estimator:hover {background-color: #d4ebff;}#sk-container-id-23 div.sk-parallel-item::after {content: \"\";width: 100%;border-bottom: 1px solid gray;flex-grow: 1;}#sk-container-id-23 div.sk-label:hover label.sk-toggleable__label {background-color: #d4ebff;}#sk-container-id-23 div.sk-serial::before {content: \"\";position: absolute;border-left: 1px solid gray;box-sizing: border-box;top: 0;bottom: 0;left: 50%;z-index: 0;}#sk-container-id-23 div.sk-serial {display: flex;flex-direction: column;align-items: center;background-color: white;padding-right: 0.2em;padding-left: 0.2em;position: relative;}#sk-container-id-23 div.sk-item {position: relative;z-index: 1;}#sk-container-id-23 div.sk-parallel {display: flex;align-items: stretch;justify-content: center;background-color: white;position: relative;}#sk-container-id-23 div.sk-item::before, #sk-container-id-23 div.sk-parallel-item::before {content: \"\";position: absolute;border-left: 1px solid gray;box-sizing: border-box;top: 0;bottom: 0;left: 50%;z-index: -1;}#sk-container-id-23 div.sk-parallel-item {display: flex;flex-direction: column;z-index: 1;position: relative;background-color: white;}#sk-container-id-23 div.sk-parallel-item:first-child::after {align-self: flex-end;width: 50%;}#sk-container-id-23 div.sk-parallel-item:last-child::after {align-self: flex-start;width: 50%;}#sk-container-id-23 div.sk-parallel-item:only-child::after {width: 0;}#sk-container-id-23 div.sk-dashed-wrapped {border: 1px dashed gray;margin: 0 0.4em 0.5em 0.4em;box-sizing: border-box;padding-bottom: 0.4em;background-color: white;}#sk-container-id-23 div.sk-label label {font-family: monospace;font-weight: bold;display: inline-block;line-height: 1.2em;}#sk-container-id-23 div.sk-label-container {text-align: center;}#sk-container-id-23 div.sk-container {/* jupyter's `normalize.less` sets `[hidden] { display: none; }` but bootstrap.min.css set `[hidden] { display: none !important; }` so we also need the `!important` here to be able to override the default hidden behavior on the sphinx rendered scikit-learn.org. See: https://github.com/scikit-learn/scikit-learn/issues/21755 */display: inline-block !important;position: relative;}#sk-container-id-23 div.sk-text-repr-fallback {display: none;}</style><div id=\"sk-container-id-23\" class=\"sk-top-container\"><div class=\"sk-text-repr-fallback\"><pre>Pipeline(steps=[(&#x27;scaler&#x27;, MyScaler(scalertype=&#x27;skip&#x27;)),\n",
       "                (&#x27;knn&#x27;,\n",
       "                 KNeighborsClassifier(n_neighbors=3, weights=&#x27;distance&#x27;))])</pre><b>In a Jupyter environment, please rerun this cell to show the HTML representation or trust the notebook. <br />On GitHub, the HTML representation is unable to render, please try loading this page with nbviewer.org.</b></div><div class=\"sk-container\" hidden><div class=\"sk-item sk-dashed-wrapped\"><div class=\"sk-label-container\"><div class=\"sk-label sk-toggleable\"><input class=\"sk-toggleable__control sk-hidden--visually\" id=\"sk-estimator-id-45\" type=\"checkbox\" ><label for=\"sk-estimator-id-45\" class=\"sk-toggleable__label sk-toggleable__label-arrow\">Pipeline</label><div class=\"sk-toggleable__content\"><pre>Pipeline(steps=[(&#x27;scaler&#x27;, MyScaler(scalertype=&#x27;skip&#x27;)),\n",
       "                (&#x27;knn&#x27;,\n",
       "                 KNeighborsClassifier(n_neighbors=3, weights=&#x27;distance&#x27;))])</pre></div></div></div><div class=\"sk-serial\"><div class=\"sk-item\"><div class=\"sk-estimator sk-toggleable\"><input class=\"sk-toggleable__control sk-hidden--visually\" id=\"sk-estimator-id-46\" type=\"checkbox\" ><label for=\"sk-estimator-id-46\" class=\"sk-toggleable__label sk-toggleable__label-arrow\">MyScaler</label><div class=\"sk-toggleable__content\"><pre>MyScaler(scalertype=&#x27;skip&#x27;)</pre></div></div></div><div class=\"sk-item\"><div class=\"sk-estimator sk-toggleable\"><input class=\"sk-toggleable__control sk-hidden--visually\" id=\"sk-estimator-id-47\" type=\"checkbox\" ><label for=\"sk-estimator-id-47\" class=\"sk-toggleable__label sk-toggleable__label-arrow\">KNeighborsClassifier</label><div class=\"sk-toggleable__content\"><pre>KNeighborsClassifier(n_neighbors=3, weights=&#x27;distance&#x27;)</pre></div></div></div></div></div></div></div>"
      ],
      "text/plain": [
       "Pipeline(steps=[('scaler', MyScaler(scalertype='skip')),\n",
       "                ('knn',\n",
       "                 KNeighborsClassifier(n_neighbors=3, weights='distance'))])"
      ]
     },
     "execution_count": 881,
     "metadata": {},
     "output_type": "execute_result"
    }
   ],
   "source": [
    "mnist_knn_final_aug.fit(X_train_aug,y_train_aug)"
   ]
  },
  {
   "cell_type": "code",
   "execution_count": 884,
   "id": "cbe6837e-7db6-40aa-b83c-7229d2e7749c",
   "metadata": {},
   "outputs": [],
   "source": [
    "mnist_knn_final_aug_yhat_test = mnist_knn_final_aug.predict(X_test)"
   ]
  },
  {
   "cell_type": "code",
   "execution_count": 885,
   "id": "1f46952e-2b28-4ca2-9bcf-84981908bfcf",
   "metadata": {},
   "outputs": [
    {
     "data": {
      "text/plain": [
       "0.9799"
      ]
     },
     "execution_count": 885,
     "metadata": {},
     "output_type": "execute_result"
    }
   ],
   "source": [
    "mnist_knn_final_aug_acc = accuracy_score(y_test,mnist_knn_final_aug_yhat_test)\n",
    "mnist_knn_final_aug_acc"
   ]
  },
  {
   "cell_type": "markdown",
   "id": "e17495dd-66ab-4952-897d-49c4007baef5",
   "metadata": {},
   "source": [
    "The accuracy score now has increased by another 0.5%"
   ]
  },
  {
   "cell_type": "code",
   "execution_count": 886,
   "id": "8563a164-4405-4d20-80db-65fe10abf385",
   "metadata": {},
   "outputs": [
    {
     "data": {
      "image/png": "[encoded data removed]",
      "text/plain": [
       "<Figure size 720x720 with 2 Axes>"
      ]
     },
     "metadata": {
      "needs_background": "light"
     },
     "output_type": "display_data"
    }
   ],
   "source": [
    "plt.figure(figsize=(10,10))\n",
    "mnist_knn_final_aug_cmdisp = ConfusionMatrixDisplay.from_predictions(y_test,mnist_knn_final_aug_yhat_test,ax=plt.gca())\n",
    "plt.show()"
   ]
  },
  {
   "cell_type": "code",
   "execution_count": 887,
   "id": "b75590ea-f7ea-4e99-9bd1-dc8e0db19f5f",
   "metadata": {},
   "outputs": [
    {
     "data": {
      "text/plain": [
       "array([[ 983,    1,    1,    0,    0,    0,    0,    0,    1,    0],\n",
       "       [   0, 1125,    0,    0,    0,    0,    0,    0,    0,    0],\n",
       "       [   5,    3,  970,    2,    2,    0,    0,   14,    2,    1],\n",
       "       [   1,    1,    1, 1000,    0,    8,    0,    3,    4,    2],\n",
       "       [   0,    5,    0,    0,  949,    0,    1,    2,    0,   18],\n",
       "       [   2,    0,    0,    3,    1,  887,    6,    1,    0,    2],\n",
       "       [   3,    4,    0,    0,    1,    2,  971,    0,    1,    0],\n",
       "       [   0,    7,    1,    0,    4,    0,    0, 1022,    0,    8],\n",
       "       [   3,    6,    2,   16,    1,    7,    5,    1,  924,   10],\n",
       "       [   1,    3,    0,    3,   11,    4,    0,    3,    1,  968]],\n",
       "      dtype=int64)"
      ]
     },
     "execution_count": 887,
     "metadata": {},
     "output_type": "execute_result"
    }
   ],
   "source": [
    "mnist_knn_final_aug_cm = confusion_matrix(y_test,mnist_knn_final_aug_yhat_test)\n",
    "mnist_knn_final_aug_cm"
   ]
  },
  {
   "cell_type": "code",
   "execution_count": 888,
   "id": "7dcf8a29-c3ba-40dd-91cb-1f28db7190d9",
   "metadata": {},
   "outputs": [],
   "source": [
    "mnist_knn_final_aug_cm = mnist_knn_final_aug_cm/mnist_knn_final_aug_cm.sum(axis=1,keepdims=True)"
   ]
  },
  {
   "cell_type": "code",
   "execution_count": 889,
   "id": "60900567-7e06-478b-a914-f7e63857c26d",
   "metadata": {},
   "outputs": [],
   "source": [
    "np.fill_diagonal(mnist_knn_final_aug_cm,0)"
   ]
  },
  {
   "cell_type": "code",
   "execution_count": 890,
   "id": "be8b4c8c-2f43-4daa-a566-437cba8e7abc",
   "metadata": {},
   "outputs": [
    {
     "data": {
      "text/plain": [
       "<matplotlib.colorbar.Colorbar at 0x18e70dd72e0>"
      ]
     },
     "execution_count": 890,
     "metadata": {},
     "output_type": "execute_result"
    },
    {
     "data": {
      "image/png": "[encoded data removed]",
      "text/plain": [
       "<Figure size 720x720 with 2 Axes>"
      ]
     },
     "metadata": {
      "needs_background": "light"
     },
     "output_type": "display_data"
    }
   ],
   "source": [
    "plt.figure(figsize=(10,10))\n",
    "plt.imshow(mnist_knn_final_aug_cm,cmap='Greys')\n",
    "plt.colorbar()"
   ]
  },
  {
   "cell_type": "markdown",
   "id": "73c1eb2c-1be9-45c8-af76-77c802ec69d2",
   "metadata": {},
   "source": [
    "From this confusion matrix, we can clearly see an improvement (maybe not much, but definitely is).\\\n",
    "The darkest square is at (9,4) and (3,8). We can see that its rate of happening is now down to 0.018 from previously 0.025 highest.\\"
   ]
  },
  {
   "cell_type": "markdown",
   "id": "9b139074-ba91-477c-ad03-5f25d1501a8e",
   "metadata": {},
   "source": [
    "**Conclusion**:\n",
    "\n",
    "To further improve the accuracy of this model, we can fit the more samples for number 3,4,8 and 9 to our model.\\\n",
    "So that it can distinguish these look-alike numbers accurately."
   ]
  },
  {
   "cell_type": "markdown",
   "id": "88946e0a-639d-4cfd-8328-05d4b825cd13",
   "metadata": {},
   "source": [
    "I am going to stop here as the accuracy of 98% is more than enough to fulfill the purpose of this exercise."
   ]
  },
  {
   "cell_type": "markdown",
   "id": "f5a3de72-e37c-4a10-b807-446e5200c091",
   "metadata": {},
   "source": [
    "## Saving the trained model"
   ]
  },
  {
   "cell_type": "code",
   "execution_count": 893,
   "id": "0edc74a2-f938-40fb-8a9e-3ff1b67dec5a",
   "metadata": {},
   "outputs": [],
   "source": [
    "mnist_knn_final_aug_scores = {\n",
    "    \"mnist_knn_final_aug_acc\":mnist_knn_final_aug_acc,\n",
    "    \"mnist_knn_final_aug_cm\":mnist_knn_final_aug_cm,\n",
    "    \"mnist_knn_final_aug_cmdisp\":mnist_knn_final_aug_cmdisp,\n",
    "}"
   ]
  },
  {
   "cell_type": "code",
   "execution_count": 896,
   "id": "fbecdd87-a954-4444-a541-de123753b32c",
   "metadata": {},
   "outputs": [],
   "source": [
    "dump_model(mnist_knn_final_aug,\"mnist_knn_final_aug\",mnist_knn_final_aug_yhat_test,mnist_knn_final_aug_scores)"
   ]
  }
 ],
 "metadata": {
  "kernelspec": {
   "display_name": "Python 3 (ipykernel)",
   "language": "python",
   "name": "python3"
  },
  "language_info": {
   "codemirror_mode": {
    "name": "ipython",
    "version": 3
   },
   "file_extension": ".py",
   "mimetype": "text/x-python",
   "name": "python",
   "nbconvert_exporter": "python",
   "pygments_lexer": "ipython3",
   "version": "3.10.3"
  }
 },
 "nbformat": 4,
 "nbformat_minor": 5
}
