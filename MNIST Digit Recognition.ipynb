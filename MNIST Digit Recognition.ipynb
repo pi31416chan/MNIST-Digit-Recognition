{
 "cells": [
  {
   "cell_type": "markdown",
   "id": "c01fad19-6e05-4ca1-be6b-f13418fad86c",
   "metadata": {},
   "source": [
    "# MNIST Hand Written Digit Recognition"
   ]
  },
  {
   "cell_type": "markdown",
   "id": "9a34ae72-7ab6-4169-b511-44829cf5b798",
   "metadata": {},
   "source": [
    "Let's try using different machine learning models to address this problem and see which model gives the best accuracy in predicting hand written digits\n",
    "\n",
    "Each digit is represented by a 28x28 pixels image."
   ]
  },
  {
   "cell_type": "markdown",
   "id": "17e1df0c-69a2-4678-b7db-0180984c4a5b",
   "metadata": {},
   "source": [
    "# Imports"
   ]
  },
  {
   "cell_type": "code",
   "execution_count": 121,
   "id": "FlHYReUqIw1M",
   "metadata": {
    "executionInfo": {
     "elapsed": 3,
     "status": "ok",
     "timestamp": 1659786080954,
     "user": {
      "displayName": "Xing Wei Chan",
      "userId": "01670590605776881840"
     },
     "user_tz": -480
    },
    "id": "FlHYReUqIw1M"
   },
   "outputs": [],
   "source": [
    "import matplotlib.pyplot as plt\n",
    "%matplotlib inline\n",
    "import math\n",
    "import pandas as pd\n",
    "import numpy as np\n",
    "import json\n",
    "import sklearn.datasets as datasets\n",
    "from sklearn.datasets import fetch_openml\n",
    "from sklearn.cluster import KMeans\n",
    "from sklearn.neighbors import KNeighborsClassifier\n",
    "from sklearn.svm import SVC\n",
    "from sklearn.naive_bayes import CategoricalNB\n",
    "from sklearn.utils import shuffle,resample\n",
    "from sklearn.metrics import jaccard_score,f1_score,accuracy_score,r2_score,silhouette_score,make_scorer\n",
    "from sklearn.model_selection import train_test_split,GridSearchCV"
   ]
  },
  {
   "cell_type": "markdown",
   "id": "6e81be23-6581-41f9-9c9c-b3dcd1399d98",
   "metadata": {},
   "source": [
    "# Preparing the datasets"
   ]
  },
  {
   "cell_type": "markdown",
   "id": "4e2f30b4-473a-4bb3-80f8-26002796d276",
   "metadata": {},
   "source": [
    "Download the dataset from internet"
   ]
  },
  {
   "cell_type": "code",
   "execution_count": 2,
   "id": "58d1731e-0cfd-4c2d-aa5c-24ec6114e295",
   "metadata": {},
   "outputs": [],
   "source": [
    "rawdata = fetch_openml(\"mnist_784\") # fetch dataset from internet"
   ]
  },
  {
   "cell_type": "markdown",
   "id": "2e5b5fd9-a9e5-4964-9298-64945754ed36",
   "metadata": {},
   "source": [
    "Getting the raw data X and Y from the downloaded dataset"
   ]
  },
  {
   "cell_type": "code",
   "execution_count": 3,
   "id": "0e3c4480-5aef-413a-9468-f3a112e05429",
   "metadata": {},
   "outputs": [],
   "source": [
    "x_raw,y_raw = np.asarray(rawdata['data']),np.asarray(rawdata['target'])"
   ]
  },
  {
   "cell_type": "code",
   "execution_count": 4,
   "id": "n_XsEaafU_vO",
   "metadata": {
    "colab": {
     "base_uri": "https://localhost:8080/",
     "height": 713
    },
    "executionInfo": {
     "elapsed": 775,
     "status": "ok",
     "timestamp": 1659786160344,
     "user": {
      "displayName": "Xing Wei Chan",
      "userId": "01670590605776881840"
     },
     "user_tz": -480
    },
    "id": "n_XsEaafU_vO",
    "outputId": "62a4f498-1d28-4eee-8c1f-326f2940d331"
   },
   "outputs": [
    {
     "data": {
      "text/plain": [
       "(numpy.ndarray,\n",
       " (70000, 784),\n",
       " dtype('float64'),\n",
       " numpy.ndarray,\n",
       " (70000,),\n",
       " dtype('O'))"
      ]
     },
     "execution_count": 4,
     "metadata": {},
     "output_type": "execute_result"
    }
   ],
   "source": [
    "type(x_raw),x_raw.shape,x_raw.dtype,type(y_raw),y_raw.shape,y_raw.dtype"
   ]
  },
  {
   "cell_type": "code",
   "execution_count": 5,
   "id": "09lT9YJ2VR3v",
   "metadata": {
    "executionInfo": {
     "elapsed": 561,
     "status": "ok",
     "timestamp": 1659786169877,
     "user": {
      "displayName": "Xing Wei Chan",
      "userId": "01670590605776881840"
     },
     "user_tz": -480
    },
    "id": "09lT9YJ2VR3v"
   },
   "outputs": [],
   "source": [
    "x_train,x_test,y_train,y_test = train_test_split(x_raw,y_raw,test_size=1000,train_size=5000,random_state=1)"
   ]
  },
  {
   "cell_type": "markdown",
   "id": "b6a25354-73e5-470c-b537-6372b47826d2",
   "metadata": {},
   "source": [
    "Changing the y datasets to dtype 'int'"
   ]
  },
  {
   "cell_type": "code",
   "execution_count": 6,
   "id": "cf170719-b1d6-42c4-aedc-b1f00aec65b2",
   "metadata": {},
   "outputs": [],
   "source": [
    "y_train,y_test = y_train.astype(int),y_test.astype(int)"
   ]
  },
  {
   "cell_type": "markdown",
   "id": "3fd2ab91-a3f6-4c13-9c2d-6fe6a1db86bd",
   "metadata": {
    "id": "3fdaf3d3"
   },
   "source": [
    "Let's have a look at some of the instances in the dataset we just loaded:"
   ]
  },
  {
   "cell_type": "code",
   "execution_count": 7,
   "id": "c3c4fb44",
   "metadata": {
    "colab": {
     "base_uri": "https://localhost:8080/",
     "height": 287
    },
    "collapsed": false,
    "executionInfo": {
     "elapsed": 1532,
     "status": "ok",
     "timestamp": 1659786176262,
     "user": {
      "displayName": "Xing Wei Chan",
      "userId": "01670590605776881840"
     },
     "user_tz": -480
    },
    "id": "c3c4fb44",
    "jupyter": {
     "outputs_hidden": false
    },
    "outputId": "bb778378-0d8f-479c-aaa0-9a633f7f924d"
   },
   "outputs": [
    {
     "data": {
      "image/png": "[encoded data removed]",
      "text/plain": [
       "<Figure size 1008x288 with 20 Axes>"
      ]
     },
     "metadata": {},
     "output_type": "display_data"
    }
   ],
   "source": [
    "plt.figure(figsize=(14,4))\n",
    "plt.rc(\"image\", cmap=\"binary\") # use black/white palette for plotting\n",
    "for i in range(20):\n",
    "    plt.subplot(2,10,i+1)\n",
    "    plt.imshow(x_train[i].reshape(28,28))\n",
    "    plt.xticks(())\n",
    "    plt.yticks(())\n",
    "plt.tight_layout()"
   ]
  },
  {
   "cell_type": "markdown",
   "id": "869ebe2d-42a8-4230-8f70-bfcea4148424",
   "metadata": {},
   "source": [
    "## Storing Datasets"
   ]
  },
  {
   "cell_type": "markdown",
   "id": "26a3b7ee-e119-46ce-bb3a-27e34527636d",
   "metadata": {},
   "source": [
    "We will store our datasets locally so that we can continue with the same datasets everytime launching this notebook.\\\n",
    "The raw data will be stored as JSON file and the train and test datasets will be stored as CSV file."
   ]
  },
  {
   "cell_type": "code",
   "execution_count": 31,
   "id": "0e24b4be-9a7b-4e0e-9d90-7b361f41ec48",
   "metadata": {},
   "outputs": [],
   "source": [
    "pd.to_pickle(rawdata,\"Datasets\\\\MNIST 784 rawdata.pkl\",compression='zip')"
   ]
  },
  {
   "cell_type": "code",
   "execution_count": 94,
   "id": "c5370d2a-cb24-4455-857d-de68919ed7f6",
   "metadata": {},
   "outputs": [],
   "source": [
    "pd.DataFrame(x_train).to_csv(\"Datasets\\\\x_train.csv\")\n",
    "pd.Series(y_train).to_csv(\"Datasets\\\\y_train.csv\")\n",
    "pd.DataFrame(x_test).to_csv(\"Datasets\\\\x_test.csv\")\n",
    "pd.Series(y_test).to_csv(\"Datasets\\\\y_test.csv\")"
   ]
  },
  {
   "cell_type": "markdown",
   "id": "cf0a67db-3edb-4901-8080-ee7b59537a81",
   "metadata": {
    "tags": []
   },
   "source": [
    "## Loading Datasets"
   ]
  },
  {
   "cell_type": "code",
   "execution_count": 106,
   "id": "d195acb0-7189-4439-bc25-1b0fce02bde2",
   "metadata": {},
   "outputs": [],
   "source": [
    "rawdata = pd.read_pickle(\"Datasets\\\\MNIST 784 rawdata.pkl\",compression='zip')"
   ]
  },
  {
   "cell_type": "code",
   "execution_count": 107,
   "id": "4c20a8b0-0bd8-460e-af89-151456e110ee",
   "metadata": {},
   "outputs": [
    {
     "data": {
      "text/plain": [
       "sklearn.utils._bunch.Bunch"
      ]
     },
     "execution_count": 107,
     "metadata": {},
     "output_type": "execute_result"
    }
   ],
   "source": [
    "type(rawdata)"
   ]
  },
  {
   "cell_type": "code",
   "execution_count": 117,
   "id": "bf75eb2a-416b-452a-b733-f67c88c8ee49",
   "metadata": {},
   "outputs": [],
   "source": [
    "x_train = pd.read_csv(\"Datasets\\\\x_train.csv\",index_col=0).values\n",
    "y_train = pd.read_csv(\"Datasets\\\\y_train.csv\",index_col=0)['0'].values\n",
    "x_test = pd.read_csv(\"Datasets\\\\x_test.csv\",index_col=0).values\n",
    "y_test = pd.read_csv(\"Datasets\\\\y_test.csv\",index_col=0)['0'].values"
   ]
  },
  {
   "cell_type": "code",
   "execution_count": 118,
   "id": "bb184edb-2c96-4de3-9387-f7ae18ce6887",
   "metadata": {},
   "outputs": [
    {
     "data": {
      "text/plain": [
       "(numpy.ndarray,\n",
       " numpy.ndarray,\n",
       " numpy.ndarray,\n",
       " numpy.ndarray,\n",
       " (5000, 784),\n",
       " (5000,),\n",
       " (1000, 784),\n",
       " (1000,))"
      ]
     },
     "execution_count": 118,
     "metadata": {},
     "output_type": "execute_result"
    }
   ],
   "source": [
    "type(x_train),type(y_train),type(x_test),type(y_test),x_train.shape,y_train.shape,x_test.shape,y_test.shape"
   ]
  },
  {
   "cell_type": "markdown",
   "id": "f3bcbc1a-03b9-4ad6-8b3a-2129e6665863",
   "metadata": {
    "tags": []
   },
   "source": [
    "## Deleting Datasets"
   ]
  },
  {
   "cell_type": "code",
   "execution_count": 112,
   "id": "ed4922eb-30d6-46b7-b761-8664dee6c8db",
   "metadata": {},
   "outputs": [
    {
     "data": {
      "text/plain": [
       "878232105"
      ]
     },
     "execution_count": 112,
     "metadata": {},
     "output_type": "execute_result"
    }
   ],
   "source": [
    "sum([getsizeof(val) for val in rawdata.values()])"
   ]
  },
  {
   "cell_type": "markdown",
   "id": "37ea55ab-cc44-44e4-b621-3d451d7c5d05",
   "metadata": {},
   "source": [
    "As we can see the rawdata takes 878 mb of memory, we will delete its instance since we already have our train and test datasets now."
   ]
  },
  {
   "cell_type": "code",
   "execution_count": 113,
   "id": "aa7ef896-bc18-488c-a850-9d0f6b0f7639",
   "metadata": {},
   "outputs": [],
   "source": [
    "del rawdata"
   ]
  },
  {
   "cell_type": "markdown",
   "id": "b286c0f9-72ff-4d23-91e7-15be5a0b48a0",
   "metadata": {},
   "source": [
    "# Clustering Approach"
   ]
  },
  {
   "cell_type": "markdown",
   "id": "67bee419",
   "metadata": {
    "id": "67bee419"
   },
   "source": [
    "## 1. K-Means Algorithm"
   ]
  },
  {
   "cell_type": "markdown",
   "id": "d021a3d7",
   "metadata": {
    "id": "d021a3d7"
   },
   "source": [
    "We try to use the $k$-Means clustering algorithm on the MNIST dataset."
   ]
  },
  {
   "cell_type": "markdown",
   "id": "1ade3900-ec8d-4f69-9d63-70361188606c",
   "metadata": {},
   "source": [
    "First, we start off with selecting the best hyperparameters for the k-means model, where the parameters of concern here are 'algorithm' and 'n_clusters'"
   ]
  },
  {
   "cell_type": "markdown",
   "id": "a8ca527e-4a84-4ed7-a162-b8e0e98ea689",
   "metadata": {},
   "source": [
    "We will use inertia (sum of mean squared distance of each point to its respective cluster) to evaluate our model"
   ]
  },
  {
   "cell_type": "markdown",
   "id": "bdddb147-4bc0-404f-b578-cec1fb7d624e",
   "metadata": {},
   "source": [
    "Since we are now creating a model to recognize digits, which means there must be at least 10 clusters for 10 digits.\\\n",
    "So we will start off with n_clusters = 25"
   ]
  },
  {
   "cell_type": "code",
   "execution_count": 135,
   "id": "d76ba454-5422-440d-b603-b34a70122283",
   "metadata": {},
   "outputs": [],
   "source": [
    "kmeans_params = {\n",
    "    'algorithm': ('lloyd', \"elkan\"),\n",
    "     'n_clusters': (15,20,25,30,35,40,45,50)\n",
    "}"
   ]
  },
  {
   "cell_type": "code",
   "execution_count": 136,
   "id": "5f09859f",
   "metadata": {
    "collapsed": false,
    "executionInfo": {
     "elapsed": 9965,
     "status": "ok",
     "timestamp": 1659786608579,
     "user": {
      "displayName": "Xing Wei Chan",
      "userId": "01670590605776881840"
     },
     "user_tz": -480
    },
    "id": "5f09859f",
    "jupyter": {
     "outputs_hidden": false
    }
   },
   "outputs": [
    {
     "data": {
      "text/plain": [
       "<matplotlib.legend.Legend at 0x29548142b30>"
      ]
     },
     "execution_count": 136,
     "metadata": {},
     "output_type": "execute_result"
    },
    {
     "data": {
      "image/png": "[encoded data removed]",
      "text/plain": [
       "<Figure size 720x432 with 1 Axes>"
      ]
     },
     "metadata": {
      "needs_background": "light"
     },
     "output_type": "display_data"
    }
   ],
   "source": [
    "plt.figure(figsize=(10,6))\n",
    "for algo,col in zip(kmeans_params['algorithm'],['red','blue','green']):\n",
    "    result_lst = []\n",
    "    for n in kmeans_params['n_clusters']:\n",
    "        kmeans_tmp = KMeans(n_clusters=n,algorithm=algo).fit(x_train)\n",
    "        result_lst.append(kmeans_tmp.inertia_)\n",
    "    else:\n",
    "        plt.plot(kmeans_params['n_clusters'],result_lst,c=col,label=algo)\n",
    "\n",
    "plt.title('n clusters vs inertia for three algorithms')\n",
    "plt.xlabel('n clusters')\n",
    "plt.ylabel('inertia (lower the better)')\n",
    "plt.legend()"
   ]
  },
  {
   "cell_type": "markdown",
   "id": "06417f7b-2f3b-45a3-8077-b3ca1fba8e76",
   "metadata": {},
   "source": [
    "As we can notice from the above graph that as the n_clusters increases, the inertia decreases.\\\n",
    "Notice that the inertia value is in a power of 10, which means the inertia only decreases marginally everytime n_clusters increases.\\\n",
    "In this case, we will select a comfortable value of n_clusters which does not give us prolonged computation time.\n",
    "\n",
    "We can also notice that generally the blue line stays at the bottom of red line.\\\n",
    "Which also means the the algorithm 'elkan' always provide lower inertia than the default algorithm 'llyod', given the same n_clusters value.\n",
    "\n",
    "> Best parameters:\\\n",
    "> n_clusters = 30\\\n",
    "> algorithm = elkan"
   ]
  },
  {
   "cell_type": "markdown",
   "id": "54113bfb-2e22-48a0-825c-c1f3cdf764a5",
   "metadata": {},
   "source": [
    "Lets create our k-means model using the best found parameters"
   ]
  },
  {
   "cell_type": "code",
   "execution_count": 207,
   "id": "d2031d1b-bfdc-43ca-9ddc-69f561e5d4a5",
   "metadata": {},
   "outputs": [],
   "source": [
    "kmeans = KMeans(30).fit(x_train)"
   ]
  },
  {
   "cell_type": "code",
   "execution_count": 208,
   "id": "514f2f83-9943-4696-a59b-13bbf5ee49a2",
   "metadata": {},
   "outputs": [],
   "source": [
    "kmeans_yhat = kmeans.labels_"
   ]
  },
  {
   "cell_type": "markdown",
   "id": "259dc575-dc58-4164-a3dd-39a92aa0a29c",
   "metadata": {},
   "source": [
    "Lets see more details about the predicted outcomes"
   ]
  },
  {
   "cell_type": "code",
   "execution_count": 209,
   "id": "658ae626-539c-4bfa-b741-fbbbcd0b406b",
   "metadata": {},
   "outputs": [
    {
     "data": {
      "text/plain": [
       "0     132\n",
       "1     152\n",
       "2     180\n",
       "3     170\n",
       "4     259\n",
       "5     191\n",
       "6     186\n",
       "7     160\n",
       "8     171\n",
       "9     237\n",
       "10     99\n",
       "11    166\n",
       "12    207\n",
       "13    119\n",
       "14    209\n",
       "15    127\n",
       "16    127\n",
       "17    143\n",
       "18    143\n",
       "19    112\n",
       "20    280\n",
       "21    248\n",
       "22    102\n",
       "23    136\n",
       "24    158\n",
       "25    197\n",
       "26    156\n",
       "27    146\n",
       "28    159\n",
       "29    128\n",
       "dtype: int64"
      ]
     },
     "execution_count": 209,
     "metadata": {},
     "output_type": "execute_result"
    }
   ],
   "source": [
    "pd.DataFrame(kmeans_yhat).value_counts().sort_index()"
   ]
  },
  {
   "cell_type": "code",
   "execution_count": 210,
   "id": "a93e1004-ed7f-44a3-8b6e-edc7fbd9fdb6",
   "metadata": {},
   "outputs": [
    {
     "data": {
      "text/plain": [
       "10611486045.36027"
      ]
     },
     "execution_count": 210,
     "metadata": {},
     "output_type": "execute_result"
    }
   ],
   "source": [
    "kmeans.inertia_"
   ]
  },
  {
   "cell_type": "code",
   "execution_count": 211,
   "id": "ed7cd2e2-94b3-4388-905b-031bc500b9f9",
   "metadata": {},
   "outputs": [],
   "source": [
    "kmeans_centers = kmeans.cluster_centers_"
   ]
  },
  {
   "cell_type": "markdown",
   "id": "056eb75c",
   "metadata": {
    "id": "056eb75c"
   },
   "source": [
    "Let's have a closer look at the means. Even though there are 10 digits, some of them are over/under-represented. Do you understand why?"
   ]
  },
  {
   "cell_type": "code",
   "execution_count": 212,
   "id": "073bb12c",
   "metadata": {
    "colab": {
     "base_uri": "https://localhost:8080/",
     "height": 394
    },
    "collapsed": false,
    "executionInfo": {
     "elapsed": 1400,
     "status": "ok",
     "timestamp": 1659786609976,
     "user": {
      "displayName": "Xing Wei Chan",
      "userId": "01670590605776881840"
     },
     "user_tz": -480
    },
    "id": "073bb12c",
    "jupyter": {
     "outputs_hidden": false
    },
    "outputId": "91bd42ad-cac5-4021-b61a-3afbd4dd8103"
   },
   "outputs": [
    {
     "data": {
      "image/png": "[encoded data removed]",
      "text/plain": [
       "<Figure size 1152x432 with 30 Axes>"
      ]
     },
     "metadata": {},
     "output_type": "display_data"
    }
   ],
   "source": [
    "plt.figure(figsize=(16,6))\n",
    "for i in range(int(2*(kmeans_centers.shape[0]/2))): # loop over all means\n",
    "    plt.subplot(math.ceil(kmeans_centers.shape[0]/10),10,i+1)\n",
    "    plt.imshow(kmeans_centers[i].reshape(28,28))\n",
    "    plt.xticks(())\n",
    "    plt.yticks(())\n",
    "plt.tight_layout()"
   ]
  },
  {
   "cell_type": "markdown",
   "id": "3953993d-f097-421e-ae4d-98f0f7781087",
   "metadata": {},
   "source": [
    "Let's create a dictionary to tell which class of the clusters stands for which digit.\\\n",
    "This enables us to calculate a more readable accuracy value in the following section."
   ]
  },
  {
   "cell_type": "code",
   "execution_count": 285,
   "id": "gYPTMoEJFc_n",
   "metadata": {
    "executionInfo": {
     "elapsed": 10,
     "status": "ok",
     "timestamp": 1659789929190,
     "user": {
      "displayName": "Xing Wei Chan",
      "userId": "01670590605776881840"
     },
     "user_tz": -480
    },
    "id": "gYPTMoEJFc_n"
   },
   "outputs": [],
   "source": [
    "kmeans_labeldict = dict([(key,value) for key,value in zip(range(30),['6','5','8','3','7','3','7','1','7','1','0','3','4','6','4','0','8','6','2','0','9','1','0','2','5','4','8','2','6','5'])])"
   ]
  },
  {
   "cell_type": "markdown",
   "id": "5a6242d3-5fdd-4dbe-a00d-d67b642e5d9d",
   "metadata": {},
   "source": [
    "We need to first transform the yhat with the dictionary created from above"
   ]
  },
  {
   "cell_type": "code",
   "execution_count": 286,
   "id": "zNZImqYJGH5v",
   "metadata": {
    "colab": {
     "base_uri": "https://localhost:8080/"
    },
    "executionInfo": {
     "elapsed": 4,
     "status": "ok",
     "timestamp": 1659789931545,
     "user": {
      "displayName": "Xing Wei Chan",
      "userId": "01670590605776881840"
     },
     "user_tz": -480
    },
    "id": "zNZImqYJGH5v",
    "outputId": "cc8f3cb3-0d5e-4047-c98f-838e3215023a"
   },
   "outputs": [
    {
     "data": {
      "text/plain": [
       "array([2, 1, 9, ..., 1, 7, 1])"
      ]
     },
     "execution_count": 286,
     "metadata": {},
     "output_type": "execute_result"
    }
   ],
   "source": [
    "kmeans_yhat_train = np.asarray([kmeans_labeldict[i] for i in kmeans_yhat]).astype('int')\n",
    "kmeans_yhat_train"
   ]
  },
  {
   "cell_type": "code",
   "execution_count": 287,
   "id": "fYFe8COiGhCq",
   "metadata": {
    "colab": {
     "base_uri": "https://localhost:8080/"
    },
    "executionInfo": {
     "elapsed": 3,
     "status": "ok",
     "timestamp": 1659788718664,
     "user": {
      "displayName": "Xing Wei Chan",
      "userId": "01670590605776881840"
     },
     "user_tz": -480
    },
    "id": "fYFe8COiGhCq",
    "outputId": "8532843f-8e58-41e6-f06b-ef0d31ee4145"
   },
   "outputs": [
    {
     "data": {
      "text/plain": [
       "array([2, 1, 4, ..., 1, 4, 1], dtype=int64)"
      ]
     },
     "execution_count": 287,
     "metadata": {},
     "output_type": "execute_result"
    }
   ],
   "source": [
    "y_train"
   ]
  },
  {
   "cell_type": "code",
   "execution_count": 315,
   "id": "05f892a1-afe4-4e44-8e0a-45fdf647f648",
   "metadata": {},
   "outputs": [],
   "source": [
    "def scoring(x_pred,x_true):\n",
    "    # score = sum([1 if pred == true else 0 for pred,true in zip(x_pred,x_true)])/x_pred.shape[0]\n",
    "    df = pd.DataFrame({'pred':x_pred,'true':x_true}).query('pred != true').astype('str')\n",
    "    df['comb'] = df['pred'] + ' -> '+ df['true'] \n",
    "    result = df['comb'].value_counts().sort_values(ascending=False).head(5)\n",
    "    score = 1 - (df.shape[0]/x_pred.shape[0])\n",
    "    return score,result"
   ]
  },
  {
   "cell_type": "code",
   "execution_count": 316,
   "id": "6e7723f2-e388-44ae-bd67-17f9e1f0d0ce",
   "metadata": {},
   "outputs": [],
   "source": [
    "kmeans_score_train,kmeans_result_train = scoring(kmeans_yhat_train,y_train)"
   ]
  },
  {
   "cell_type": "code",
   "execution_count": 317,
   "id": "c3775be9-cc48-4c2c-9f45-0853494ef48d",
   "metadata": {},
   "outputs": [
    {
     "name": "stdout",
     "output_type": "stream",
     "text": [
      "Score: 0.7418\n",
      "Result:\n",
      "pred -> true\n"
     ]
    },
    {
     "data": {
      "text/plain": [
       "4 -> 9    235\n",
       "7 -> 9    110\n",
       "3 -> 5    107\n",
       "9 -> 4     97\n",
       "5 -> 3     75\n",
       "Name: comb, dtype: int64"
      ]
     },
     "metadata": {},
     "output_type": "display_data"
    }
   ],
   "source": [
    "print('Score:',kmeans_score_train)\n",
    "print('Result:')\n",
    "print('pred -> true')\n",
    "display(kmeans_result_train)"
   ]
  },
  {
   "cell_type": "markdown",
   "id": "c1390487-b17d-476a-b3b4-5414d157318b",
   "metadata": {},
   "source": [
    "We can see that there's a lot of error for 4,7 and 9, the accuracy is only 74%.\\\n",
    "From the preview of the cluster centers' images, we can notice that it is very difficult to segregate (4 and 9) and (7 and 9) due to how look-alike they are with each other."
   ]
  },
  {
   "cell_type": "markdown",
   "id": "3d6b0e15-3a10-4e24-9739-f3f4250838b1",
   "metadata": {},
   "source": [
    "Let's see its performance against the randomly picked test datasets of 1000 samples"
   ]
  },
  {
   "cell_type": "code",
   "execution_count": 291,
   "id": "u6wXQq7BO8MD",
   "metadata": {
    "colab": {
     "base_uri": "https://localhost:8080/"
    },
    "executionInfo": {
     "elapsed": 4,
     "status": "ok",
     "timestamp": 1659790864053,
     "user": {
      "displayName": "Xing Wei Chan",
      "userId": "01670590605776881840"
     },
     "user_tz": -480
    },
    "id": "u6wXQq7BO8MD",
    "outputId": "2cd24ffb-e059-4c1e-9a30-01c5f9c27bfb"
   },
   "outputs": [],
   "source": [
    "kmeans_yhat_test = np.asarray([kmeans_labeldict[i] for i in kmeans.predict(x_test)]).astype('int')"
   ]
  },
  {
   "cell_type": "code",
   "execution_count": 318,
   "id": "f8f63a16-442a-4a85-b6a3-7ceb34219962",
   "metadata": {},
   "outputs": [],
   "source": [
    "kmeans_score_test,kmeans_result_test = scoring(kmeans_yhat_test,y_test)"
   ]
  },
  {
   "cell_type": "code",
   "execution_count": 319,
   "id": "1cbfaedb-568f-437b-adf6-3e0ba9edec55",
   "metadata": {},
   "outputs": [
    {
     "name": "stdout",
     "output_type": "stream",
     "text": [
      "Score: 0.716\n",
      "Result:\n",
      "pred -> true\n"
     ]
    },
    {
     "data": {
      "text/plain": [
       "4 -> 9    55\n",
       "3 -> 5    29\n",
       "7 -> 9    23\n",
       "9 -> 4    19\n",
       "5 -> 3    18\n",
       "Name: comb, dtype: int64"
      ]
     },
     "metadata": {},
     "output_type": "display_data"
    }
   ],
   "source": [
    "print('Score:',kmeans_score_test)\n",
    "print('Result:')\n",
    "print('pred -> true')\n",
    "display(kmeans_result_test)"
   ]
  },
  {
   "cell_type": "markdown",
   "id": "lobFp9XEQI5G",
   "metadata": {
    "id": "lobFp9XEQI5G"
   },
   "source": [
    "The K-Means model has only 71.6% at predicting randomly picked testing datasets of 1000 samples.\\\n",
    "This could be due to the problem of recognizing hand written digits are not suitable to be solved by a clustering approach."
   ]
  },
  {
   "cell_type": "markdown",
   "id": "f67ddbb4-5024-4f58-9de8-3d30a30fd233",
   "metadata": {
    "tags": []
   },
   "source": [
    "### Export the model\n",
    "\n",
    "We will use pd.to_pickle to export the trained model as pickle file, so we can reuse the trained model next time without retraining"
   ]
  },
  {
   "cell_type": "code",
   "execution_count": 325,
   "id": "58db166e-439b-4b83-91f5-a3eeedbdafca",
   "metadata": {},
   "outputs": [],
   "source": [
    "pd.to_pickle(kmeans,\"Trained Models\\\\kmeans.pkl\")"
   ]
  },
  {
   "cell_type": "markdown",
   "id": "c3e9463a-7435-4680-a3bd-3f649202d4ef",
   "metadata": {},
   "source": [
    "# Classification Approach"
   ]
  },
  {
   "cell_type": "markdown",
   "id": "e921af40-2ba5-46a3-b0a4-34bb7f6768f0",
   "metadata": {},
   "source": [
    "Now we will try to address the same problem with classification approach"
   ]
  },
  {
   "cell_type": "markdown",
   "id": "8cd75e16-0799-4e7f-9ba2-4d7251470efa",
   "metadata": {},
   "source": [
    "## 1. K-Nearest Neighbors Algorithm"
   ]
  },
  {
   "cell_type": "markdown",
   "id": "3321274d-2477-4220-8304-e8002d0a2657",
   "metadata": {},
   "source": [
    "The first model we are going to try is the K-Nearest Neighbors model"
   ]
  },
  {
   "cell_type": "code",
   "execution_count": 124,
   "id": "a9beb032-cf37-4d15-b17c-f562449e9a3e",
   "metadata": {},
   "outputs": [],
   "source": [
    "knn_params = {\n",
    "    \"n_neighbors\" : (3,5,7,9,11)\n",
    "}"
   ]
  },
  {
   "cell_type": "code",
   "execution_count": 125,
   "id": "d5ed2730-d3a5-44be-93fd-eace865e3760",
   "metadata": {},
   "outputs": [],
   "source": [
    "knn = KNeighborsClassifier()"
   ]
  },
  {
   "cell_type": "code",
   "execution_count": 126,
   "id": "ed7f8c34-de8b-4235-9286-4181e5d0f1cd",
   "metadata": {},
   "outputs": [],
   "source": [
    "knn_cv = GridSearchCV(knn,knn_params,return_train_score=True)"
   ]
  },
  {
   "cell_type": "code",
   "execution_count": 127,
   "id": "0b3cfddc-c221-466b-bd4f-3ac5a71c8972",
   "metadata": {},
   "outputs": [
    {
     "data": {
      "text/html": [
       "<style>#sk-container-id-1 {color: black;background-color: white;}#sk-container-id-1 pre{padding: 0;}#sk-container-id-1 div.sk-toggleable {background-color: white;}#sk-container-id-1 label.sk-toggleable__label {cursor: pointer;display: block;width: 100%;margin-bottom: 0;padding: 0.3em;box-sizing: border-box;text-align: center;}#sk-container-id-1 label.sk-toggleable__label-arrow:before {content: \"▸\";float: left;margin-right: 0.25em;color: #696969;}#sk-container-id-1 label.sk-toggleable__label-arrow:hover:before {color: black;}#sk-container-id-1 div.sk-estimator:hover label.sk-toggleable__label-arrow:before {color: black;}#sk-container-id-1 div.sk-toggleable__content {max-height: 0;max-width: 0;overflow: hidden;text-align: left;background-color: #f0f8ff;}#sk-container-id-1 div.sk-toggleable__content pre {margin: 0.2em;color: black;border-radius: 0.25em;background-color: #f0f8ff;}#sk-container-id-1 input.sk-toggleable__control:checked~div.sk-toggleable__content {max-height: 200px;max-width: 100%;overflow: auto;}#sk-container-id-1 input.sk-toggleable__control:checked~label.sk-toggleable__label-arrow:before {content: \"▾\";}#sk-container-id-1 div.sk-estimator input.sk-toggleable__control:checked~label.sk-toggleable__label {background-color: #d4ebff;}#sk-container-id-1 div.sk-label input.sk-toggleable__control:checked~label.sk-toggleable__label {background-color: #d4ebff;}#sk-container-id-1 input.sk-hidden--visually {border: 0;clip: rect(1px 1px 1px 1px);clip: rect(1px, 1px, 1px, 1px);height: 1px;margin: -1px;overflow: hidden;padding: 0;position: absolute;width: 1px;}#sk-container-id-1 div.sk-estimator {font-family: monospace;background-color: #f0f8ff;border: 1px dotted black;border-radius: 0.25em;box-sizing: border-box;margin-bottom: 0.5em;}#sk-container-id-1 div.sk-estimator:hover {background-color: #d4ebff;}#sk-container-id-1 div.sk-parallel-item::after {content: \"\";width: 100%;border-bottom: 1px solid gray;flex-grow: 1;}#sk-container-id-1 div.sk-label:hover label.sk-toggleable__label {background-color: #d4ebff;}#sk-container-id-1 div.sk-serial::before {content: \"\";position: absolute;border-left: 1px solid gray;box-sizing: border-box;top: 0;bottom: 0;left: 50%;z-index: 0;}#sk-container-id-1 div.sk-serial {display: flex;flex-direction: column;align-items: center;background-color: white;padding-right: 0.2em;padding-left: 0.2em;position: relative;}#sk-container-id-1 div.sk-item {position: relative;z-index: 1;}#sk-container-id-1 div.sk-parallel {display: flex;align-items: stretch;justify-content: center;background-color: white;position: relative;}#sk-container-id-1 div.sk-item::before, #sk-container-id-1 div.sk-parallel-item::before {content: \"\";position: absolute;border-left: 1px solid gray;box-sizing: border-box;top: 0;bottom: 0;left: 50%;z-index: -1;}#sk-container-id-1 div.sk-parallel-item {display: flex;flex-direction: column;z-index: 1;position: relative;background-color: white;}#sk-container-id-1 div.sk-parallel-item:first-child::after {align-self: flex-end;width: 50%;}#sk-container-id-1 div.sk-parallel-item:last-child::after {align-self: flex-start;width: 50%;}#sk-container-id-1 div.sk-parallel-item:only-child::after {width: 0;}#sk-container-id-1 div.sk-dashed-wrapped {border: 1px dashed gray;margin: 0 0.4em 0.5em 0.4em;box-sizing: border-box;padding-bottom: 0.4em;background-color: white;}#sk-container-id-1 div.sk-label label {font-family: monospace;font-weight: bold;display: inline-block;line-height: 1.2em;}#sk-container-id-1 div.sk-label-container {text-align: center;}#sk-container-id-1 div.sk-container {/* jupyter's `normalize.less` sets `[hidden] { display: none; }` but bootstrap.min.css set `[hidden] { display: none !important; }` so we also need the `!important` here to be able to override the default hidden behavior on the sphinx rendered scikit-learn.org. See: https://github.com/scikit-learn/scikit-learn/issues/21755 */display: inline-block !important;position: relative;}#sk-container-id-1 div.sk-text-repr-fallback {display: none;}</style><div id=\"sk-container-id-1\" class=\"sk-top-container\"><div class=\"sk-text-repr-fallback\"><pre>GridSearchCV(estimator=KNeighborsClassifier(),\n",
       "             param_grid={&#x27;n_neighbors&#x27;: (3, 5, 7, 9, 11)},\n",
       "             return_train_score=True)</pre><b>In a Jupyter environment, please rerun this cell to show the HTML representation or trust the notebook. <br />On GitHub, the HTML representation is unable to render, please try loading this page with nbviewer.org.</b></div><div class=\"sk-container\" hidden><div class=\"sk-item sk-dashed-wrapped\"><div class=\"sk-label-container\"><div class=\"sk-label sk-toggleable\"><input class=\"sk-toggleable__control sk-hidden--visually\" id=\"sk-estimator-id-1\" type=\"checkbox\" ><label for=\"sk-estimator-id-1\" class=\"sk-toggleable__label sk-toggleable__label-arrow\">GridSearchCV</label><div class=\"sk-toggleable__content\"><pre>GridSearchCV(estimator=KNeighborsClassifier(),\n",
       "             param_grid={&#x27;n_neighbors&#x27;: (3, 5, 7, 9, 11)},\n",
       "             return_train_score=True)</pre></div></div></div><div class=\"sk-parallel\"><div class=\"sk-parallel-item\"><div class=\"sk-item\"><div class=\"sk-label-container\"><div class=\"sk-label sk-toggleable\"><input class=\"sk-toggleable__control sk-hidden--visually\" id=\"sk-estimator-id-2\" type=\"checkbox\" ><label for=\"sk-estimator-id-2\" class=\"sk-toggleable__label sk-toggleable__label-arrow\">estimator: KNeighborsClassifier</label><div class=\"sk-toggleable__content\"><pre>KNeighborsClassifier()</pre></div></div></div><div class=\"sk-serial\"><div class=\"sk-item\"><div class=\"sk-estimator sk-toggleable\"><input class=\"sk-toggleable__control sk-hidden--visually\" id=\"sk-estimator-id-3\" type=\"checkbox\" ><label for=\"sk-estimator-id-3\" class=\"sk-toggleable__label sk-toggleable__label-arrow\">KNeighborsClassifier</label><div class=\"sk-toggleable__content\"><pre>KNeighborsClassifier()</pre></div></div></div></div></div></div></div></div></div></div>"
      ],
      "text/plain": [
       "GridSearchCV(estimator=KNeighborsClassifier(),\n",
       "             param_grid={'n_neighbors': (3, 5, 7, 9, 11)},\n",
       "             return_train_score=True)"
      ]
     },
     "execution_count": 127,
     "metadata": {},
     "output_type": "execute_result"
    }
   ],
   "source": [
    "knn_cv.fit(x_train,y_train)"
   ]
  },
  {
   "cell_type": "code",
   "execution_count": 131,
   "id": "374eac94-4898-4dfb-a2a0-599174dabba9",
   "metadata": {},
   "outputs": [
    {
     "name": "stderr",
     "output_type": "stream",
     "text": [
      "C:\\Users\\pi314\\AppData\\Local\\Programs\\Python\\Python310\\lib\\site-packages\\pandas\\core\\indexes\\base.py:6982: FutureWarning: In a future version, the Index constructor will not infer numeric dtypes when passed object-dtype sequences (matching Series behavior)\n",
      "  return Index(sequences[0], name=names)\n"
     ]
    },
    {
     "data": {
      "text/plain": [
       "<Figure size 720x432 with 0 Axes>"
      ]
     },
     "metadata": {},
     "output_type": "display_data"
    },
    {
     "data": {
      "image/png": "[encoded data removed]",
      "text/plain": [
       "<Figure size 432x288 with 1 Axes>"
      ]
     },
     "metadata": {
      "needs_background": "light"
     },
     "output_type": "display_data"
    }
   ],
   "source": [
    "plt.figure(figsize=(10,6))\n",
    "pd.DataFrame(knn_cv.cv_results_).plot('param_n_neighbors','mean_test_score')\n",
    "plt.title(\"n_neighbors vs scoring\")\n",
    "plt.xlabel(\"n_neighbors\")\n",
    "plt.ylabel(\"scoring\")\n",
    "plt.show()"
   ]
  },
  {
   "cell_type": "code",
   "execution_count": 440,
   "id": "a98b822b-2621-4d70-87d4-1117a8c4097a",
   "metadata": {},
   "outputs": [
    {
     "data": {
      "text/plain": [
       "{'n_neighbors': 3}"
      ]
     },
     "execution_count": 440,
     "metadata": {},
     "output_type": "execute_result"
    }
   ],
   "source": [
    "knn_cv.best_params_"
   ]
  },
  {
   "cell_type": "markdown",
   "id": "c44dca88-4be6-4213-a44b-75405f6f58f7",
   "metadata": {},
   "source": [
    "As we can see the K-Nearest Neighbors model performs the best at n_neighbors = 3.\\\n",
    "Although the graph shows that there could be better performance for n_neighbors < 3,\\\n",
    "but I believe that selecting too less n_neighbors is not a good choice as it could lead to biased trained model.\n",
    "\n",
    "So we will use **n_neighbors = 3**"
   ]
  },
  {
   "cell_type": "code",
   "execution_count": 297,
   "id": "826bb6bd-f002-447b-aebe-f745e91017ce",
   "metadata": {},
   "outputs": [],
   "source": [
    "knn = KNeighborsClassifier(3).fit(x_train,y_train)"
   ]
  },
  {
   "cell_type": "code",
   "execution_count": 305,
   "id": "e6d80862-f941-4287-95af-e91a1e5790cd",
   "metadata": {},
   "outputs": [],
   "source": [
    "knn_yhat_train = knn.predict(x_train)"
   ]
  },
  {
   "cell_type": "code",
   "execution_count": 306,
   "id": "dd770e22-1d89-4653-86a7-e98a6050d8ad",
   "metadata": {},
   "outputs": [
    {
     "data": {
      "text/plain": [
       "array([2, 1, 4, ..., 1, 4, 1], dtype=int64)"
      ]
     },
     "execution_count": 306,
     "metadata": {},
     "output_type": "execute_result"
    }
   ],
   "source": [
    "knn_yhat_train"
   ]
  },
  {
   "cell_type": "code",
   "execution_count": 307,
   "id": "53e2a058-0f80-4fbd-8c9b-73e08728155a",
   "metadata": {},
   "outputs": [
    {
     "data": {
      "text/plain": [
       "array([2, 1, 4, ..., 1, 4, 1], dtype=int64)"
      ]
     },
     "execution_count": 307,
     "metadata": {},
     "output_type": "execute_result"
    }
   ],
   "source": [
    "y_train"
   ]
  },
  {
   "cell_type": "code",
   "execution_count": 320,
   "id": "4602b347-5d74-407a-aed8-80f445410bf7",
   "metadata": {},
   "outputs": [],
   "source": [
    "knn_score_train,knn_result_train = scoring(knn_yhat_train,y_train)"
   ]
  },
  {
   "cell_type": "code",
   "execution_count": 321,
   "id": "870e2463-d61a-4aa5-ab22-667eeb943b01",
   "metadata": {},
   "outputs": [
    {
     "name": "stdout",
     "output_type": "stream",
     "text": [
      "Score: 0.9618\n",
      "Result:\n",
      "pred -> true\n"
     ]
    },
    {
     "data": {
      "text/plain": [
       "1 -> 8    14\n",
       "1 -> 2    11\n",
       "4 -> 8    10\n",
       "3 -> 8     9\n",
       "9 -> 4     9\n",
       "Name: comb, dtype: int64"
      ]
     },
     "metadata": {},
     "output_type": "display_data"
    }
   ],
   "source": [
    "print('Score:',knn_score_train)\n",
    "print('Result:')\n",
    "print('pred -> true')\n",
    "display(knn_result_train)"
   ]
  },
  {
   "cell_type": "markdown",
   "id": "ee5fbe1c-fc44-46c2-862b-be7d8c14d77f",
   "metadata": {},
   "source": [
    "The accuracy at predicting the train dataset is as high as 96.2%"
   ]
  },
  {
   "cell_type": "markdown",
   "id": "1a6409d5-432c-4078-a0ae-7b994099e970",
   "metadata": {},
   "source": [
    "Let's see what's its performance with the test dataset"
   ]
  },
  {
   "cell_type": "code",
   "execution_count": 310,
   "id": "698f7d5d-e910-4853-a151-1076c2713d24",
   "metadata": {},
   "outputs": [],
   "source": [
    "knn_yhat_test = knn.predict(x_test)"
   ]
  },
  {
   "cell_type": "code",
   "execution_count": 311,
   "id": "e89e3543-1a1c-4346-ac3d-6a4f28b3fe95",
   "metadata": {
    "collapsed": true,
    "jupyter": {
     "outputs_hidden": true
    },
    "tags": []
   },
   "outputs": [
    {
     "data": {
      "text/plain": [
       "array([6, 2, 7, 5, 7, 6, 3, 5, 1, 3, 1, 2, 5, 3, 6, 1, 0, 9, 4, 3, 1, 5,\n",
       "       8, 3, 4, 7, 3, 6, 3, 1, 6, 9, 2, 1, 1, 0, 9, 3, 4, 1, 5, 1, 7, 1,\n",
       "       4, 3, 5, 7, 7, 0, 0, 7, 0, 0, 1, 3, 7, 7, 4, 3, 5, 1, 7, 0, 5, 9,\n",
       "       4, 1, 1, 1, 1, 1, 0, 3, 1, 9, 3, 7, 6, 4, 9, 2, 3, 8, 7, 0, 2, 1,\n",
       "       6, 9, 6, 5, 1, 6, 7, 8, 4, 6, 0, 0, 8, 9, 0, 6, 2, 1, 0, 9, 6, 1,\n",
       "       1, 0, 9, 3, 8, 1, 2, 9, 0, 5, 9, 1, 4, 4, 3, 8, 3, 2, 1, 7, 1, 2,\n",
       "       3, 6, 4, 1, 1, 9, 1, 8, 2, 2, 1, 7, 1, 9, 9, 9, 5, 9, 9, 9, 9, 3,\n",
       "       4, 8, 2, 9, 0, 0, 9, 1, 6, 4, 5, 1, 1, 6, 7, 8, 2, 7, 8, 2, 7, 2,\n",
       "       7, 0, 1, 7, 9, 3, 5, 0, 2, 2, 9, 1, 0, 9, 1, 9, 4, 7, 5, 1, 0, 2,\n",
       "       6, 3, 2, 1, 4, 8, 6, 4, 4, 3, 6, 3, 3, 7, 1, 4, 2, 9, 9, 0, 1, 8,\n",
       "       4, 3, 3, 0, 9, 2, 5, 7, 9, 9, 9, 5, 6, 1, 5, 2, 0, 9, 4, 2, 1, 5,\n",
       "       7, 1, 3, 5, 7, 1, 0, 7, 4, 1, 7, 0, 5, 0, 7, 1, 5, 6, 8, 6, 9, 1,\n",
       "       0, 4, 9, 3, 5, 0, 8, 1, 9, 8, 6, 1, 9, 9, 3, 7, 8, 7, 2, 9, 0, 9,\n",
       "       9, 0, 6, 2, 1, 4, 3, 3, 4, 0, 9, 6, 2, 3, 6, 4, 8, 0, 0, 3, 8, 3,\n",
       "       3, 6, 0, 2, 5, 8, 1, 2, 9, 3, 3, 1, 6, 4, 4, 7, 6, 0, 6, 3, 2, 8,\n",
       "       1, 1, 6, 2, 8, 1, 3, 9, 4, 8, 9, 1, 4, 2, 6, 4, 1, 5, 5, 4, 1, 6,\n",
       "       9, 4, 5, 1, 7, 2, 8, 1, 7, 3, 9, 5, 8, 5, 7, 1, 7, 2, 4, 7, 6, 3,\n",
       "       7, 5, 4, 3, 9, 2, 2, 7, 2, 5, 3, 2, 5, 8, 2, 5, 6, 7, 8, 2, 1, 9,\n",
       "       1, 9, 3, 1, 9, 7, 1, 6, 0, 2, 9, 1, 8, 3, 9, 0, 8, 3, 9, 3, 3, 3,\n",
       "       0, 1, 5, 2, 1, 4, 7, 2, 5, 3, 1, 3, 3, 0, 1, 9, 2, 2, 6, 2, 6, 3,\n",
       "       2, 4, 9, 1, 0, 3, 6, 8, 6, 6, 3, 4, 7, 8, 2, 5, 9, 2, 3, 6, 5, 2,\n",
       "       3, 5, 2, 3, 7, 2, 1, 3, 7, 0, 2, 9, 1, 0, 8, 1, 8, 6, 6, 1, 8, 5,\n",
       "       1, 8, 7, 9, 1, 7, 3, 7, 9, 4, 8, 0, 7, 8, 9, 4, 3, 4, 1, 2, 7, 9,\n",
       "       1, 5, 1, 4, 0, 3, 0, 1, 1, 0, 7, 7, 9, 4, 0, 4, 8, 7, 7, 1, 5, 7,\n",
       "       2, 8, 2, 0, 6, 9, 1, 2, 7, 7, 3, 7, 5, 5, 2, 5, 2, 0, 2, 1, 7, 6,\n",
       "       3, 8, 3, 8, 1, 6, 0, 3, 4, 5, 3, 1, 1, 5, 5, 9, 1, 5, 3, 8, 9, 1,\n",
       "       6, 7, 9, 9, 6, 6, 9, 6, 5, 9, 9, 7, 9, 4, 2, 6, 2, 8, 3, 5, 5, 6,\n",
       "       2, 4, 6, 1, 9, 3, 2, 9, 4, 4, 9, 1, 0, 4, 5, 2, 2, 5, 7, 5, 7, 2,\n",
       "       9, 9, 9, 2, 6, 4, 9, 7, 4, 0, 3, 7, 9, 0, 1, 5, 1, 0, 4, 2, 3, 2,\n",
       "       0, 2, 0, 3, 2, 5, 7, 9, 8, 8, 3, 0, 1, 6, 3, 6, 8, 3, 9, 4, 0, 0,\n",
       "       9, 9, 3, 4, 6, 3, 0, 5, 1, 8, 4, 4, 9, 5, 9, 4, 1, 4, 2, 1, 3, 6,\n",
       "       3, 4, 2, 8, 0, 4, 6, 4, 4, 6, 3, 1, 3, 4, 8, 5, 4, 8, 4, 1, 5, 4,\n",
       "       3, 3, 8, 3, 1, 8, 7, 5, 0, 8, 9, 7, 0, 7, 2, 3, 1, 7, 1, 8, 3, 3,\n",
       "       3, 1, 1, 6, 3, 5, 6, 5, 0, 1, 5, 8, 2, 6, 0, 7, 6, 5, 3, 5, 7, 2,\n",
       "       9, 8, 6, 4, 6, 7, 0, 5, 1, 5, 0, 2, 8, 2, 2, 3, 8, 9, 9, 7, 4, 0,\n",
       "       3, 7, 8, 1, 3, 1, 7, 4, 6, 1, 3, 6, 5, 5, 9, 2, 3, 6, 9, 7, 6, 2,\n",
       "       8, 2, 3, 4, 5, 5, 6, 7, 2, 7, 2, 4, 9, 2, 1, 7, 0, 1, 7, 0, 8, 1,\n",
       "       4, 5, 4, 1, 8, 6, 7, 2, 8, 8, 0, 5, 9, 3, 0, 7, 0, 8, 3, 1, 6, 1,\n",
       "       9, 6, 1, 7, 9, 0, 8, 0, 8, 5, 6, 7, 9, 4, 3, 2, 1, 0, 0, 2, 6, 7,\n",
       "       3, 8, 8, 7, 3, 9, 7, 2, 2, 5, 8, 9, 1, 1, 5, 1, 7, 5, 4, 9, 1, 5,\n",
       "       6, 0, 1, 8, 8, 8, 6, 7, 1, 6, 8, 4, 1, 5, 4, 5, 0, 3, 6, 9, 5, 5,\n",
       "       0, 9, 0, 0, 2, 1, 2, 2, 9, 3, 2, 1, 9, 9, 6, 0, 4, 5, 5, 5, 3, 9,\n",
       "       8, 9, 5, 1, 2, 4, 9, 6, 8, 5, 3, 8, 7, 4, 7, 7, 9, 2, 2, 7, 2, 5,\n",
       "       9, 9, 5, 0, 9, 0, 2, 4, 5, 1, 6, 2, 6, 4, 0, 5, 1, 2, 2, 4, 3, 6,\n",
       "       3, 1, 1, 6, 6, 9, 2, 3, 7, 7, 1, 1, 0, 7, 9, 7, 5, 6, 1, 4, 9, 6,\n",
       "       0, 0, 4, 5, 7, 5, 9, 9, 7, 2], dtype=int64)"
      ]
     },
     "execution_count": 311,
     "metadata": {},
     "output_type": "execute_result"
    }
   ],
   "source": [
    "knn_yhat_test"
   ]
  },
  {
   "cell_type": "code",
   "execution_count": 312,
   "id": "ac75473d-d61b-4fe3-bcd5-676790924d1a",
   "metadata": {
    "collapsed": true,
    "jupyter": {
     "outputs_hidden": true
    },
    "tags": []
   },
   "outputs": [
    {
     "data": {
      "text/plain": [
       "array([6, 2, 7, 5, 7, 6, 3, 5, 1, 3, 1, 2, 5, 3, 6, 1, 0, 9, 4, 3, 1, 5,\n",
       "       8, 3, 4, 7, 3, 6, 5, 1, 6, 9, 2, 1, 1, 0, 7, 3, 4, 1, 5, 1, 7, 1,\n",
       "       4, 9, 5, 7, 7, 0, 0, 7, 0, 0, 1, 3, 9, 7, 4, 3, 5, 1, 7, 8, 5, 9,\n",
       "       4, 0, 7, 1, 1, 1, 0, 3, 1, 9, 3, 7, 6, 4, 9, 2, 3, 8, 7, 0, 2, 2,\n",
       "       6, 9, 6, 5, 1, 6, 7, 8, 4, 6, 8, 0, 8, 7, 0, 6, 2, 1, 0, 9, 6, 1,\n",
       "       1, 0, 9, 3, 8, 1, 2, 9, 0, 5, 9, 1, 4, 4, 3, 8, 3, 2, 1, 7, 1, 2,\n",
       "       3, 6, 4, 1, 7, 9, 5, 8, 2, 2, 8, 7, 1, 9, 9, 9, 5, 4, 9, 9, 9, 3,\n",
       "       4, 8, 2, 9, 5, 0, 9, 1, 6, 4, 5, 1, 7, 6, 7, 8, 2, 7, 8, 2, 2, 2,\n",
       "       7, 0, 1, 7, 9, 3, 5, 0, 2, 2, 9, 1, 0, 9, 1, 9, 4, 7, 5, 1, 0, 2,\n",
       "       6, 3, 2, 1, 4, 8, 6, 4, 4, 3, 6, 3, 3, 7, 1, 8, 2, 9, 9, 0, 1, 8,\n",
       "       4, 3, 3, 0, 9, 2, 5, 7, 9, 9, 9, 5, 6, 1, 5, 2, 0, 9, 4, 2, 1, 5,\n",
       "       7, 1, 3, 5, 7, 1, 0, 7, 4, 1, 7, 0, 5, 0, 7, 1, 5, 5, 8, 6, 9, 1,\n",
       "       0, 4, 9, 9, 5, 0, 8, 1, 9, 8, 6, 1, 9, 2, 3, 7, 8, 7, 2, 4, 3, 4,\n",
       "       9, 0, 6, 2, 1, 4, 3, 3, 4, 0, 9, 6, 2, 3, 6, 4, 8, 0, 0, 3, 8, 3,\n",
       "       3, 6, 0, 2, 5, 8, 1, 2, 9, 3, 3, 1, 6, 4, 8, 7, 6, 0, 6, 3, 2, 8,\n",
       "       1, 1, 6, 2, 8, 1, 3, 9, 4, 8, 4, 1, 4, 2, 6, 4, 1, 5, 5, 4, 1, 6,\n",
       "       9, 4, 5, 1, 7, 2, 8, 1, 7, 3, 9, 5, 8, 5, 7, 1, 7, 2, 4, 7, 6, 3,\n",
       "       7, 5, 4, 3, 9, 2, 2, 7, 2, 5, 3, 2, 5, 8, 2, 5, 6, 7, 8, 2, 1, 9,\n",
       "       1, 9, 3, 1, 9, 2, 1, 6, 0, 2, 9, 1, 8, 3, 9, 0, 8, 3, 9, 3, 3, 3,\n",
       "       0, 1, 5, 2, 7, 4, 7, 2, 5, 3, 1, 3, 9, 0, 1, 9, 2, 2, 6, 2, 6, 3,\n",
       "       2, 4, 9, 7, 0, 3, 6, 8, 6, 5, 8, 4, 7, 8, 2, 5, 9, 2, 3, 6, 3, 2,\n",
       "       3, 5, 2, 3, 7, 2, 1, 3, 7, 0, 2, 9, 1, 5, 8, 1, 8, 6, 6, 1, 8, 5,\n",
       "       1, 8, 7, 9, 1, 7, 3, 7, 9, 4, 8, 0, 7, 8, 9, 4, 3, 4, 2, 2, 7, 7,\n",
       "       1, 5, 1, 4, 0, 3, 0, 1, 1, 5, 7, 7, 9, 4, 0, 4, 8, 7, 7, 1, 5, 7,\n",
       "       2, 8, 2, 0, 6, 9, 1, 2, 7, 7, 3, 7, 5, 5, 2, 5, 2, 0, 2, 1, 7, 6,\n",
       "       3, 8, 3, 8, 1, 6, 0, 3, 4, 5, 3, 1, 1, 5, 5, 9, 1, 5, 3, 8, 9, 1,\n",
       "       6, 7, 9, 4, 6, 6, 9, 6, 5, 9, 9, 7, 9, 4, 2, 6, 2, 8, 3, 5, 5, 6,\n",
       "       2, 4, 6, 1, 9, 3, 2, 9, 4, 4, 9, 2, 0, 4, 3, 2, 2, 5, 7, 5, 7, 2,\n",
       "       9, 9, 9, 3, 6, 4, 9, 7, 4, 0, 3, 7, 9, 0, 1, 5, 1, 0, 4, 2, 3, 2,\n",
       "       0, 2, 0, 3, 2, 5, 7, 9, 8, 8, 3, 0, 1, 6, 3, 6, 8, 3, 4, 4, 0, 0,\n",
       "       9, 9, 3, 4, 6, 3, 0, 5, 1, 8, 4, 4, 9, 5, 9, 4, 1, 4, 2, 1, 3, 6,\n",
       "       3, 4, 2, 8, 0, 4, 6, 4, 4, 6, 3, 1, 3, 4, 8, 5, 4, 8, 4, 8, 5, 9,\n",
       "       3, 3, 8, 3, 1, 8, 7, 5, 0, 8, 9, 7, 0, 7, 2, 3, 1, 2, 1, 8, 3, 3,\n",
       "       3, 1, 1, 6, 3, 5, 6, 5, 0, 8, 5, 8, 2, 6, 0, 7, 6, 5, 3, 5, 7, 2,\n",
       "       4, 8, 6, 4, 6, 7, 0, 5, 1, 5, 0, 2, 8, 2, 2, 3, 8, 3, 9, 7, 4, 0,\n",
       "       3, 7, 8, 1, 3, 1, 7, 4, 6, 1, 3, 6, 5, 5, 9, 2, 3, 6, 9, 7, 6, 2,\n",
       "       8, 2, 3, 4, 5, 5, 6, 7, 2, 2, 2, 4, 9, 2, 5, 7, 0, 8, 7, 0, 8, 1,\n",
       "       4, 5, 4, 1, 8, 6, 7, 2, 8, 8, 0, 5, 9, 3, 0, 9, 0, 8, 3, 1, 6, 1,\n",
       "       9, 6, 4, 3, 9, 0, 8, 0, 8, 5, 6, 7, 9, 4, 3, 2, 1, 0, 0, 2, 6, 7,\n",
       "       5, 8, 8, 7, 3, 9, 7, 2, 2, 5, 8, 9, 1, 1, 5, 1, 7, 5, 4, 9, 1, 5,\n",
       "       6, 0, 1, 8, 8, 8, 6, 7, 1, 6, 8, 4, 1, 5, 4, 5, 0, 3, 6, 9, 5, 5,\n",
       "       0, 9, 0, 0, 2, 7, 2, 2, 9, 3, 2, 1, 9, 5, 6, 0, 4, 8, 5, 8, 3, 9,\n",
       "       8, 9, 5, 1, 2, 4, 9, 6, 8, 5, 3, 8, 7, 4, 7, 7, 4, 2, 2, 7, 2, 5,\n",
       "       9, 9, 5, 0, 9, 0, 2, 4, 5, 1, 6, 2, 6, 5, 0, 8, 1, 2, 2, 4, 3, 6,\n",
       "       3, 1, 1, 6, 6, 8, 2, 3, 7, 7, 1, 1, 8, 7, 9, 7, 5, 6, 1, 4, 9, 6,\n",
       "       0, 0, 4, 5, 7, 8, 9, 9, 7, 2], dtype=int64)"
      ]
     },
     "execution_count": 312,
     "metadata": {},
     "output_type": "execute_result"
    }
   ],
   "source": [
    "y_test"
   ]
  },
  {
   "cell_type": "code",
   "execution_count": 322,
   "id": "214ea410-ad08-476f-b9be-d0f96b4a4ad0",
   "metadata": {},
   "outputs": [],
   "source": [
    "knn_score_test,knn_result_test = scoring(knn_yhat_test,y_test)"
   ]
  },
  {
   "cell_type": "code",
   "execution_count": 323,
   "id": "7151efe2-3cd4-4018-9b2e-ee54748abf8a",
   "metadata": {},
   "outputs": [
    {
     "name": "stdout",
     "output_type": "stream",
     "text": [
      "Score: 0.935\n",
      "Result:\n",
      "pred -> true\n"
     ]
    },
    {
     "data": {
      "text/plain": [
       "9 -> 4    8\n",
       "1 -> 7    6\n",
       "5 -> 8    4\n",
       "1 -> 8    4\n",
       "7 -> 2    4\n",
       "Name: comb, dtype: int64"
      ]
     },
     "metadata": {},
     "output_type": "display_data"
    }
   ],
   "source": [
    "print('Score:',knn_score_test)\n",
    "print('Result:')\n",
    "print('pred -> true')\n",
    "display(knn_result_test)"
   ]
  },
  {
   "cell_type": "markdown",
   "id": "f7490ffb-4a85-4843-b51e-14f24a24bd4e",
   "metadata": {},
   "source": [
    "With the test dataset, the model still has 93.5% of accuracy"
   ]
  },
  {
   "cell_type": "markdown",
   "id": "2d9e7b34-d05f-4f93-8ef0-32d39ddfbe80",
   "metadata": {
    "tags": []
   },
   "source": [
    "### Export the model\n",
    "\n",
    "We will use pd.to_pickle to export the trained model as pickle file, so we can reuse the trained model next time without retraining"
   ]
  },
  {
   "cell_type": "code",
   "execution_count": 339,
   "id": "61b8e48c-1962-4c9d-bde4-a8a2d198156d",
   "metadata": {},
   "outputs": [],
   "source": [
    "pd.to_pickle(knn,\"Trained Models\\\\knn.pkl\")"
   ]
  },
  {
   "cell_type": "markdown",
   "id": "f0ab788c-0a19-4077-a8a1-8472b25033aa",
   "metadata": {},
   "source": [
    "## 2. Support Vector Machines"
   ]
  },
  {
   "cell_type": "code",
   "execution_count": 366,
   "id": "2c307d62-095c-4cdb-afa9-0ddf28d4af99",
   "metadata": {},
   "outputs": [],
   "source": [
    "svc_params = {\n",
    "    \"C\" : (0.001,0.01,0.1,1,10,100,1000),\n",
    "    \"kernel\" : ('linear', 'poly', 'rbf', 'sigmoid'),\n",
    "    \"degree\" : (3,4,5,6),\n",
    "}"
   ]
  },
  {
   "cell_type": "code",
   "execution_count": 342,
   "id": "dd6c9cc2-28b9-4681-9073-9b2829f717f2",
   "metadata": {},
   "outputs": [],
   "source": [
    "svc = SVC()"
   ]
  },
  {
   "cell_type": "code",
   "execution_count": 367,
   "id": "1d8ca138-39c7-4793-9417-16d48ed86faf",
   "metadata": {},
   "outputs": [],
   "source": [
    "svc_cv = GridSearchCV(svc,svc_params,n_jobs=4)"
   ]
  },
  {
   "cell_type": "code",
   "execution_count": 368,
   "id": "2d961dec-d8de-40b2-8f6f-34d9e2a27794",
   "metadata": {},
   "outputs": [
    {
     "data": {
      "text/html": [
       "<style>#sk-container-id-8 {color: black;background-color: white;}#sk-container-id-8 pre{padding: 0;}#sk-container-id-8 div.sk-toggleable {background-color: white;}#sk-container-id-8 label.sk-toggleable__label {cursor: pointer;display: block;width: 100%;margin-bottom: 0;padding: 0.3em;box-sizing: border-box;text-align: center;}#sk-container-id-8 label.sk-toggleable__label-arrow:before {content: \"▸\";float: left;margin-right: 0.25em;color: #696969;}#sk-container-id-8 label.sk-toggleable__label-arrow:hover:before {color: black;}#sk-container-id-8 div.sk-estimator:hover label.sk-toggleable__label-arrow:before {color: black;}#sk-container-id-8 div.sk-toggleable__content {max-height: 0;max-width: 0;overflow: hidden;text-align: left;background-color: #f0f8ff;}#sk-container-id-8 div.sk-toggleable__content pre {margin: 0.2em;color: black;border-radius: 0.25em;background-color: #f0f8ff;}#sk-container-id-8 input.sk-toggleable__control:checked~div.sk-toggleable__content {max-height: 200px;max-width: 100%;overflow: auto;}#sk-container-id-8 input.sk-toggleable__control:checked~label.sk-toggleable__label-arrow:before {content: \"▾\";}#sk-container-id-8 div.sk-estimator input.sk-toggleable__control:checked~label.sk-toggleable__label {background-color: #d4ebff;}#sk-container-id-8 div.sk-label input.sk-toggleable__control:checked~label.sk-toggleable__label {background-color: #d4ebff;}#sk-container-id-8 input.sk-hidden--visually {border: 0;clip: rect(1px 1px 1px 1px);clip: rect(1px, 1px, 1px, 1px);height: 1px;margin: -1px;overflow: hidden;padding: 0;position: absolute;width: 1px;}#sk-container-id-8 div.sk-estimator {font-family: monospace;background-color: #f0f8ff;border: 1px dotted black;border-radius: 0.25em;box-sizing: border-box;margin-bottom: 0.5em;}#sk-container-id-8 div.sk-estimator:hover {background-color: #d4ebff;}#sk-container-id-8 div.sk-parallel-item::after {content: \"\";width: 100%;border-bottom: 1px solid gray;flex-grow: 1;}#sk-container-id-8 div.sk-label:hover label.sk-toggleable__label {background-color: #d4ebff;}#sk-container-id-8 div.sk-serial::before {content: \"\";position: absolute;border-left: 1px solid gray;box-sizing: border-box;top: 0;bottom: 0;left: 50%;z-index: 0;}#sk-container-id-8 div.sk-serial {display: flex;flex-direction: column;align-items: center;background-color: white;padding-right: 0.2em;padding-left: 0.2em;position: relative;}#sk-container-id-8 div.sk-item {position: relative;z-index: 1;}#sk-container-id-8 div.sk-parallel {display: flex;align-items: stretch;justify-content: center;background-color: white;position: relative;}#sk-container-id-8 div.sk-item::before, #sk-container-id-8 div.sk-parallel-item::before {content: \"\";position: absolute;border-left: 1px solid gray;box-sizing: border-box;top: 0;bottom: 0;left: 50%;z-index: -1;}#sk-container-id-8 div.sk-parallel-item {display: flex;flex-direction: column;z-index: 1;position: relative;background-color: white;}#sk-container-id-8 div.sk-parallel-item:first-child::after {align-self: flex-end;width: 50%;}#sk-container-id-8 div.sk-parallel-item:last-child::after {align-self: flex-start;width: 50%;}#sk-container-id-8 div.sk-parallel-item:only-child::after {width: 0;}#sk-container-id-8 div.sk-dashed-wrapped {border: 1px dashed gray;margin: 0 0.4em 0.5em 0.4em;box-sizing: border-box;padding-bottom: 0.4em;background-color: white;}#sk-container-id-8 div.sk-label label {font-family: monospace;font-weight: bold;display: inline-block;line-height: 1.2em;}#sk-container-id-8 div.sk-label-container {text-align: center;}#sk-container-id-8 div.sk-container {/* jupyter's `normalize.less` sets `[hidden] { display: none; }` but bootstrap.min.css set `[hidden] { display: none !important; }` so we also need the `!important` here to be able to override the default hidden behavior on the sphinx rendered scikit-learn.org. See: https://github.com/scikit-learn/scikit-learn/issues/21755 */display: inline-block !important;position: relative;}#sk-container-id-8 div.sk-text-repr-fallback {display: none;}</style><div id=\"sk-container-id-8\" class=\"sk-top-container\"><div class=\"sk-text-repr-fallback\"><pre>GridSearchCV(estimator=SVC(), n_jobs=4,\n",
       "             param_grid={&#x27;C&#x27;: (0.001, 0.01, 0.1, 1, 10, 100, 1000),\n",
       "                         &#x27;degree&#x27;: (3, 4, 5, 6),\n",
       "                         &#x27;kernel&#x27;: (&#x27;linear&#x27;, &#x27;poly&#x27;, &#x27;rbf&#x27;, &#x27;sigmoid&#x27;)})</pre><b>In a Jupyter environment, please rerun this cell to show the HTML representation or trust the notebook. <br />On GitHub, the HTML representation is unable to render, please try loading this page with nbviewer.org.</b></div><div class=\"sk-container\" hidden><div class=\"sk-item sk-dashed-wrapped\"><div class=\"sk-label-container\"><div class=\"sk-label sk-toggleable\"><input class=\"sk-toggleable__control sk-hidden--visually\" id=\"sk-estimator-id-16\" type=\"checkbox\" ><label for=\"sk-estimator-id-16\" class=\"sk-toggleable__label sk-toggleable__label-arrow\">GridSearchCV</label><div class=\"sk-toggleable__content\"><pre>GridSearchCV(estimator=SVC(), n_jobs=4,\n",
       "             param_grid={&#x27;C&#x27;: (0.001, 0.01, 0.1, 1, 10, 100, 1000),\n",
       "                         &#x27;degree&#x27;: (3, 4, 5, 6),\n",
       "                         &#x27;kernel&#x27;: (&#x27;linear&#x27;, &#x27;poly&#x27;, &#x27;rbf&#x27;, &#x27;sigmoid&#x27;)})</pre></div></div></div><div class=\"sk-parallel\"><div class=\"sk-parallel-item\"><div class=\"sk-item\"><div class=\"sk-label-container\"><div class=\"sk-label sk-toggleable\"><input class=\"sk-toggleable__control sk-hidden--visually\" id=\"sk-estimator-id-17\" type=\"checkbox\" ><label for=\"sk-estimator-id-17\" class=\"sk-toggleable__label sk-toggleable__label-arrow\">estimator: SVC</label><div class=\"sk-toggleable__content\"><pre>SVC()</pre></div></div></div><div class=\"sk-serial\"><div class=\"sk-item\"><div class=\"sk-estimator sk-toggleable\"><input class=\"sk-toggleable__control sk-hidden--visually\" id=\"sk-estimator-id-18\" type=\"checkbox\" ><label for=\"sk-estimator-id-18\" class=\"sk-toggleable__label sk-toggleable__label-arrow\">SVC</label><div class=\"sk-toggleable__content\"><pre>SVC()</pre></div></div></div></div></div></div></div></div></div></div>"
      ],
      "text/plain": [
       "GridSearchCV(estimator=SVC(), n_jobs=4,\n",
       "             param_grid={'C': (0.001, 0.01, 0.1, 1, 10, 100, 1000),\n",
       "                         'degree': (3, 4, 5, 6),\n",
       "                         'kernel': ('linear', 'poly', 'rbf', 'sigmoid')})"
      ]
     },
     "execution_count": 368,
     "metadata": {},
     "output_type": "execute_result"
    }
   ],
   "source": [
    "svc_cv.fit(x_train,y_train)"
   ]
  },
  {
   "cell_type": "code",
   "execution_count": 369,
   "id": "13764458-68bf-45ef-b9e1-adc5c90199da",
   "metadata": {
    "scrolled": true,
    "tags": []
   },
   "outputs": [
    {
     "data": {
      "text/html": [
       "<div>\n",
       "<style scoped>\n",
       "    .dataframe tbody tr th:only-of-type {\n",
       "        vertical-align: middle;\n",
       "    }\n",
       "\n",
       "    .dataframe tbody tr th {\n",
       "        vertical-align: top;\n",
       "    }\n",
       "\n",
       "    .dataframe thead th {\n",
       "        text-align: right;\n",
       "    }\n",
       "</style>\n",
       "<table border=\"1\" class=\"dataframe\">\n",
       "  <thead>\n",
       "    <tr style=\"text-align: right;\">\n",
       "      <th></th>\n",
       "      <th>mean_fit_time</th>\n",
       "      <th>std_fit_time</th>\n",
       "      <th>mean_score_time</th>\n",
       "      <th>std_score_time</th>\n",
       "      <th>param_C</th>\n",
       "      <th>param_degree</th>\n",
       "      <th>param_kernel</th>\n",
       "      <th>params</th>\n",
       "      <th>split0_test_score</th>\n",
       "      <th>split1_test_score</th>\n",
       "      <th>split2_test_score</th>\n",
       "      <th>split3_test_score</th>\n",
       "      <th>split4_test_score</th>\n",
       "      <th>mean_test_score</th>\n",
       "      <th>std_test_score</th>\n",
       "      <th>rank_test_score</th>\n",
       "    </tr>\n",
       "  </thead>\n",
       "  <tbody>\n",
       "    <tr>\n",
       "      <th>0</th>\n",
       "      <td>3.410041</td>\n",
       "      <td>0.060344</td>\n",
       "      <td>1.132747</td>\n",
       "      <td>0.041520</td>\n",
       "      <td>0.001</td>\n",
       "      <td>3</td>\n",
       "      <td>linear</td>\n",
       "      <td>{'C': 0.001, 'degree': 3, 'kernel': 'linear'}</td>\n",
       "      <td>0.902</td>\n",
       "      <td>0.871</td>\n",
       "      <td>0.902</td>\n",
       "      <td>0.888</td>\n",
       "      <td>0.901</td>\n",
       "      <td>0.8928</td>\n",
       "      <td>0.012123</td>\n",
       "      <td>29</td>\n",
       "    </tr>\n",
       "    <tr>\n",
       "      <th>1</th>\n",
       "      <td>26.409186</td>\n",
       "      <td>0.260404</td>\n",
       "      <td>2.871330</td>\n",
       "      <td>0.147789</td>\n",
       "      <td>0.001</td>\n",
       "      <td>3</td>\n",
       "      <td>poly</td>\n",
       "      <td>{'C': 0.001, 'degree': 3, 'kernel': 'poly'}</td>\n",
       "      <td>0.120</td>\n",
       "      <td>0.127</td>\n",
       "      <td>0.124</td>\n",
       "      <td>0.122</td>\n",
       "      <td>0.121</td>\n",
       "      <td>0.1228</td>\n",
       "      <td>0.002482</td>\n",
       "      <td>104</td>\n",
       "    </tr>\n",
       "    <tr>\n",
       "      <th>2</th>\n",
       "      <td>26.025458</td>\n",
       "      <td>0.465895</td>\n",
       "      <td>4.097531</td>\n",
       "      <td>0.495500</td>\n",
       "      <td>0.001</td>\n",
       "      <td>3</td>\n",
       "      <td>rbf</td>\n",
       "      <td>{'C': 0.001, 'degree': 3, 'kernel': 'rbf'}</td>\n",
       "      <td>0.118</td>\n",
       "      <td>0.118</td>\n",
       "      <td>0.118</td>\n",
       "      <td>0.119</td>\n",
       "      <td>0.119</td>\n",
       "      <td>0.1184</td>\n",
       "      <td>0.000490</td>\n",
       "      <td>105</td>\n",
       "    </tr>\n",
       "    <tr>\n",
       "      <th>3</th>\n",
       "      <td>26.339953</td>\n",
       "      <td>0.248233</td>\n",
       "      <td>2.875876</td>\n",
       "      <td>0.161995</td>\n",
       "      <td>0.001</td>\n",
       "      <td>3</td>\n",
       "      <td>sigmoid</td>\n",
       "      <td>{'C': 0.001, 'degree': 3, 'kernel': 'sigmoid'}</td>\n",
       "      <td>0.118</td>\n",
       "      <td>0.118</td>\n",
       "      <td>0.118</td>\n",
       "      <td>0.119</td>\n",
       "      <td>0.119</td>\n",
       "      <td>0.1184</td>\n",
       "      <td>0.000490</td>\n",
       "      <td>105</td>\n",
       "    </tr>\n",
       "    <tr>\n",
       "      <th>4</th>\n",
       "      <td>3.454436</td>\n",
       "      <td>0.094968</td>\n",
       "      <td>1.088933</td>\n",
       "      <td>0.037220</td>\n",
       "      <td>0.001</td>\n",
       "      <td>4</td>\n",
       "      <td>linear</td>\n",
       "      <td>{'C': 0.001, 'degree': 4, 'kernel': 'linear'}</td>\n",
       "      <td>0.902</td>\n",
       "      <td>0.871</td>\n",
       "      <td>0.902</td>\n",
       "      <td>0.888</td>\n",
       "      <td>0.901</td>\n",
       "      <td>0.8928</td>\n",
       "      <td>0.012123</td>\n",
       "      <td>29</td>\n",
       "    </tr>\n",
       "    <tr>\n",
       "      <th>...</th>\n",
       "      <td>...</td>\n",
       "      <td>...</td>\n",
       "      <td>...</td>\n",
       "      <td>...</td>\n",
       "      <td>...</td>\n",
       "      <td>...</td>\n",
       "      <td>...</td>\n",
       "      <td>...</td>\n",
       "      <td>...</td>\n",
       "      <td>...</td>\n",
       "      <td>...</td>\n",
       "      <td>...</td>\n",
       "      <td>...</td>\n",
       "      <td>...</td>\n",
       "      <td>...</td>\n",
       "      <td>...</td>\n",
       "    </tr>\n",
       "    <tr>\n",
       "      <th>107</th>\n",
       "      <td>2.788039</td>\n",
       "      <td>0.124296</td>\n",
       "      <td>0.908700</td>\n",
       "      <td>0.051254</td>\n",
       "      <td>1000</td>\n",
       "      <td>5</td>\n",
       "      <td>sigmoid</td>\n",
       "      <td>{'C': 1000, 'degree': 5, 'kernel': 'sigmoid'}</td>\n",
       "      <td>0.742</td>\n",
       "      <td>0.742</td>\n",
       "      <td>0.754</td>\n",
       "      <td>0.750</td>\n",
       "      <td>0.767</td>\n",
       "      <td>0.7510</td>\n",
       "      <td>0.009252</td>\n",
       "      <td>83</td>\n",
       "    </tr>\n",
       "    <tr>\n",
       "      <th>108</th>\n",
       "      <td>3.534145</td>\n",
       "      <td>0.101647</td>\n",
       "      <td>1.112151</td>\n",
       "      <td>0.046366</td>\n",
       "      <td>1000</td>\n",
       "      <td>6</td>\n",
       "      <td>linear</td>\n",
       "      <td>{'C': 1000, 'degree': 6, 'kernel': 'linear'}</td>\n",
       "      <td>0.902</td>\n",
       "      <td>0.871</td>\n",
       "      <td>0.902</td>\n",
       "      <td>0.888</td>\n",
       "      <td>0.901</td>\n",
       "      <td>0.8928</td>\n",
       "      <td>0.012123</td>\n",
       "      <td>29</td>\n",
       "    </tr>\n",
       "    <tr>\n",
       "      <th>109</th>\n",
       "      <td>7.178198</td>\n",
       "      <td>0.187020</td>\n",
       "      <td>1.214287</td>\n",
       "      <td>0.040966</td>\n",
       "      <td>1000</td>\n",
       "      <td>6</td>\n",
       "      <td>poly</td>\n",
       "      <td>{'C': 1000, 'degree': 6, 'kernel': 'poly'}</td>\n",
       "      <td>0.844</td>\n",
       "      <td>0.828</td>\n",
       "      <td>0.857</td>\n",
       "      <td>0.846</td>\n",
       "      <td>0.883</td>\n",
       "      <td>0.8516</td>\n",
       "      <td>0.018227</td>\n",
       "      <td>65</td>\n",
       "    </tr>\n",
       "    <tr>\n",
       "      <th>110</th>\n",
       "      <td>5.718025</td>\n",
       "      <td>0.224416</td>\n",
       "      <td>2.118683</td>\n",
       "      <td>0.131378</td>\n",
       "      <td>1000</td>\n",
       "      <td>6</td>\n",
       "      <td>rbf</td>\n",
       "      <td>{'C': 1000, 'degree': 6, 'kernel': 'rbf'}</td>\n",
       "      <td>0.944</td>\n",
       "      <td>0.944</td>\n",
       "      <td>0.954</td>\n",
       "      <td>0.946</td>\n",
       "      <td>0.951</td>\n",
       "      <td>0.9478</td>\n",
       "      <td>0.004020</td>\n",
       "      <td>1</td>\n",
       "    </tr>\n",
       "    <tr>\n",
       "      <th>111</th>\n",
       "      <td>2.429787</td>\n",
       "      <td>0.298529</td>\n",
       "      <td>0.679010</td>\n",
       "      <td>0.151258</td>\n",
       "      <td>1000</td>\n",
       "      <td>6</td>\n",
       "      <td>sigmoid</td>\n",
       "      <td>{'C': 1000, 'degree': 6, 'kernel': 'sigmoid'}</td>\n",
       "      <td>0.742</td>\n",
       "      <td>0.742</td>\n",
       "      <td>0.754</td>\n",
       "      <td>0.750</td>\n",
       "      <td>0.767</td>\n",
       "      <td>0.7510</td>\n",
       "      <td>0.009252</td>\n",
       "      <td>83</td>\n",
       "    </tr>\n",
       "  </tbody>\n",
       "</table>\n",
       "<p>112 rows × 16 columns</p>\n",
       "</div>"
      ],
      "text/plain": [
       "     mean_fit_time  std_fit_time  mean_score_time  std_score_time param_C  \\\n",
       "0         3.410041      0.060344         1.132747        0.041520   0.001   \n",
       "1        26.409186      0.260404         2.871330        0.147789   0.001   \n",
       "2        26.025458      0.465895         4.097531        0.495500   0.001   \n",
       "3        26.339953      0.248233         2.875876        0.161995   0.001   \n",
       "4         3.454436      0.094968         1.088933        0.037220   0.001   \n",
       "..             ...           ...              ...             ...     ...   \n",
       "107       2.788039      0.124296         0.908700        0.051254    1000   \n",
       "108       3.534145      0.101647         1.112151        0.046366    1000   \n",
       "109       7.178198      0.187020         1.214287        0.040966    1000   \n",
       "110       5.718025      0.224416         2.118683        0.131378    1000   \n",
       "111       2.429787      0.298529         0.679010        0.151258    1000   \n",
       "\n",
       "    param_degree param_kernel                                          params  \\\n",
       "0              3       linear   {'C': 0.001, 'degree': 3, 'kernel': 'linear'}   \n",
       "1              3         poly     {'C': 0.001, 'degree': 3, 'kernel': 'poly'}   \n",
       "2              3          rbf      {'C': 0.001, 'degree': 3, 'kernel': 'rbf'}   \n",
       "3              3      sigmoid  {'C': 0.001, 'degree': 3, 'kernel': 'sigmoid'}   \n",
       "4              4       linear   {'C': 0.001, 'degree': 4, 'kernel': 'linear'}   \n",
       "..           ...          ...                                             ...   \n",
       "107            5      sigmoid   {'C': 1000, 'degree': 5, 'kernel': 'sigmoid'}   \n",
       "108            6       linear    {'C': 1000, 'degree': 6, 'kernel': 'linear'}   \n",
       "109            6         poly      {'C': 1000, 'degree': 6, 'kernel': 'poly'}   \n",
       "110            6          rbf       {'C': 1000, 'degree': 6, 'kernel': 'rbf'}   \n",
       "111            6      sigmoid   {'C': 1000, 'degree': 6, 'kernel': 'sigmoid'}   \n",
       "\n",
       "     split0_test_score  split1_test_score  split2_test_score  \\\n",
       "0                0.902              0.871              0.902   \n",
       "1                0.120              0.127              0.124   \n",
       "2                0.118              0.118              0.118   \n",
       "3                0.118              0.118              0.118   \n",
       "4                0.902              0.871              0.902   \n",
       "..                 ...                ...                ...   \n",
       "107              0.742              0.742              0.754   \n",
       "108              0.902              0.871              0.902   \n",
       "109              0.844              0.828              0.857   \n",
       "110              0.944              0.944              0.954   \n",
       "111              0.742              0.742              0.754   \n",
       "\n",
       "     split3_test_score  split4_test_score  mean_test_score  std_test_score  \\\n",
       "0                0.888              0.901           0.8928        0.012123   \n",
       "1                0.122              0.121           0.1228        0.002482   \n",
       "2                0.119              0.119           0.1184        0.000490   \n",
       "3                0.119              0.119           0.1184        0.000490   \n",
       "4                0.888              0.901           0.8928        0.012123   \n",
       "..                 ...                ...              ...             ...   \n",
       "107              0.750              0.767           0.7510        0.009252   \n",
       "108              0.888              0.901           0.8928        0.012123   \n",
       "109              0.846              0.883           0.8516        0.018227   \n",
       "110              0.946              0.951           0.9478        0.004020   \n",
       "111              0.750              0.767           0.7510        0.009252   \n",
       "\n",
       "     rank_test_score  \n",
       "0                 29  \n",
       "1                104  \n",
       "2                105  \n",
       "3                105  \n",
       "4                 29  \n",
       "..               ...  \n",
       "107               83  \n",
       "108               29  \n",
       "109               65  \n",
       "110                1  \n",
       "111               83  \n",
       "\n",
       "[112 rows x 16 columns]"
      ]
     },
     "execution_count": 369,
     "metadata": {},
     "output_type": "execute_result"
    }
   ],
   "source": [
    "svc_cv_results = pd.DataFrame(svc_cv.cv_results_)\n",
    "svc_cv_results"
   ]
  },
  {
   "cell_type": "code",
   "execution_count": 420,
   "id": "6c4b2bdf-f798-412b-8eae-ce661a0dbf1e",
   "metadata": {},
   "outputs": [
    {
     "name": "stderr",
     "output_type": "stream",
     "text": [
      "C:\\Users\\pi314\\AppData\\Local\\Temp\\ipykernel_11148\\4113175257.py:4: SettingWithCopyWarning: \n",
      "A value is trying to be set on a copy of a slice from a DataFrame.\n",
      "Try using .loc[row_indexer,col_indexer] = value instead\n",
      "\n",
      "See the caveats in the documentation: https://pandas.pydata.org/pandas-docs/stable/user_guide/indexing.html#returning-a-view-versus-a-copy\n",
      "  df_tmp.loc[:,'xticks'] = df_tmp['param_C'].copy().astype('str') + ', ' + df_tmp['param_degree'].copy().astype('str')\n",
      "C:\\Users\\pi314\\AppData\\Local\\Temp\\ipykernel_11148\\4113175257.py:4: SettingWithCopyWarning: \n",
      "A value is trying to be set on a copy of a slice from a DataFrame.\n",
      "Try using .loc[row_indexer,col_indexer] = value instead\n",
      "\n",
      "See the caveats in the documentation: https://pandas.pydata.org/pandas-docs/stable/user_guide/indexing.html#returning-a-view-versus-a-copy\n",
      "  df_tmp.loc[:,'xticks'] = df_tmp['param_C'].copy().astype('str') + ', ' + df_tmp['param_degree'].copy().astype('str')\n",
      "C:\\Users\\pi314\\AppData\\Local\\Temp\\ipykernel_11148\\4113175257.py:4: SettingWithCopyWarning: \n",
      "A value is trying to be set on a copy of a slice from a DataFrame.\n",
      "Try using .loc[row_indexer,col_indexer] = value instead\n",
      "\n",
      "See the caveats in the documentation: https://pandas.pydata.org/pandas-docs/stable/user_guide/indexing.html#returning-a-view-versus-a-copy\n",
      "  df_tmp.loc[:,'xticks'] = df_tmp['param_C'].copy().astype('str') + ', ' + df_tmp['param_degree'].copy().astype('str')\n",
      "C:\\Users\\pi314\\AppData\\Local\\Temp\\ipykernel_11148\\4113175257.py:4: SettingWithCopyWarning: \n",
      "A value is trying to be set on a copy of a slice from a DataFrame.\n",
      "Try using .loc[row_indexer,col_indexer] = value instead\n",
      "\n",
      "See the caveats in the documentation: https://pandas.pydata.org/pandas-docs/stable/user_guide/indexing.html#returning-a-view-versus-a-copy\n",
      "  df_tmp.loc[:,'xticks'] = df_tmp['param_C'].copy().astype('str') + ', ' + df_tmp['param_degree'].copy().astype('str')\n"
     ]
    },
    {
     "data": {
      "image/png": "[encoded data removed]",
      "text/plain": [
       "<Figure size 1008x432 with 1 Axes>"
      ]
     },
     "metadata": {
      "needs_background": "light"
     },
     "output_type": "display_data"
    }
   ],
   "source": [
    "plt.figure(figsize=(14,6))\n",
    "for kern,col in zip(svc_params['kernel'],['red','green','blue','yellow']):\n",
    "    df_tmp = svc_cv_results.query(f'param_kernel == \"{kern}\"')\n",
    "    df_tmp.loc[:,'xticks'] = df_tmp['param_C'].copy().astype('str') + ', ' + df_tmp['param_degree'].copy().astype('str')\n",
    "    plt.plot(df_tmp['xticks'],df_tmp['mean_test_score'],color=col,label=kern)\n",
    "\n",
    "plt.plot(df_tmp['xticks'],[svc_cv_results['mean_test_score'].max() for i in range(df_tmp.shape[0])],color='k')\n",
    "plt.xticks(rotation=90)\n",
    "plt.title('Different parameters vs scores')\n",
    "plt.xlabel('parameters')\n",
    "plt.ylabel('score')\n",
    "plt.ylim((0.7,1.0))\n",
    "plt.legend(svc_params['kernel'])\n",
    "plt.show()"
   ]
  },
  {
   "cell_type": "code",
   "execution_count": 439,
   "id": "2847021a-490a-44e9-865f-9ab36ed63d2d",
   "metadata": {},
   "outputs": [
    {
     "data": {
      "text/plain": [
       "{'C': 10, 'degree': 3, 'kernel': 'rbf'}"
      ]
     },
     "execution_count": 439,
     "metadata": {},
     "output_type": "execute_result"
    }
   ],
   "source": [
    "svc_cv.best_params_"
   ]
  },
  {
   "cell_type": "markdown",
   "id": "4085e3d5-6e1d-4ef5-af4c-7df9a3bb7171",
   "metadata": {},
   "source": [
    "From the line plot above, we can see that the best parameters are C >= 10 and degree doesn't affect the score for the kernel = 'rbf'.\n",
    "\n",
    ">Best parameters:\\\n",
    ">kernel: rbf\\\n",
    ">C: 10"
   ]
  },
  {
   "cell_type": "code",
   "execution_count": 421,
   "id": "0a0b71b7-0b5e-4cbb-87e3-83dc28491a42",
   "metadata": {},
   "outputs": [],
   "source": [
    "svc = SVC(C=10,kernel='rbf').fit(x_train,y_train)"
   ]
  },
  {
   "cell_type": "code",
   "execution_count": 422,
   "id": "a28067f7-e1dc-4ba7-a04c-590c084944fd",
   "metadata": {},
   "outputs": [
    {
     "data": {
      "text/plain": [
       "array([2, 1, 4, ..., 1, 4, 1], dtype=int64)"
      ]
     },
     "execution_count": 422,
     "metadata": {},
     "output_type": "execute_result"
    }
   ],
   "source": [
    "svc_yhat_train = svc.predict(x_train)\n",
    "svc_yhat_train"
   ]
  },
  {
   "cell_type": "code",
   "execution_count": 423,
   "id": "4316adb7-79c8-40d2-9e5a-fe6bf2cbe62c",
   "metadata": {},
   "outputs": [
    {
     "data": {
      "text/plain": [
       "array([2, 1, 4, ..., 1, 4, 1], dtype=int64)"
      ]
     },
     "execution_count": 423,
     "metadata": {},
     "output_type": "execute_result"
    }
   ],
   "source": [
    "y_train"
   ]
  },
  {
   "cell_type": "code",
   "execution_count": 424,
   "id": "72194ebc-0bf9-4859-a0c1-4e43ecafb845",
   "metadata": {},
   "outputs": [],
   "source": [
    "svc_score_train,svc_result_train = scoring(svc_yhat_train,y_train)"
   ]
  },
  {
   "cell_type": "code",
   "execution_count": 425,
   "id": "b981d0cf-60ad-4486-a455-2246a2f91800",
   "metadata": {},
   "outputs": [
    {
     "name": "stdout",
     "output_type": "stream",
     "text": [
      "Score: 1.0\n",
      "Result:\n",
      "pred -> true\n"
     ]
    },
    {
     "data": {
      "text/plain": [
       "Series([], Name: comb, dtype: int64)"
      ]
     },
     "metadata": {},
     "output_type": "display_data"
    }
   ],
   "source": [
    "print('Score:',svc_score_train)\n",
    "print('Result:')\n",
    "print('pred -> true')\n",
    "display(svc_result_train)"
   ]
  },
  {
   "cell_type": "markdown",
   "id": "b97ac2e9-b041-449f-bd2a-512417e78e1d",
   "metadata": {},
   "source": [
    "It seems like Support Vector Machine have 100% accuracy at predicting training dataset"
   ]
  },
  {
   "cell_type": "markdown",
   "id": "a47a6b35-4b42-4583-8cff-35a575fcec3b",
   "metadata": {},
   "source": [
    "Let's see what's its performance against the test dataset"
   ]
  },
  {
   "cell_type": "code",
   "execution_count": 426,
   "id": "49703862-ae05-4866-b4bb-9ddc5c5917a8",
   "metadata": {
    "collapsed": true,
    "jupyter": {
     "outputs_hidden": true
    },
    "tags": []
   },
   "outputs": [
    {
     "data": {
      "text/plain": [
       "array([6, 2, 7, 5, 7, 6, 3, 5, 1, 3, 1, 2, 5, 3, 6, 1, 0, 9, 4, 3, 1, 5,\n",
       "       8, 3, 4, 7, 3, 6, 5, 1, 6, 9, 2, 1, 1, 0, 9, 3, 4, 1, 5, 1, 5, 1,\n",
       "       4, 3, 5, 7, 7, 0, 0, 7, 0, 0, 1, 3, 0, 7, 4, 3, 5, 1, 7, 2, 5, 9,\n",
       "       4, 8, 7, 1, 1, 1, 0, 3, 1, 9, 3, 7, 6, 4, 9, 2, 3, 8, 7, 0, 2, 2,\n",
       "       6, 9, 6, 5, 1, 6, 7, 8, 4, 6, 8, 0, 8, 4, 0, 6, 2, 1, 0, 9, 6, 1,\n",
       "       1, 0, 9, 8, 8, 1, 2, 9, 3, 5, 9, 1, 4, 4, 3, 8, 3, 2, 1, 7, 1, 4,\n",
       "       3, 6, 4, 1, 7, 9, 1, 8, 2, 2, 5, 7, 1, 9, 9, 9, 5, 4, 9, 9, 9, 3,\n",
       "       4, 8, 2, 9, 0, 0, 9, 1, 6, 4, 5, 1, 7, 6, 7, 8, 2, 7, 8, 2, 2, 2,\n",
       "       7, 0, 1, 7, 9, 3, 5, 0, 2, 2, 9, 1, 0, 9, 1, 9, 4, 7, 5, 1, 0, 2,\n",
       "       6, 3, 2, 1, 4, 8, 6, 4, 4, 3, 6, 3, 3, 7, 1, 4, 2, 9, 9, 0, 1, 8,\n",
       "       4, 3, 3, 0, 9, 2, 5, 7, 7, 9, 9, 5, 6, 1, 5, 2, 0, 9, 4, 2, 1, 5,\n",
       "       8, 1, 3, 5, 7, 1, 0, 7, 4, 1, 7, 0, 5, 0, 7, 1, 5, 6, 8, 6, 9, 1,\n",
       "       0, 4, 9, 9, 5, 0, 8, 1, 9, 8, 6, 1, 9, 2, 3, 7, 8, 7, 2, 4, 3, 4,\n",
       "       9, 0, 6, 2, 1, 4, 3, 3, 4, 0, 9, 6, 2, 3, 6, 4, 8, 0, 0, 3, 8, 3,\n",
       "       3, 6, 0, 2, 5, 8, 1, 2, 9, 3, 3, 1, 6, 4, 8, 7, 6, 0, 6, 3, 2, 8,\n",
       "       1, 1, 6, 2, 8, 1, 3, 3, 4, 8, 9, 1, 4, 2, 6, 4, 1, 6, 5, 4, 1, 6,\n",
       "       9, 4, 5, 1, 7, 2, 8, 1, 7, 3, 9, 5, 8, 5, 7, 1, 7, 2, 4, 7, 6, 3,\n",
       "       7, 5, 4, 3, 9, 2, 2, 7, 2, 5, 3, 2, 5, 8, 2, 5, 6, 7, 8, 2, 1, 9,\n",
       "       1, 9, 3, 1, 9, 8, 1, 6, 0, 2, 9, 1, 8, 3, 9, 0, 8, 3, 9, 3, 3, 3,\n",
       "       0, 1, 5, 2, 1, 4, 7, 2, 5, 3, 1, 3, 9, 0, 1, 9, 2, 2, 6, 2, 6, 3,\n",
       "       2, 4, 9, 7, 0, 3, 6, 8, 6, 5, 8, 4, 7, 8, 2, 5, 9, 4, 3, 6, 5, 2,\n",
       "       3, 5, 2, 3, 7, 2, 1, 3, 7, 0, 2, 9, 1, 0, 8, 1, 8, 6, 6, 1, 8, 5,\n",
       "       1, 8, 7, 9, 1, 7, 5, 7, 9, 4, 8, 0, 7, 8, 9, 4, 3, 4, 8, 2, 7, 9,\n",
       "       1, 5, 1, 4, 0, 3, 0, 1, 1, 5, 9, 7, 4, 4, 0, 4, 8, 7, 7, 1, 5, 3,\n",
       "       2, 8, 2, 0, 6, 9, 1, 2, 7, 7, 3, 7, 5, 5, 2, 5, 2, 0, 2, 1, 8, 6,\n",
       "       3, 8, 3, 8, 1, 6, 0, 3, 4, 5, 3, 1, 1, 5, 5, 9, 1, 5, 3, 8, 9, 1,\n",
       "       6, 7, 9, 9, 6, 6, 9, 6, 5, 9, 9, 7, 9, 4, 2, 6, 2, 8, 3, 5, 5, 6,\n",
       "       2, 4, 6, 1, 9, 3, 2, 9, 4, 4, 9, 2, 0, 4, 3, 2, 2, 5, 7, 5, 7, 2,\n",
       "       9, 9, 9, 3, 6, 4, 9, 7, 4, 0, 3, 7, 9, 0, 1, 5, 1, 0, 4, 2, 3, 2,\n",
       "       0, 2, 0, 3, 2, 5, 7, 9, 8, 8, 3, 0, 1, 6, 3, 6, 8, 3, 9, 4, 0, 0,\n",
       "       9, 9, 3, 4, 6, 3, 0, 5, 1, 8, 4, 4, 9, 5, 9, 4, 1, 4, 2, 1, 3, 6,\n",
       "       3, 4, 2, 8, 0, 4, 6, 4, 4, 6, 3, 1, 3, 4, 8, 5, 4, 8, 4, 8, 5, 9,\n",
       "       3, 3, 8, 8, 1, 8, 7, 5, 0, 8, 9, 7, 0, 7, 2, 3, 1, 7, 1, 8, 3, 3,\n",
       "       3, 1, 1, 6, 3, 5, 6, 5, 0, 8, 5, 8, 2, 6, 0, 7, 6, 5, 3, 5, 7, 2,\n",
       "       4, 8, 6, 4, 6, 7, 0, 5, 1, 5, 0, 2, 8, 2, 2, 3, 8, 3, 9, 7, 4, 0,\n",
       "       3, 7, 8, 1, 3, 1, 7, 4, 6, 1, 3, 6, 5, 5, 9, 2, 3, 6, 9, 7, 6, 2,\n",
       "       8, 2, 3, 4, 5, 5, 6, 7, 2, 7, 2, 4, 9, 2, 5, 7, 0, 8, 7, 0, 2, 1,\n",
       "       4, 5, 4, 1, 8, 6, 7, 2, 8, 8, 0, 5, 9, 3, 0, 7, 0, 8, 3, 1, 6, 1,\n",
       "       9, 6, 4, 7, 9, 0, 8, 0, 8, 5, 6, 7, 9, 9, 3, 2, 1, 0, 0, 2, 6, 7,\n",
       "       3, 8, 8, 7, 3, 9, 7, 2, 2, 5, 8, 9, 1, 1, 5, 1, 7, 3, 4, 9, 1, 5,\n",
       "       6, 0, 1, 8, 8, 8, 6, 7, 1, 6, 8, 4, 1, 5, 4, 5, 0, 3, 6, 9, 5, 5,\n",
       "       0, 9, 0, 0, 2, 7, 2, 2, 9, 3, 2, 1, 9, 5, 6, 0, 4, 8, 5, 8, 3, 9,\n",
       "       8, 9, 5, 1, 2, 4, 9, 6, 8, 5, 3, 8, 7, 4, 7, 7, 4, 2, 2, 7, 2, 5,\n",
       "       9, 9, 5, 0, 9, 0, 2, 4, 5, 1, 6, 2, 6, 5, 0, 8, 1, 2, 2, 4, 3, 6,\n",
       "       3, 1, 1, 6, 6, 8, 2, 3, 7, 7, 1, 1, 8, 7, 9, 7, 5, 6, 1, 4, 9, 6,\n",
       "       0, 0, 4, 5, 7, 5, 9, 9, 7, 2], dtype=int64)"
      ]
     },
     "execution_count": 426,
     "metadata": {},
     "output_type": "execute_result"
    }
   ],
   "source": [
    "svc_yhat_test = svc.predict(x_test)\n",
    "svc_yhat_test"
   ]
  },
  {
   "cell_type": "code",
   "execution_count": 427,
   "id": "66a40512-b844-4eb4-9771-b93859025417",
   "metadata": {
    "collapsed": true,
    "jupyter": {
     "outputs_hidden": true
    },
    "tags": []
   },
   "outputs": [
    {
     "data": {
      "text/plain": [
       "array([6, 2, 7, 5, 7, 6, 3, 5, 1, 3, 1, 2, 5, 3, 6, 1, 0, 9, 4, 3, 1, 5,\n",
       "       8, 3, 4, 7, 3, 6, 5, 1, 6, 9, 2, 1, 1, 0, 7, 3, 4, 1, 5, 1, 7, 1,\n",
       "       4, 9, 5, 7, 7, 0, 0, 7, 0, 0, 1, 3, 9, 7, 4, 3, 5, 1, 7, 8, 5, 9,\n",
       "       4, 0, 7, 1, 1, 1, 0, 3, 1, 9, 3, 7, 6, 4, 9, 2, 3, 8, 7, 0, 2, 2,\n",
       "       6, 9, 6, 5, 1, 6, 7, 8, 4, 6, 8, 0, 8, 7, 0, 6, 2, 1, 0, 9, 6, 1,\n",
       "       1, 0, 9, 3, 8, 1, 2, 9, 0, 5, 9, 1, 4, 4, 3, 8, 3, 2, 1, 7, 1, 2,\n",
       "       3, 6, 4, 1, 7, 9, 5, 8, 2, 2, 8, 7, 1, 9, 9, 9, 5, 4, 9, 9, 9, 3,\n",
       "       4, 8, 2, 9, 5, 0, 9, 1, 6, 4, 5, 1, 7, 6, 7, 8, 2, 7, 8, 2, 2, 2,\n",
       "       7, 0, 1, 7, 9, 3, 5, 0, 2, 2, 9, 1, 0, 9, 1, 9, 4, 7, 5, 1, 0, 2,\n",
       "       6, 3, 2, 1, 4, 8, 6, 4, 4, 3, 6, 3, 3, 7, 1, 8, 2, 9, 9, 0, 1, 8,\n",
       "       4, 3, 3, 0, 9, 2, 5, 7, 9, 9, 9, 5, 6, 1, 5, 2, 0, 9, 4, 2, 1, 5,\n",
       "       7, 1, 3, 5, 7, 1, 0, 7, 4, 1, 7, 0, 5, 0, 7, 1, 5, 5, 8, 6, 9, 1,\n",
       "       0, 4, 9, 9, 5, 0, 8, 1, 9, 8, 6, 1, 9, 2, 3, 7, 8, 7, 2, 4, 3, 4,\n",
       "       9, 0, 6, 2, 1, 4, 3, 3, 4, 0, 9, 6, 2, 3, 6, 4, 8, 0, 0, 3, 8, 3,\n",
       "       3, 6, 0, 2, 5, 8, 1, 2, 9, 3, 3, 1, 6, 4, 8, 7, 6, 0, 6, 3, 2, 8,\n",
       "       1, 1, 6, 2, 8, 1, 3, 9, 4, 8, 4, 1, 4, 2, 6, 4, 1, 5, 5, 4, 1, 6,\n",
       "       9, 4, 5, 1, 7, 2, 8, 1, 7, 3, 9, 5, 8, 5, 7, 1, 7, 2, 4, 7, 6, 3,\n",
       "       7, 5, 4, 3, 9, 2, 2, 7, 2, 5, 3, 2, 5, 8, 2, 5, 6, 7, 8, 2, 1, 9,\n",
       "       1, 9, 3, 1, 9, 2, 1, 6, 0, 2, 9, 1, 8, 3, 9, 0, 8, 3, 9, 3, 3, 3,\n",
       "       0, 1, 5, 2, 7, 4, 7, 2, 5, 3, 1, 3, 9, 0, 1, 9, 2, 2, 6, 2, 6, 3,\n",
       "       2, 4, 9, 7, 0, 3, 6, 8, 6, 5, 8, 4, 7, 8, 2, 5, 9, 2, 3, 6, 3, 2,\n",
       "       3, 5, 2, 3, 7, 2, 1, 3, 7, 0, 2, 9, 1, 5, 8, 1, 8, 6, 6, 1, 8, 5,\n",
       "       1, 8, 7, 9, 1, 7, 3, 7, 9, 4, 8, 0, 7, 8, 9, 4, 3, 4, 2, 2, 7, 7,\n",
       "       1, 5, 1, 4, 0, 3, 0, 1, 1, 5, 7, 7, 9, 4, 0, 4, 8, 7, 7, 1, 5, 7,\n",
       "       2, 8, 2, 0, 6, 9, 1, 2, 7, 7, 3, 7, 5, 5, 2, 5, 2, 0, 2, 1, 7, 6,\n",
       "       3, 8, 3, 8, 1, 6, 0, 3, 4, 5, 3, 1, 1, 5, 5, 9, 1, 5, 3, 8, 9, 1,\n",
       "       6, 7, 9, 4, 6, 6, 9, 6, 5, 9, 9, 7, 9, 4, 2, 6, 2, 8, 3, 5, 5, 6,\n",
       "       2, 4, 6, 1, 9, 3, 2, 9, 4, 4, 9, 2, 0, 4, 3, 2, 2, 5, 7, 5, 7, 2,\n",
       "       9, 9, 9, 3, 6, 4, 9, 7, 4, 0, 3, 7, 9, 0, 1, 5, 1, 0, 4, 2, 3, 2,\n",
       "       0, 2, 0, 3, 2, 5, 7, 9, 8, 8, 3, 0, 1, 6, 3, 6, 8, 3, 4, 4, 0, 0,\n",
       "       9, 9, 3, 4, 6, 3, 0, 5, 1, 8, 4, 4, 9, 5, 9, 4, 1, 4, 2, 1, 3, 6,\n",
       "       3, 4, 2, 8, 0, 4, 6, 4, 4, 6, 3, 1, 3, 4, 8, 5, 4, 8, 4, 8, 5, 9,\n",
       "       3, 3, 8, 3, 1, 8, 7, 5, 0, 8, 9, 7, 0, 7, 2, 3, 1, 2, 1, 8, 3, 3,\n",
       "       3, 1, 1, 6, 3, 5, 6, 5, 0, 8, 5, 8, 2, 6, 0, 7, 6, 5, 3, 5, 7, 2,\n",
       "       4, 8, 6, 4, 6, 7, 0, 5, 1, 5, 0, 2, 8, 2, 2, 3, 8, 3, 9, 7, 4, 0,\n",
       "       3, 7, 8, 1, 3, 1, 7, 4, 6, 1, 3, 6, 5, 5, 9, 2, 3, 6, 9, 7, 6, 2,\n",
       "       8, 2, 3, 4, 5, 5, 6, 7, 2, 2, 2, 4, 9, 2, 5, 7, 0, 8, 7, 0, 8, 1,\n",
       "       4, 5, 4, 1, 8, 6, 7, 2, 8, 8, 0, 5, 9, 3, 0, 9, 0, 8, 3, 1, 6, 1,\n",
       "       9, 6, 4, 3, 9, 0, 8, 0, 8, 5, 6, 7, 9, 4, 3, 2, 1, 0, 0, 2, 6, 7,\n",
       "       5, 8, 8, 7, 3, 9, 7, 2, 2, 5, 8, 9, 1, 1, 5, 1, 7, 5, 4, 9, 1, 5,\n",
       "       6, 0, 1, 8, 8, 8, 6, 7, 1, 6, 8, 4, 1, 5, 4, 5, 0, 3, 6, 9, 5, 5,\n",
       "       0, 9, 0, 0, 2, 7, 2, 2, 9, 3, 2, 1, 9, 5, 6, 0, 4, 8, 5, 8, 3, 9,\n",
       "       8, 9, 5, 1, 2, 4, 9, 6, 8, 5, 3, 8, 7, 4, 7, 7, 4, 2, 2, 7, 2, 5,\n",
       "       9, 9, 5, 0, 9, 0, 2, 4, 5, 1, 6, 2, 6, 5, 0, 8, 1, 2, 2, 4, 3, 6,\n",
       "       3, 1, 1, 6, 6, 8, 2, 3, 7, 7, 1, 1, 8, 7, 9, 7, 5, 6, 1, 4, 9, 6,\n",
       "       0, 0, 4, 5, 7, 8, 9, 9, 7, 2], dtype=int64)"
      ]
     },
     "execution_count": 427,
     "metadata": {},
     "output_type": "execute_result"
    }
   ],
   "source": [
    "y_test"
   ]
  },
  {
   "cell_type": "code",
   "execution_count": 428,
   "id": "0d5f4573-34bb-414a-ae4a-f7f4255d593c",
   "metadata": {},
   "outputs": [],
   "source": [
    "svc_score_test,svc_result_test = scoring(svc_yhat_test,y_test)"
   ]
  },
  {
   "cell_type": "code",
   "execution_count": 429,
   "id": "85e29770-7608-4539-b639-2da06dae2bb8",
   "metadata": {},
   "outputs": [
    {
     "name": "stdout",
     "output_type": "stream",
     "text": [
      "Score: 0.956\n",
      "Result:\n",
      "pred -> true\n"
     ]
    },
    {
     "data": {
      "text/plain": [
       "9 -> 4    4\n",
       "9 -> 7    3\n",
       "7 -> 9    2\n",
       "3 -> 9    2\n",
       "8 -> 3    2\n",
       "Name: comb, dtype: int64"
      ]
     },
     "metadata": {},
     "output_type": "display_data"
    }
   ],
   "source": [
    "print('Score:',svc_score_test)\n",
    "print('Result:')\n",
    "print('pred -> true')\n",
    "display(svc_result_test)"
   ]
  },
  {
   "cell_type": "markdown",
   "id": "338bbffb-7022-4ac5-a794-6f2ae739eaf0",
   "metadata": {},
   "source": [
    "It has 95.6% accuracy against the test dataset of 1000 samples"
   ]
  },
  {
   "cell_type": "markdown",
   "id": "82c79d20-4884-4cd5-b4fe-257981b144a4",
   "metadata": {
    "tags": []
   },
   "source": [
    "### Export the model\n",
    "\n",
    "We will use pd.to_pickle to export the trained model as pickle file, so we can reuse the trained model next time without retraining"
   ]
  },
  {
   "cell_type": "code",
   "execution_count": 430,
   "id": "3849e81b-1140-4640-a496-f5b8fa9de2a5",
   "metadata": {},
   "outputs": [],
   "source": [
    "pd.to_pickle(knn,\"Trained Models\\\\svc.pkl\")"
   ]
  },
  {
   "cell_type": "markdown",
   "id": "b256da63-612e-424b-a1c2-8266951fb864",
   "metadata": {},
   "source": [
    "## 3. Naive Bayes"
   ]
  },
  {
   "cell_type": "code",
   "execution_count": 434,
   "id": "f0626ad4-6466-4aa8-a801-95152ecd3968",
   "metadata": {},
   "outputs": [],
   "source": [
    "nb_params = {\n",
    "    \"alpha\" : (0.01,0.1,10,100)\n",
    "}"
   ]
  },
  {
   "cell_type": "code",
   "execution_count": 435,
   "id": "7354d5d2-a648-4594-87d1-253e3abc8915",
   "metadata": {},
   "outputs": [],
   "source": [
    "nb = CategoricalNB()"
   ]
  },
  {
   "cell_type": "code",
   "execution_count": 436,
   "id": "3f67edcb-caa5-436c-9912-a6ae74924bff",
   "metadata": {},
   "outputs": [],
   "source": [
    "nb_cv = GridSearchCV(nb,nb_params,n_jobs=2)"
   ]
  },
  {
   "cell_type": "code",
   "execution_count": 437,
   "id": "7e5a536a-a129-4fdf-9c7a-cb2483d98dfd",
   "metadata": {},
   "outputs": [
    {
     "name": "stderr",
     "output_type": "stream",
     "text": [
      "C:\\Users\\pi314\\AppData\\Local\\Programs\\Python\\Python310\\lib\\site-packages\\sklearn\\model_selection\\_search.py:953: UserWarning: One or more of the test scores are non-finite: [nan nan nan nan]\n",
      "  warnings.warn(\n"
     ]
    },
    {
     "data": {
      "text/html": [
       "<style>#sk-container-id-9 {color: black;background-color: white;}#sk-container-id-9 pre{padding: 0;}#sk-container-id-9 div.sk-toggleable {background-color: white;}#sk-container-id-9 label.sk-toggleable__label {cursor: pointer;display: block;width: 100%;margin-bottom: 0;padding: 0.3em;box-sizing: border-box;text-align: center;}#sk-container-id-9 label.sk-toggleable__label-arrow:before {content: \"▸\";float: left;margin-right: 0.25em;color: #696969;}#sk-container-id-9 label.sk-toggleable__label-arrow:hover:before {color: black;}#sk-container-id-9 div.sk-estimator:hover label.sk-toggleable__label-arrow:before {color: black;}#sk-container-id-9 div.sk-toggleable__content {max-height: 0;max-width: 0;overflow: hidden;text-align: left;background-color: #f0f8ff;}#sk-container-id-9 div.sk-toggleable__content pre {margin: 0.2em;color: black;border-radius: 0.25em;background-color: #f0f8ff;}#sk-container-id-9 input.sk-toggleable__control:checked~div.sk-toggleable__content {max-height: 200px;max-width: 100%;overflow: auto;}#sk-container-id-9 input.sk-toggleable__control:checked~label.sk-toggleable__label-arrow:before {content: \"▾\";}#sk-container-id-9 div.sk-estimator input.sk-toggleable__control:checked~label.sk-toggleable__label {background-color: #d4ebff;}#sk-container-id-9 div.sk-label input.sk-toggleable__control:checked~label.sk-toggleable__label {background-color: #d4ebff;}#sk-container-id-9 input.sk-hidden--visually {border: 0;clip: rect(1px 1px 1px 1px);clip: rect(1px, 1px, 1px, 1px);height: 1px;margin: -1px;overflow: hidden;padding: 0;position: absolute;width: 1px;}#sk-container-id-9 div.sk-estimator {font-family: monospace;background-color: #f0f8ff;border: 1px dotted black;border-radius: 0.25em;box-sizing: border-box;margin-bottom: 0.5em;}#sk-container-id-9 div.sk-estimator:hover {background-color: #d4ebff;}#sk-container-id-9 div.sk-parallel-item::after {content: \"\";width: 100%;border-bottom: 1px solid gray;flex-grow: 1;}#sk-container-id-9 div.sk-label:hover label.sk-toggleable__label {background-color: #d4ebff;}#sk-container-id-9 div.sk-serial::before {content: \"\";position: absolute;border-left: 1px solid gray;box-sizing: border-box;top: 0;bottom: 0;left: 50%;z-index: 0;}#sk-container-id-9 div.sk-serial {display: flex;flex-direction: column;align-items: center;background-color: white;padding-right: 0.2em;padding-left: 0.2em;position: relative;}#sk-container-id-9 div.sk-item {position: relative;z-index: 1;}#sk-container-id-9 div.sk-parallel {display: flex;align-items: stretch;justify-content: center;background-color: white;position: relative;}#sk-container-id-9 div.sk-item::before, #sk-container-id-9 div.sk-parallel-item::before {content: \"\";position: absolute;border-left: 1px solid gray;box-sizing: border-box;top: 0;bottom: 0;left: 50%;z-index: -1;}#sk-container-id-9 div.sk-parallel-item {display: flex;flex-direction: column;z-index: 1;position: relative;background-color: white;}#sk-container-id-9 div.sk-parallel-item:first-child::after {align-self: flex-end;width: 50%;}#sk-container-id-9 div.sk-parallel-item:last-child::after {align-self: flex-start;width: 50%;}#sk-container-id-9 div.sk-parallel-item:only-child::after {width: 0;}#sk-container-id-9 div.sk-dashed-wrapped {border: 1px dashed gray;margin: 0 0.4em 0.5em 0.4em;box-sizing: border-box;padding-bottom: 0.4em;background-color: white;}#sk-container-id-9 div.sk-label label {font-family: monospace;font-weight: bold;display: inline-block;line-height: 1.2em;}#sk-container-id-9 div.sk-label-container {text-align: center;}#sk-container-id-9 div.sk-container {/* jupyter's `normalize.less` sets `[hidden] { display: none; }` but bootstrap.min.css set `[hidden] { display: none !important; }` so we also need the `!important` here to be able to override the default hidden behavior on the sphinx rendered scikit-learn.org. See: https://github.com/scikit-learn/scikit-learn/issues/21755 */display: inline-block !important;position: relative;}#sk-container-id-9 div.sk-text-repr-fallback {display: none;}</style><div id=\"sk-container-id-9\" class=\"sk-top-container\"><div class=\"sk-text-repr-fallback\"><pre>GridSearchCV(estimator=CategoricalNB(), n_jobs=2,\n",
       "             param_grid={&#x27;alpha&#x27;: (0.01, 0.1, 10, 100)})</pre><b>In a Jupyter environment, please rerun this cell to show the HTML representation or trust the notebook. <br />On GitHub, the HTML representation is unable to render, please try loading this page with nbviewer.org.</b></div><div class=\"sk-container\" hidden><div class=\"sk-item sk-dashed-wrapped\"><div class=\"sk-label-container\"><div class=\"sk-label sk-toggleable\"><input class=\"sk-toggleable__control sk-hidden--visually\" id=\"sk-estimator-id-19\" type=\"checkbox\" ><label for=\"sk-estimator-id-19\" class=\"sk-toggleable__label sk-toggleable__label-arrow\">GridSearchCV</label><div class=\"sk-toggleable__content\"><pre>GridSearchCV(estimator=CategoricalNB(), n_jobs=2,\n",
       "             param_grid={&#x27;alpha&#x27;: (0.01, 0.1, 10, 100)})</pre></div></div></div><div class=\"sk-parallel\"><div class=\"sk-parallel-item\"><div class=\"sk-item\"><div class=\"sk-label-container\"><div class=\"sk-label sk-toggleable\"><input class=\"sk-toggleable__control sk-hidden--visually\" id=\"sk-estimator-id-20\" type=\"checkbox\" ><label for=\"sk-estimator-id-20\" class=\"sk-toggleable__label sk-toggleable__label-arrow\">estimator: CategoricalNB</label><div class=\"sk-toggleable__content\"><pre>CategoricalNB()</pre></div></div></div><div class=\"sk-serial\"><div class=\"sk-item\"><div class=\"sk-estimator sk-toggleable\"><input class=\"sk-toggleable__control sk-hidden--visually\" id=\"sk-estimator-id-21\" type=\"checkbox\" ><label for=\"sk-estimator-id-21\" class=\"sk-toggleable__label sk-toggleable__label-arrow\">CategoricalNB</label><div class=\"sk-toggleable__content\"><pre>CategoricalNB()</pre></div></div></div></div></div></div></div></div></div></div>"
      ],
      "text/plain": [
       "GridSearchCV(estimator=CategoricalNB(), n_jobs=2,\n",
       "             param_grid={'alpha': (0.01, 0.1, 10, 100)})"
      ]
     },
     "execution_count": 437,
     "metadata": {},
     "output_type": "execute_result"
    }
   ],
   "source": [
    "nb_cv.fit(x_train,y_train)"
   ]
  },
  {
   "cell_type": "code",
   "execution_count": 444,
   "id": "31de6ed1-2fe7-4134-94ab-56a62bd30891",
   "metadata": {},
   "outputs": [
    {
     "data": {
      "text/plain": [
       "{'mean_fit_time': array([0.50446415, 0.47636971, 0.45633602, 0.48887501]),\n",
       " 'std_fit_time': array([0.02907377, 0.03969251, 0.01523372, 0.03894636]),\n",
       " 'mean_score_time': array([0.01280122, 0.00412617, 0.00219913, 0.00552521]),\n",
       " 'std_score_time': array([0.00874981, 0.00606942, 0.00271156, 0.0057551 ]),\n",
       " 'param_alpha': masked_array(data=[0.01, 0.1, 10, 100],\n",
       "              mask=[False, False, False, False],\n",
       "        fill_value='?',\n",
       "             dtype=object),\n",
       " 'params': [{'alpha': 0.01}, {'alpha': 0.1}, {'alpha': 10}, {'alpha': 100}],\n",
       " 'split0_test_score': array([nan, nan, nan, nan]),\n",
       " 'split1_test_score': array([nan, nan, nan, nan]),\n",
       " 'split2_test_score': array([nan, nan, nan, nan]),\n",
       " 'split3_test_score': array([nan, nan, nan, nan]),\n",
       " 'split4_test_score': array([nan, nan, nan, nan]),\n",
       " 'mean_test_score': array([nan, nan, nan, nan]),\n",
       " 'std_test_score': array([nan, nan, nan, nan]),\n",
       " 'rank_test_score': array([1, 2, 3, 4])}"
      ]
     },
     "execution_count": 444,
     "metadata": {},
     "output_type": "execute_result"
    }
   ],
   "source": [
    "nb_cv.cv_results_"
   ]
  },
  {
   "cell_type": "markdown",
   "id": "6e1adc71-f24d-43dc-ba7c-904959530d2d",
   "metadata": {},
   "source": [
    "As we can see that the grid search actually failed to provide scoring of instances with different parameters, we will use our own method to rank the different parameters"
   ]
  },
  {
   "cell_type": "code",
   "execution_count": 451,
   "id": "4ecdc2b9-41a4-4c0a-96df-cde6c1688e4f",
   "metadata": {},
   "outputs": [
    {
     "data": {
      "image/png": "[encoded data removed]",
      "text/plain": [
       "<Figure size 720x432 with 1 Axes>"
      ]
     },
     "metadata": {
      "needs_background": "light"
     },
     "output_type": "display_data"
    }
   ],
   "source": [
    "alphas = [0.001,0.01,0.1,1,10,100,1000,10000]\n",
    "scores = []\n",
    "for alpha in alphas:\n",
    "    score,result = scoring(CategoricalNB(alpha=alpha).fit(x_train,y_train).predict(x_train),y_train)\n",
    "    scores.append(score)\n",
    "plt.figure(figsize=(10,6))\n",
    "plt.plot(alphas,scores)\n",
    "plt.title('alpha vs score')\n",
    "plt.xlabel('alpha')\n",
    "plt.ylabel('score')\n",
    "plt.xscale('log')\n",
    "plt.show()"
   ]
  },
  {
   "cell_type": "code",
   "execution_count": 453,
   "id": "03418b15-fbfe-4cd8-b4be-d8477a600e14",
   "metadata": {},
   "outputs": [],
   "source": [
    "nb_result = pd.DataFrame({'alpha':alphas,'score':scores})"
   ]
  },
  {
   "cell_type": "code",
   "execution_count": 458,
   "id": "23ab5af0-6e3a-4009-9b7f-711efe2a765a",
   "metadata": {},
   "outputs": [
    {
     "data": {
      "text/html": [
       "<div>\n",
       "<style scoped>\n",
       "    .dataframe tbody tr th:only-of-type {\n",
       "        vertical-align: middle;\n",
       "    }\n",
       "\n",
       "    .dataframe tbody tr th {\n",
       "        vertical-align: top;\n",
       "    }\n",
       "\n",
       "    .dataframe thead th {\n",
       "        text-align: right;\n",
       "    }\n",
       "</style>\n",
       "<table border=\"1\" class=\"dataframe\">\n",
       "  <thead>\n",
       "    <tr style=\"text-align: right;\">\n",
       "      <th></th>\n",
       "      <th>alpha</th>\n",
       "      <th>score</th>\n",
       "    </tr>\n",
       "  </thead>\n",
       "  <tbody>\n",
       "    <tr>\n",
       "      <th>0</th>\n",
       "      <td>0.001</td>\n",
       "      <td>1.0</td>\n",
       "    </tr>\n",
       "    <tr>\n",
       "      <th>1</th>\n",
       "      <td>0.010</td>\n",
       "      <td>1.0</td>\n",
       "    </tr>\n",
       "  </tbody>\n",
       "</table>\n",
       "</div>"
      ],
      "text/plain": [
       "   alpha  score\n",
       "0  0.001    1.0\n",
       "1  0.010    1.0"
      ]
     },
     "execution_count": 458,
     "metadata": {},
     "output_type": "execute_result"
    }
   ],
   "source": [
    "nb_result.query('score == @nb_result[\"score\"].max()')"
   ]
  },
  {
   "cell_type": "markdown",
   "id": "ed57a9d7-84f4-4654-ba6c-7aed86c3407b",
   "metadata": {},
   "source": [
    "As we can see from the results shown above, the Naive Bayes model performs the best at alpha = 0.001 or 0.01.\n",
    "We will select either one to continue.\n",
    "\n",
    ">Best parameter:\\\n",
    ">alpha: 0.01"
   ]
  },
  {
   "cell_type": "code",
   "execution_count": 514,
   "id": "860f2efe-b796-40eb-b0e3-31f4cf9602bc",
   "metadata": {},
   "outputs": [],
   "source": [
    "nb = CategoricalNB(alpha=0.01,min_categories=[256 for i in range(x_train.shape[1])]).fit(x_train,y_train)"
   ]
  },
  {
   "cell_type": "code",
   "execution_count": 520,
   "id": "fe5fbb25-e9e2-4a14-92f0-348c15ce5249",
   "metadata": {},
   "outputs": [],
   "source": [
    "for i in range(1000):\n",
    "    try:\n",
    "        nb.predict(x_test[i].reshape((1,-1)))\n",
    "    except:\n",
    "        print(i)\n",
    "        continue"
   ]
  },
  {
   "cell_type": "code",
   "execution_count": 521,
   "id": "c367945d-37ad-4602-8c2b-24914c6b8520",
   "metadata": {
    "collapsed": true,
    "jupyter": {
     "outputs_hidden": true
    },
    "tags": []
   },
   "outputs": [
    {
     "data": {
      "text/plain": [
       "array([6, 2, 4, 5, 7, 6, 3, 5, 1, 5, 1, 5, 5, 3, 6, 1, 0, 9, 4, 3, 1, 8,\n",
       "       8, 3, 4, 7, 3, 5, 5, 1, 6, 8, 2, 8, 1, 0, 9, 3, 4, 1, 8, 1, 4, 1,\n",
       "       4, 3, 3, 7, 7, 0, 0, 2, 0, 0, 1, 3, 0, 7, 4, 3, 3, 1, 7, 8, 7, 9,\n",
       "       2, 8, 9, 1, 1, 1, 0, 3, 1, 9, 3, 7, 6, 4, 9, 3, 3, 8, 7, 0, 2, 2,\n",
       "       6, 9, 1, 5, 1, 6, 7, 8, 4, 6, 8, 0, 8, 9, 0, 3, 2, 1, 5, 9, 6, 1,\n",
       "       1, 5, 9, 4, 8, 1, 5, 9, 3, 8, 9, 1, 4, 4, 3, 8, 3, 2, 1, 8, 1, 4,\n",
       "       3, 6, 4, 1, 1, 9, 1, 9, 2, 2, 9, 7, 2, 7, 0, 9, 5, 9, 9, 4, 9, 3,\n",
       "       4, 8, 2, 9, 3, 0, 9, 1, 6, 6, 5, 1, 1, 6, 7, 1, 2, 7, 9, 8, 8, 3,\n",
       "       9, 0, 1, 9, 9, 5, 5, 0, 2, 2, 9, 1, 0, 9, 1, 9, 9, 7, 5, 1, 0, 2,\n",
       "       6, 3, 2, 1, 4, 8, 6, 4, 9, 3, 6, 3, 3, 7, 1, 8, 2, 9, 9, 0, 1, 8,\n",
       "       9, 3, 3, 0, 9, 2, 5, 7, 7, 9, 9, 5, 6, 1, 5, 2, 0, 4, 4, 2, 1, 8,\n",
       "       8, 1, 3, 3, 7, 1, 0, 7, 4, 1, 9, 0, 3, 0, 9, 1, 3, 6, 8, 6, 8, 1,\n",
       "       0, 9, 9, 9, 8, 0, 8, 1, 4, 8, 6, 1, 9, 8, 3, 9, 0, 7, 8, 4, 2, 9,\n",
       "       9, 0, 6, 2, 1, 4, 3, 3, 4, 0, 9, 6, 4, 3, 6, 4, 8, 0, 0, 3, 8, 3,\n",
       "       3, 6, 3, 0, 8, 8, 1, 2, 9, 3, 3, 1, 6, 9, 8, 7, 6, 0, 6, 3, 2, 8,\n",
       "       1, 1, 2, 2, 8, 1, 3, 9, 4, 8, 4, 1, 4, 2, 6, 4, 1, 0, 5, 9, 1, 6,\n",
       "       9, 4, 5, 1, 7, 2, 9, 1, 7, 3, 9, 1, 8, 3, 7, 1, 9, 2, 2, 9, 6, 3,\n",
       "       7, 3, 8, 3, 9, 8, 2, 7, 2, 3, 3, 2, 5, 8, 2, 6, 6, 7, 8, 3, 8, 9,\n",
       "       1, 9, 3, 1, 9, 9, 1, 6, 0, 2, 9, 1, 8, 3, 9, 2, 8, 3, 5, 8, 3, 3,\n",
       "       0, 1, 3, 6, 1, 4, 9, 5, 9, 3, 1, 9, 9, 0, 1, 9, 2, 2, 2, 2, 6, 3,\n",
       "       8, 9, 9, 1, 0, 3, 6, 8, 6, 3, 5, 4, 7, 8, 8, 3, 5, 4, 3, 6, 3, 2,\n",
       "       3, 8, 2, 3, 7, 2, 1, 3, 7, 0, 2, 9, 1, 0, 8, 1, 8, 6, 6, 1, 8, 5,\n",
       "       1, 8, 7, 9, 8, 7, 3, 7, 9, 9, 8, 0, 7, 8, 9, 4, 3, 4, 7, 2, 7, 9,\n",
       "       1, 5, 1, 4, 0, 5, 8, 1, 1, 5, 9, 7, 2, 4, 0, 9, 8, 7, 7, 1, 5, 8,\n",
       "       8, 3, 2, 0, 6, 9, 1, 8, 7, 8, 3, 7, 5, 5, 8, 5, 2, 3, 6, 1, 8, 2,\n",
       "       3, 8, 3, 8, 1, 6, 5, 3, 9, 8, 8, 1, 1, 5, 5, 9, 1, 5, 8, 3, 9, 1,\n",
       "       1, 7, 7, 4, 6, 6, 9, 6, 5, 9, 9, 7, 9, 4, 2, 6, 2, 8, 8, 8, 5, 6,\n",
       "       2, 5, 6, 1, 6, 5, 2, 9, 4, 4, 9, 1, 0, 4, 5, 6, 2, 5, 7, 2, 7, 2,\n",
       "       9, 9, 1, 2, 6, 4, 9, 7, 4, 0, 3, 7, 9, 0, 1, 5, 1, 0, 9, 2, 3, 6,\n",
       "       0, 2, 0, 3, 2, 5, 7, 9, 8, 8, 3, 0, 1, 6, 3, 6, 8, 3, 9, 9, 0, 0,\n",
       "       9, 9, 3, 4, 6, 2, 5, 9, 1, 8, 4, 2, 9, 5, 5, 9, 1, 4, 2, 1, 3, 6,\n",
       "       3, 4, 2, 8, 0, 9, 6, 4, 9, 6, 3, 1, 5, 4, 8, 5, 4, 9, 8, 3, 5, 9,\n",
       "       3, 3, 8, 8, 1, 8, 7, 5, 0, 8, 9, 9, 0, 7, 2, 3, 1, 7, 1, 8, 8, 2,\n",
       "       8, 1, 1, 6, 3, 9, 6, 7, 0, 8, 5, 8, 2, 6, 0, 7, 6, 3, 3, 3, 7, 2,\n",
       "       9, 8, 6, 4, 6, 9, 0, 5, 1, 8, 9, 2, 8, 2, 2, 3, 8, 9, 9, 7, 4, 3,\n",
       "       5, 7, 8, 1, 9, 1, 7, 4, 6, 1, 3, 6, 5, 3, 9, 2, 8, 6, 9, 7, 6, 2,\n",
       "       8, 2, 3, 9, 5, 5, 6, 7, 2, 8, 2, 6, 7, 2, 5, 9, 8, 1, 7, 0, 8, 8,\n",
       "       9, 3, 4, 1, 3, 6, 7, 2, 8, 8, 0, 5, 9, 3, 0, 8, 0, 8, 3, 1, 6, 1,\n",
       "       9, 6, 6, 7, 9, 0, 8, 0, 8, 5, 6, 7, 9, 9, 3, 8, 8, 0, 0, 2, 6, 9,\n",
       "       5, 3, 8, 9, 3, 9, 7, 2, 2, 5, 8, 9, 1, 1, 5, 1, 7, 2, 4, 9, 1, 8,\n",
       "       6, 0, 1, 3, 8, 8, 6, 7, 1, 6, 8, 4, 1, 5, 9, 5, 0, 2, 8, 9, 5, 5,\n",
       "       0, 9, 0, 0, 2, 1, 2, 2, 9, 3, 8, 1, 9, 9, 6, 2, 4, 8, 8, 8, 3, 9,\n",
       "       8, 9, 8, 1, 8, 9, 9, 5, 8, 3, 8, 8, 7, 4, 7, 7, 8, 2, 2, 7, 2, 5,\n",
       "       8, 9, 5, 0, 9, 0, 2, 4, 5, 1, 8, 2, 6, 5, 0, 4, 8, 0, 2, 4, 3, 6,\n",
       "       3, 1, 1, 6, 6, 5, 2, 3, 7, 7, 1, 1, 2, 7, 9, 7, 9, 6, 1, 4, 9, 6,\n",
       "       0, 0, 4, 5, 7, 0, 9, 9, 7, 2], dtype=int64)"
      ]
     },
     "execution_count": 521,
     "metadata": {},
     "output_type": "execute_result"
    }
   ],
   "source": [
    "nb_yhat_test = nb.predict(x_test)\n",
    "nb_yhat_test"
   ]
  },
  {
   "cell_type": "code",
   "execution_count": 522,
   "id": "f7d5bcaf-c1bc-43e4-9be3-35f67a23fb0b",
   "metadata": {
    "collapsed": true,
    "jupyter": {
     "outputs_hidden": true
    },
    "tags": []
   },
   "outputs": [
    {
     "data": {
      "text/plain": [
       "array([6, 2, 7, 5, 7, 6, 3, 5, 1, 3, 1, 2, 5, 3, 6, 1, 0, 9, 4, 3, 1, 5,\n",
       "       8, 3, 4, 7, 3, 6, 5, 1, 6, 9, 2, 1, 1, 0, 7, 3, 4, 1, 5, 1, 7, 1,\n",
       "       4, 9, 5, 7, 7, 0, 0, 7, 0, 0, 1, 3, 9, 7, 4, 3, 5, 1, 7, 8, 5, 9,\n",
       "       4, 0, 7, 1, 1, 1, 0, 3, 1, 9, 3, 7, 6, 4, 9, 2, 3, 8, 7, 0, 2, 2,\n",
       "       6, 9, 6, 5, 1, 6, 7, 8, 4, 6, 8, 0, 8, 7, 0, 6, 2, 1, 0, 9, 6, 1,\n",
       "       1, 0, 9, 3, 8, 1, 2, 9, 0, 5, 9, 1, 4, 4, 3, 8, 3, 2, 1, 7, 1, 2,\n",
       "       3, 6, 4, 1, 7, 9, 5, 8, 2, 2, 8, 7, 1, 9, 9, 9, 5, 4, 9, 9, 9, 3,\n",
       "       4, 8, 2, 9, 5, 0, 9, 1, 6, 4, 5, 1, 7, 6, 7, 8, 2, 7, 8, 2, 2, 2,\n",
       "       7, 0, 1, 7, 9, 3, 5, 0, 2, 2, 9, 1, 0, 9, 1, 9, 4, 7, 5, 1, 0, 2,\n",
       "       6, 3, 2, 1, 4, 8, 6, 4, 4, 3, 6, 3, 3, 7, 1, 8, 2, 9, 9, 0, 1, 8,\n",
       "       4, 3, 3, 0, 9, 2, 5, 7, 9, 9, 9, 5, 6, 1, 5, 2, 0, 9, 4, 2, 1, 5,\n",
       "       7, 1, 3, 5, 7, 1, 0, 7, 4, 1, 7, 0, 5, 0, 7, 1, 5, 5, 8, 6, 9, 1,\n",
       "       0, 4, 9, 9, 5, 0, 8, 1, 9, 8, 6, 1, 9, 2, 3, 7, 8, 7, 2, 4, 3, 4,\n",
       "       9, 0, 6, 2, 1, 4, 3, 3, 4, 0, 9, 6, 2, 3, 6, 4, 8, 0, 0, 3, 8, 3,\n",
       "       3, 6, 0, 2, 5, 8, 1, 2, 9, 3, 3, 1, 6, 4, 8, 7, 6, 0, 6, 3, 2, 8,\n",
       "       1, 1, 6, 2, 8, 1, 3, 9, 4, 8, 4, 1, 4, 2, 6, 4, 1, 5, 5, 4, 1, 6,\n",
       "       9, 4, 5, 1, 7, 2, 8, 1, 7, 3, 9, 5, 8, 5, 7, 1, 7, 2, 4, 7, 6, 3,\n",
       "       7, 5, 4, 3, 9, 2, 2, 7, 2, 5, 3, 2, 5, 8, 2, 5, 6, 7, 8, 2, 1, 9,\n",
       "       1, 9, 3, 1, 9, 2, 1, 6, 0, 2, 9, 1, 8, 3, 9, 0, 8, 3, 9, 3, 3, 3,\n",
       "       0, 1, 5, 2, 7, 4, 7, 2, 5, 3, 1, 3, 9, 0, 1, 9, 2, 2, 6, 2, 6, 3,\n",
       "       2, 4, 9, 7, 0, 3, 6, 8, 6, 5, 8, 4, 7, 8, 2, 5, 9, 2, 3, 6, 3, 2,\n",
       "       3, 5, 2, 3, 7, 2, 1, 3, 7, 0, 2, 9, 1, 5, 8, 1, 8, 6, 6, 1, 8, 5,\n",
       "       1, 8, 7, 9, 1, 7, 3, 7, 9, 4, 8, 0, 7, 8, 9, 4, 3, 4, 2, 2, 7, 7,\n",
       "       1, 5, 1, 4, 0, 3, 0, 1, 1, 5, 7, 7, 9, 4, 0, 4, 8, 7, 7, 1, 5, 7,\n",
       "       2, 8, 2, 0, 6, 9, 1, 2, 7, 7, 3, 7, 5, 5, 2, 5, 2, 0, 2, 1, 7, 6,\n",
       "       3, 8, 3, 8, 1, 6, 0, 3, 4, 5, 3, 1, 1, 5, 5, 9, 1, 5, 3, 8, 9, 1,\n",
       "       6, 7, 9, 4, 6, 6, 9, 6, 5, 9, 9, 7, 9, 4, 2, 6, 2, 8, 3, 5, 5, 6,\n",
       "       2, 4, 6, 1, 9, 3, 2, 9, 4, 4, 9, 2, 0, 4, 3, 2, 2, 5, 7, 5, 7, 2,\n",
       "       9, 9, 9, 3, 6, 4, 9, 7, 4, 0, 3, 7, 9, 0, 1, 5, 1, 0, 4, 2, 3, 2,\n",
       "       0, 2, 0, 3, 2, 5, 7, 9, 8, 8, 3, 0, 1, 6, 3, 6, 8, 3, 4, 4, 0, 0,\n",
       "       9, 9, 3, 4, 6, 3, 0, 5, 1, 8, 4, 4, 9, 5, 9, 4, 1, 4, 2, 1, 3, 6,\n",
       "       3, 4, 2, 8, 0, 4, 6, 4, 4, 6, 3, 1, 3, 4, 8, 5, 4, 8, 4, 8, 5, 9,\n",
       "       3, 3, 8, 3, 1, 8, 7, 5, 0, 8, 9, 7, 0, 7, 2, 3, 1, 2, 1, 8, 3, 3,\n",
       "       3, 1, 1, 6, 3, 5, 6, 5, 0, 8, 5, 8, 2, 6, 0, 7, 6, 5, 3, 5, 7, 2,\n",
       "       4, 8, 6, 4, 6, 7, 0, 5, 1, 5, 0, 2, 8, 2, 2, 3, 8, 3, 9, 7, 4, 0,\n",
       "       3, 7, 8, 1, 3, 1, 7, 4, 6, 1, 3, 6, 5, 5, 9, 2, 3, 6, 9, 7, 6, 2,\n",
       "       8, 2, 3, 4, 5, 5, 6, 7, 2, 2, 2, 4, 9, 2, 5, 7, 0, 8, 7, 0, 8, 1,\n",
       "       4, 5, 4, 1, 8, 6, 7, 2, 8, 8, 0, 5, 9, 3, 0, 9, 0, 8, 3, 1, 6, 1,\n",
       "       9, 6, 4, 3, 9, 0, 8, 0, 8, 5, 6, 7, 9, 4, 3, 2, 1, 0, 0, 2, 6, 7,\n",
       "       5, 8, 8, 7, 3, 9, 7, 2, 2, 5, 8, 9, 1, 1, 5, 1, 7, 5, 4, 9, 1, 5,\n",
       "       6, 0, 1, 8, 8, 8, 6, 7, 1, 6, 8, 4, 1, 5, 4, 5, 0, 3, 6, 9, 5, 5,\n",
       "       0, 9, 0, 0, 2, 7, 2, 2, 9, 3, 2, 1, 9, 5, 6, 0, 4, 8, 5, 8, 3, 9,\n",
       "       8, 9, 5, 1, 2, 4, 9, 6, 8, 5, 3, 8, 7, 4, 7, 7, 4, 2, 2, 7, 2, 5,\n",
       "       9, 9, 5, 0, 9, 0, 2, 4, 5, 1, 6, 2, 6, 5, 0, 8, 1, 2, 2, 4, 3, 6,\n",
       "       3, 1, 1, 6, 6, 8, 2, 3, 7, 7, 1, 1, 8, 7, 9, 7, 5, 6, 1, 4, 9, 6,\n",
       "       0, 0, 4, 5, 7, 8, 9, 9, 7, 2], dtype=int64)"
      ]
     },
     "execution_count": 522,
     "metadata": {},
     "output_type": "execute_result"
    }
   ],
   "source": [
    "y_test"
   ]
  },
  {
   "cell_type": "code",
   "execution_count": 523,
   "id": "2980c5a4-c3fa-47a1-9c6d-6024449189eb",
   "metadata": {},
   "outputs": [],
   "source": [
    "nb_score_test,nb_result_test = scoring(nb_yhat_test,y_test)"
   ]
  },
  {
   "cell_type": "code",
   "execution_count": 524,
   "id": "8b198fff-2775-41c1-8a9e-2fcf83a49768",
   "metadata": {},
   "outputs": [
    {
     "name": "stdout",
     "output_type": "stream",
     "text": [
      "Score: 0.761\n",
      "Result:\n",
      "pred -> true\n"
     ]
    },
    {
     "data": {
      "text/plain": [
       "9 -> 4    24\n",
       "9 -> 7    18\n",
       "3 -> 5    17\n",
       "8 -> 2    14\n",
       "8 -> 5    13\n",
       "Name: comb, dtype: int64"
      ]
     },
     "metadata": {},
     "output_type": "display_data"
    }
   ],
   "source": [
    "print('Score:',nb_score_test)\n",
    "print('Result:')\n",
    "print('pred -> true')\n",
    "display(nb_result_test)"
   ]
  },
  {
   "cell_type": "markdown",
   "id": "c0462ee8-4b56-4c5d-a0fa-966299215957",
   "metadata": {},
   "source": [
    "Although this Naive Bayes model has 100% accuracy against the training dataset, but when it comes to test dataset, it only gives 76.1% accuracy.\\\n",
    "There might be a possibility where the accuracy can increase if we give more samples as training data, but this also applies the same to other machine learning model as well."
   ]
  },
  {
   "cell_type": "markdown",
   "id": "e5f3315e-5082-4594-b542-f54944dd9c31",
   "metadata": {
    "tags": []
   },
   "source": [
    "### Export the model\n",
    "\n",
    "We will use pd.to_pickle to export the trained model as pickle file, so we can reuse the trained model next time without retraining"
   ]
  },
  {
   "cell_type": "code",
   "execution_count": 567,
   "id": "ca8af489-691d-496d-bda0-0dc351a3822e",
   "metadata": {},
   "outputs": [],
   "source": [
    "pd.to_pickle(knn,\"Trained Models\\\\nb.pkl\")"
   ]
  },
  {
   "cell_type": "markdown",
   "id": "a3c58682-0aab-4ba5-88e7-fcad1f0c76dd",
   "metadata": {},
   "source": [
    "# Conclusion"
   ]
  },
  {
   "cell_type": "markdown",
   "id": "e138a9c0-806c-4aee-8471-e774afabf168",
   "metadata": {},
   "source": [
    "Results:"
   ]
  },
  {
   "cell_type": "code",
   "execution_count": 527,
   "id": "6131a1ff-5fb2-47b4-ac9a-4e937d806e66",
   "metadata": {},
   "outputs": [
    {
     "data": {
      "text/html": [
       "<div>\n",
       "<style scoped>\n",
       "    .dataframe tbody tr th:only-of-type {\n",
       "        vertical-align: middle;\n",
       "    }\n",
       "\n",
       "    .dataframe tbody tr th {\n",
       "        vertical-align: top;\n",
       "    }\n",
       "\n",
       "    .dataframe thead th {\n",
       "        text-align: right;\n",
       "    }\n",
       "</style>\n",
       "<table border=\"1\" class=\"dataframe\">\n",
       "  <thead>\n",
       "    <tr style=\"text-align: right;\">\n",
       "      <th></th>\n",
       "      <th>model</th>\n",
       "      <th>score</th>\n",
       "    </tr>\n",
       "  </thead>\n",
       "  <tbody>\n",
       "    <tr>\n",
       "      <th>2</th>\n",
       "      <td>SVM</td>\n",
       "      <td>0.956</td>\n",
       "    </tr>\n",
       "    <tr>\n",
       "      <th>1</th>\n",
       "      <td>KNN</td>\n",
       "      <td>0.935</td>\n",
       "    </tr>\n",
       "    <tr>\n",
       "      <th>3</th>\n",
       "      <td>Naive Bayes</td>\n",
       "      <td>0.761</td>\n",
       "    </tr>\n",
       "    <tr>\n",
       "      <th>0</th>\n",
       "      <td>KMeans</td>\n",
       "      <td>0.716</td>\n",
       "    </tr>\n",
       "  </tbody>\n",
       "</table>\n",
       "</div>"
      ],
      "text/plain": [
       "         model  score\n",
       "2          SVM  0.956\n",
       "1          KNN  0.935\n",
       "3  Naive Bayes  0.761\n",
       "0       KMeans  0.716"
      ]
     },
     "metadata": {},
     "output_type": "display_data"
    }
   ],
   "source": [
    "models = ['KMeans','KNN','SVM','Naive Bayes']\n",
    "final_scores = [kmeans_score_test,knn_score_test,svc_score_test,nb_score_test]\n",
    "final_results = pd.DataFrame({'model':models,'score':final_scores})\n",
    "display(final_results.sort_values('score',ascending=False))"
   ]
  },
  {
   "cell_type": "code",
   "execution_count": 566,
   "id": "0c97283d-1149-4521-816c-d7433eaaf0eb",
   "metadata": {},
   "outputs": [
    {
     "data": {
      "image/png": "[encoded data removed]",
      "text/plain": [
       "<Figure size 720x432 with 1 Axes>"
      ]
     },
     "metadata": {
      "needs_background": "light"
     },
     "output_type": "display_data"
    }
   ],
   "source": [
    "plt.figure(figsize=(10,6))\n",
    "plt.bar(models,final_scores,color=['b','y','g','r'])\n",
    "plt.plot([-0.5,3.5],[max(final_scores) for i in range(2)],c='r')\n",
    "plt.text(-0.75,max(final_scores)-0.01,max(final_scores))\n",
    "plt.title(\"Different ML models and the score\")\n",
    "plt.xlabel(\"ML models\")\n",
    "plt.ylabel(\"Scores\")\n",
    "plt.xlim(-0.5,3.5)\n",
    "plt.show()"
   ]
  },
  {
   "cell_type": "markdown",
   "id": "c4ae120f-00f6-4bd4-8fa8-ccd5a110dc47",
   "metadata": {},
   "source": [
    "As such, we have high confidence to believe that SVM is the best model for addressing this problem of recognizing hand written digits."
   ]
  }
 ],
 "metadata": {
  "colab": {
   "collapsed_sections": [],
   "name": "02 The k-Means Algorithm.ipynb",
   "provenance": [],
   "toc_visible": true
  },
  "kernelspec": {
   "display_name": "Python 3 (ipykernel)",
   "language": "python",
   "name": "python3"
  },
  "language_info": {
   "codemirror_mode": {
    "name": "ipython",
    "version": 3
   },
   "file_extension": ".py",
   "mimetype": "text/x-python",
   "name": "python",
   "nbconvert_exporter": "python",
   "pygments_lexer": "ipython3",
   "version": "3.10.3"
  }
 },
 "nbformat": 4,
 "nbformat_minor": 5
}
